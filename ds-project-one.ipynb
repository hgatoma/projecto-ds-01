{
 "cells": [
  {
   "cell_type": "markdown",
   "id": "5bb437f5-3e42-4fe8-a197-e2d7b10bdc78",
   "metadata": {},
   "source": [
    "# Demostração do Numpy\n",
    "### Disciplina de Ciência de Dados"
   ]
  },
  {
   "cell_type": "markdown",
   "id": "dc70d8fe-7452-4ae2-bd2d-ff9207b2ff77",
   "metadata": {
    "tags": []
   },
   "source": [
    "#### Importação de Bibliotecas"
   ]
  },
  {
   "cell_type": "code",
   "execution_count": 14,
   "id": "0da1b172-32a4-4677-8f17-b5b7961c7acd",
   "metadata": {
    "tags": []
   },
   "outputs": [],
   "source": [
    "import numpy as np"
   ]
  },
  {
   "cell_type": "markdown",
   "id": "750c4c71-9f5a-42c1-ab01-4a366aa73049",
   "metadata": {},
   "source": [
    "### Gerar dados aliatorios"
   ]
  },
  {
   "cell_type": "markdown",
   "id": "a1836784-0260-4298-85c7-0b0142a0e870",
   "metadata": {},
   "source": [
    "#### Gerar um NDArray de 2x3 (duas listas com 3 elementos)"
   ]
  },
  {
   "cell_type": "code",
   "execution_count": 19,
   "id": "4645bf95-b37a-4c41-85ab-4eae9c174499",
   "metadata": {
    "tags": []
   },
   "outputs": [
    {
     "data": {
      "text/plain": [
       "array([[0.0173815 , 0.7778883 , 0.12078748],\n",
       "       [0.05640311, 0.68001821, 0.56788525]])"
      ]
     },
     "execution_count": 19,
     "metadata": {},
     "output_type": "execute_result"
    }
   ],
   "source": [
    "dados = np.random.rand(2, 3)\n",
    "dados"
   ]
  },
  {
   "cell_type": "markdown",
   "id": "ed5b8d26-b997-4313-aafc-8edde5949218",
   "metadata": {},
   "source": [
    "#### Tipo de Array"
   ]
  },
  {
   "cell_type": "code",
   "execution_count": 24,
   "id": "bf9ea0d6-cf4b-44f0-9fd4-838963225643",
   "metadata": {
    "tags": []
   },
   "outputs": [
    {
     "data": {
      "text/plain": [
       "dtype('float64')"
      ]
     },
     "execution_count": 24,
     "metadata": {},
     "output_type": "execute_result"
    }
   ],
   "source": [
    "dados.dtype"
   ]
  },
  {
   "cell_type": "markdown",
   "id": "77765f1c-1529-4f64-9235-48a8f6a018e8",
   "metadata": {},
   "source": [
    "#### Tamanho e quantidade de dimensões"
   ]
  },
  {
   "cell_type": "code",
   "execution_count": 29,
   "id": "767e9867-e441-4ff7-bcf7-ba2644ddd3e7",
   "metadata": {
    "tags": []
   },
   "outputs": [
    {
     "data": {
      "text/plain": [
       "(2, 3)"
      ]
     },
     "execution_count": 29,
     "metadata": {},
     "output_type": "execute_result"
    }
   ],
   "source": [
    "dados.shape"
   ]
  },
  {
   "cell_type": "code",
   "execution_count": 31,
   "id": "d2a241a6-fa07-460d-aa69-8abca3bb8140",
   "metadata": {
    "tags": []
   },
   "outputs": [
    {
     "data": {
      "text/plain": [
       "2"
      ]
     },
     "execution_count": 31,
     "metadata": {},
     "output_type": "execute_result"
    }
   ],
   "source": [
    "dados.ndim"
   ]
  },
  {
   "cell_type": "markdown",
   "id": "022a4e14-b465-4881-8437-ae3c044e0493",
   "metadata": {},
   "source": [
    " ### Criar ndarry usando a função arry\n",
    " #### Ao criar o arry, a função tenta utilizar o melhor tipo de dado"
   ]
  },
  {
   "cell_type": "code",
   "execution_count": 34,
   "id": "75d96f9d-0639-43d6-a0a9-5ab7b7a0a4bc",
   "metadata": {
    "tags": []
   },
   "outputs": [],
   "source": [
    "lista = [1, 2, 5, 7.8, 1.25]"
   ]
  },
  {
   "cell_type": "code",
   "execution_count": 40,
   "id": "e90dc89a-681f-4b99-95e3-d2a7ecf4bdc1",
   "metadata": {
    "tags": []
   },
   "outputs": [
    {
     "data": {
      "text/plain": [
       "array([1.  , 2.  , 5.  , 7.8 , 1.25])"
      ]
     },
     "execution_count": 40,
     "metadata": {},
     "output_type": "execute_result"
    }
   ],
   "source": [
    "dados2 = np.array(lista)\n",
    "dados2"
   ]
  },
  {
   "cell_type": "code",
   "execution_count": 44,
   "id": "aeb5bba4-372e-4876-beda-fe7e58a8ed1d",
   "metadata": {
    "tags": []
   },
   "outputs": [],
   "source": [
    "lista2 = [[1, 2, 3, 4], [4, 3, 2, 1]]"
   ]
  },
  {
   "cell_type": "code",
   "execution_count": 50,
   "id": "9b03bb77-9abe-463a-af8e-8978c0567524",
   "metadata": {
    "tags": []
   },
   "outputs": [
    {
     "data": {
      "text/plain": [
       "array([[1, 2, 3, 4],\n",
       "       [4, 3, 2, 1]])"
      ]
     },
     "execution_count": 50,
     "metadata": {},
     "output_type": "execute_result"
    }
   ],
   "source": [
    "dados3 = np.array(lista2)\n",
    "dados3"
   ]
  },
  {
   "cell_type": "markdown",
   "id": "4fab98d2-4362-42a1-96c5-c48e6010ddc0",
   "metadata": {},
   "source": [
    "### Outras maneiras de criar arrays"
   ]
  },
  {
   "cell_type": "code",
   "execution_count": 55,
   "id": "44765672-758d-42a7-8c3e-deb5ad55aa54",
   "metadata": {
    "tags": []
   },
   "outputs": [
    {
     "data": {
      "text/plain": [
       "array([0., 0., 0., 0., 0., 0., 0., 0., 0., 0.])"
      ]
     },
     "execution_count": 55,
     "metadata": {},
     "output_type": "execute_result"
    }
   ],
   "source": [
    "# Criar array de 10 posicoes com todos valores zeros\n",
    "dadoszero = np.zeros(10)\n",
    "dadoszero"
   ]
  },
  {
   "cell_type": "code",
   "execution_count": 57,
   "id": "bfb5454d-a6fa-4f5d-8a9d-34452f5eeaaf",
   "metadata": {
    "tags": []
   },
   "outputs": [
    {
     "data": {
      "text/plain": [
       "array([[0., 0., 0.],\n",
       "       [0., 0., 0.]])"
      ]
     },
     "execution_count": 57,
     "metadata": {},
     "output_type": "execute_result"
    }
   ],
   "source": [
    "dadoszero2 = np.zeros((2, 3))\n",
    "dadoszero2"
   ]
  },
  {
   "cell_type": "code",
   "execution_count": 61,
   "id": "0b8811c8-15b7-4f53-bee3-168b9210ed6b",
   "metadata": {
    "tags": []
   },
   "outputs": [
    {
     "data": {
      "text/plain": [
       "array([1., 1., 1., 1., 1.])"
      ]
     },
     "execution_count": 61,
     "metadata": {},
     "output_type": "execute_result"
    }
   ],
   "source": [
    "dadosum = np.ones(5)\n",
    "dadosum"
   ]
  },
  {
   "cell_type": "code",
   "execution_count": 65,
   "id": "902e13e3-df07-4124-9192-07da93941ec7",
   "metadata": {
    "tags": []
   },
   "outputs": [
    {
     "data": {
      "text/plain": [
       "array([[1., 1., 1.],\n",
       "       [1., 1., 1.]])"
      ]
     },
     "execution_count": 65,
     "metadata": {},
     "output_type": "execute_result"
    }
   ],
   "source": [
    "dadosum2 = np.ones((2, 3))\n",
    "dadosum2"
   ]
  },
  {
   "cell_type": "markdown",
   "id": "49bdfa04-7eeb-40c6-87b7-5572d7aa6e6c",
   "metadata": {},
   "source": [
    "#### Criando valores sequencias"
   ]
  },
  {
   "cell_type": "code",
   "execution_count": 70,
   "id": "4d4b904c-6193-4587-bc67-2fd591974288",
   "metadata": {
    "tags": []
   },
   "outputs": [
    {
     "data": {
      "text/plain": [
       "array([0, 1, 2, 3, 4, 5, 6, 7, 8, 9])"
      ]
     },
     "execution_count": 70,
     "metadata": {},
     "output_type": "execute_result"
    }
   ],
   "source": [
    "dadoseq = np.arange(10) \n",
    "dadoseq"
   ]
  },
  {
   "cell_type": "code",
   "execution_count": 72,
   "id": "6eb75897-6053-4974-b3d6-8bb90dde3c72",
   "metadata": {
    "tags": []
   },
   "outputs": [
    {
     "data": {
      "text/plain": [
       "array([ 0,  2,  4,  6,  8, 10, 12, 14, 16, 18])"
      ]
     },
     "execution_count": 72,
     "metadata": {},
     "output_type": "execute_result"
    }
   ],
   "source": [
    "dadoseq2 = np.arange(0, 20, 2)\n",
    "dadoseq2"
   ]
  },
  {
   "cell_type": "code",
   "execution_count": 76,
   "id": "14662e95-51ac-4747-ac0a-b0ce0084872a",
   "metadata": {
    "tags": []
   },
   "outputs": [
    {
     "data": {
      "text/plain": [
       "dtype('int32')"
      ]
     },
     "execution_count": 76,
     "metadata": {},
     "output_type": "execute_result"
    }
   ],
   "source": [
    "dadoseq2.dtype"
   ]
  },
  {
   "cell_type": "code",
   "execution_count": 78,
   "id": "5f502592-0792-4b08-a2dc-0aa79f031f50",
   "metadata": {
    "tags": []
   },
   "outputs": [
    {
     "data": {
      "text/plain": [
       "array([0., 1., 2., 3., 4., 5., 6., 7., 8., 9.])"
      ]
     },
     "execution_count": 78,
     "metadata": {},
     "output_type": "execute_result"
    }
   ],
   "source": [
    "dadoseqf = dadoseq.astype(np.float64)\n",
    "dadoseqf"
   ]
  },
  {
   "cell_type": "code",
   "execution_count": 80,
   "id": "8c3eb25c-6036-4b18-8812-107aa712e3a4",
   "metadata": {
    "tags": []
   },
   "outputs": [
    {
     "data": {
      "text/plain": [
       "dtype('float64')"
      ]
     },
     "execution_count": 80,
     "metadata": {},
     "output_type": "execute_result"
    }
   ],
   "source": [
    "dadoseqf.dtype"
   ]
  },
  {
   "cell_type": "markdown",
   "id": "783cb055-7926-4e9e-90e1-f90ef9dc439c",
   "metadata": {},
   "source": [
    "## Aritmética com Arrays"
   ]
  },
  {
   "cell_type": "code",
   "execution_count": 85,
   "id": "f0599815-6261-42be-9203-ebaeee5f5204",
   "metadata": {
    "tags": []
   },
   "outputs": [
    {
     "data": {
      "text/plain": [
       "array([[1, 2, 3],\n",
       "       [4, 5, 6]])"
      ]
     },
     "execution_count": 85,
     "metadata": {},
     "output_type": "execute_result"
    }
   ],
   "source": [
    "dados4 = np.array([[1, 2, 3], [4, 5, 6]])\n",
    "dados4"
   ]
  },
  {
   "cell_type": "code",
   "execution_count": null,
   "id": "001f48a4-f8a3-4a4f-b797-816e551159aa",
   "metadata": {},
   "outputs": [],
   "source": []
  }
 ],
 "metadata": {
  "kernelspec": {
   "display_name": "Python 3 (ipykernel)",
   "language": "python",
   "name": "python3"
  },
  "language_info": {
   "codemirror_mode": {
    "name": "ipython",
    "version": 3
   },
   "file_extension": ".py",
   "mimetype": "text/x-python",
   "name": "python",
   "nbconvert_exporter": "python",
   "pygments_lexer": "ipython3",
   "version": "3.9.18"
  }
 },
 "nbformat": 4,
 "nbformat_minor": 5
}
