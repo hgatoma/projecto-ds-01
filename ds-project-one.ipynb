{
 "cells": [
  {
   "cell_type": "markdown",
   "id": "5bb437f5-3e42-4fe8-a197-e2d7b10bdc78",
   "metadata": {},
   "source": [
    "# Demostração do Numpy\n",
    "### Disciplina de Ciência de Dados"
   ]
  },
  {
   "cell_type": "markdown",
   "id": "dc70d8fe-7452-4ae2-bd2d-ff9207b2ff77",
   "metadata": {
    "tags": []
   },
   "source": [
    "#### Importação de Bibliotecas"
   ]
  },
  {
   "cell_type": "code",
   "execution_count": 14,
   "id": "0da1b172-32a4-4677-8f17-b5b7961c7acd",
   "metadata": {
    "tags": []
   },
   "outputs": [],
   "source": [
    "import numpy as np"
   ]
  },
  {
   "cell_type": "markdown",
   "id": "750c4c71-9f5a-42c1-ab01-4a366aa73049",
   "metadata": {},
   "source": [
    "### Gerar dados aliatorios"
   ]
  },
  {
   "cell_type": "markdown",
   "id": "a1836784-0260-4298-85c7-0b0142a0e870",
   "metadata": {},
   "source": [
    "#### Gerar um NDArray de 2x3 (duas listas com 3 elementos)"
   ]
  },
  {
   "cell_type": "code",
   "execution_count": 19,
   "id": "4645bf95-b37a-4c41-85ab-4eae9c174499",
   "metadata": {
    "tags": []
   },
   "outputs": [
    {
     "data": {
      "text/plain": [
       "array([[0.0173815 , 0.7778883 , 0.12078748],\n",
       "       [0.05640311, 0.68001821, 0.56788525]])"
      ]
     },
     "execution_count": 19,
     "metadata": {},
     "output_type": "execute_result"
    }
   ],
   "source": [
    "dados = np.random.rand(2, 3)\n",
    "dados"
   ]
  },
  {
   "cell_type": "markdown",
   "id": "ed5b8d26-b997-4313-aafc-8edde5949218",
   "metadata": {},
   "source": [
    "#### Tipo de Array"
   ]
  },
  {
   "cell_type": "code",
   "execution_count": 24,
   "id": "bf9ea0d6-cf4b-44f0-9fd4-838963225643",
   "metadata": {
    "tags": []
   },
   "outputs": [
    {
     "data": {
      "text/plain": [
       "dtype('float64')"
      ]
     },
     "execution_count": 24,
     "metadata": {},
     "output_type": "execute_result"
    }
   ],
   "source": [
    "dados.dtype"
   ]
  },
  {
   "cell_type": "markdown",
   "id": "77765f1c-1529-4f64-9235-48a8f6a018e8",
   "metadata": {},
   "source": [
    "#### Tamanho e quantidade de dimensões"
   ]
  },
  {
   "cell_type": "code",
   "execution_count": 29,
   "id": "767e9867-e441-4ff7-bcf7-ba2644ddd3e7",
   "metadata": {
    "tags": []
   },
   "outputs": [
    {
     "data": {
      "text/plain": [
       "(2, 3)"
      ]
     },
     "execution_count": 29,
     "metadata": {},
     "output_type": "execute_result"
    }
   ],
   "source": [
    "dados.shape"
   ]
  },
  {
   "cell_type": "code",
   "execution_count": 31,
   "id": "d2a241a6-fa07-460d-aa69-8abca3bb8140",
   "metadata": {
    "tags": []
   },
   "outputs": [
    {
     "data": {
      "text/plain": [
       "2"
      ]
     },
     "execution_count": 31,
     "metadata": {},
     "output_type": "execute_result"
    }
   ],
   "source": [
    "dados.ndim"
   ]
  },
  {
   "cell_type": "markdown",
   "id": "022a4e14-b465-4881-8437-ae3c044e0493",
   "metadata": {},
   "source": [
    " ### Criar ndarry usando a função arry\n",
    " #### Ao criar o arry, a função tenta utilizar o melhor tipo de dado"
   ]
  },
  {
   "cell_type": "code",
   "execution_count": 34,
   "id": "75d96f9d-0639-43d6-a0a9-5ab7b7a0a4bc",
   "metadata": {
    "tags": []
   },
   "outputs": [],
   "source": [
    "lista = [1, 2, 5, 7.8, 1.25]"
   ]
  },
  {
   "cell_type": "code",
   "execution_count": 40,
   "id": "e90dc89a-681f-4b99-95e3-d2a7ecf4bdc1",
   "metadata": {
    "tags": []
   },
   "outputs": [
    {
     "data": {
      "text/plain": [
       "array([1.  , 2.  , 5.  , 7.8 , 1.25])"
      ]
     },
     "execution_count": 40,
     "metadata": {},
     "output_type": "execute_result"
    }
   ],
   "source": [
    "dados2 = np.array(lista)\n",
    "dados2"
   ]
  },
  {
   "cell_type": "code",
   "execution_count": 44,
   "id": "aeb5bba4-372e-4876-beda-fe7e58a8ed1d",
   "metadata": {
    "tags": []
   },
   "outputs": [],
   "source": [
    "lista2 = [[1, 2, 3, 4], [4, 3, 2, 1]]"
   ]
  },
  {
   "cell_type": "code",
   "execution_count": 50,
   "id": "9b03bb77-9abe-463a-af8e-8978c0567524",
   "metadata": {
    "tags": []
   },
   "outputs": [
    {
     "data": {
      "text/plain": [
       "array([[1, 2, 3, 4],\n",
       "       [4, 3, 2, 1]])"
      ]
     },
     "execution_count": 50,
     "metadata": {},
     "output_type": "execute_result"
    }
   ],
   "source": [
    "dados3 = np.array(lista2)\n",
    "dados3"
   ]
  },
  {
   "cell_type": "markdown",
   "id": "4fab98d2-4362-42a1-96c5-c48e6010ddc0",
   "metadata": {},
   "source": [
    "### Outras maneiras de criar arrays"
   ]
  },
  {
   "cell_type": "code",
   "execution_count": 55,
   "id": "44765672-758d-42a7-8c3e-deb5ad55aa54",
   "metadata": {
    "tags": []
   },
   "outputs": [
    {
     "data": {
      "text/plain": [
       "array([0., 0., 0., 0., 0., 0., 0., 0., 0., 0.])"
      ]
     },
     "execution_count": 55,
     "metadata": {},
     "output_type": "execute_result"
    }
   ],
   "source": [
    "# Criar array de 10 posicoes com todos valores zeros\n",
    "dadoszero = np.zeros(10)\n",
    "dadoszero"
   ]
  },
  {
   "cell_type": "code",
   "execution_count": 57,
   "id": "bfb5454d-a6fa-4f5d-8a9d-34452f5eeaaf",
   "metadata": {
    "tags": []
   },
   "outputs": [
    {
     "data": {
      "text/plain": [
       "array([[0., 0., 0.],\n",
       "       [0., 0., 0.]])"
      ]
     },
     "execution_count": 57,
     "metadata": {},
     "output_type": "execute_result"
    }
   ],
   "source": [
    "dadoszero2 = np.zeros((2, 3))\n",
    "dadoszero2"
   ]
  },
  {
   "cell_type": "code",
   "execution_count": 61,
   "id": "0b8811c8-15b7-4f53-bee3-168b9210ed6b",
   "metadata": {
    "tags": []
   },
   "outputs": [
    {
     "data": {
      "text/plain": [
       "array([1., 1., 1., 1., 1.])"
      ]
     },
     "execution_count": 61,
     "metadata": {},
     "output_type": "execute_result"
    }
   ],
   "source": [
    "dadosum = np.ones(5)\n",
    "dadosum"
   ]
  },
  {
   "cell_type": "code",
   "execution_count": 65,
   "id": "902e13e3-df07-4124-9192-07da93941ec7",
   "metadata": {
    "tags": []
   },
   "outputs": [
    {
     "data": {
      "text/plain": [
       "array([[1., 1., 1.],\n",
       "       [1., 1., 1.]])"
      ]
     },
     "execution_count": 65,
     "metadata": {},
     "output_type": "execute_result"
    }
   ],
   "source": [
    "dadosum2 = np.ones((2, 3))\n",
    "dadosum2"
   ]
  },
  {
   "cell_type": "markdown",
   "id": "49bdfa04-7eeb-40c6-87b7-5572d7aa6e6c",
   "metadata": {},
   "source": [
    "#### Criando valores sequencias"
   ]
  },
  {
   "cell_type": "code",
   "execution_count": 70,
   "id": "4d4b904c-6193-4587-bc67-2fd591974288",
   "metadata": {
    "tags": []
   },
   "outputs": [
    {
     "data": {
      "text/plain": [
       "array([0, 1, 2, 3, 4, 5, 6, 7, 8, 9])"
      ]
     },
     "execution_count": 70,
     "metadata": {},
     "output_type": "execute_result"
    }
   ],
   "source": [
    "dadoseq = np.arange(10) \n",
    "dadoseq"
   ]
  },
  {
   "cell_type": "code",
   "execution_count": 72,
   "id": "6eb75897-6053-4974-b3d6-8bb90dde3c72",
   "metadata": {
    "tags": []
   },
   "outputs": [
    {
     "data": {
      "text/plain": [
       "array([ 0,  2,  4,  6,  8, 10, 12, 14, 16, 18])"
      ]
     },
     "execution_count": 72,
     "metadata": {},
     "output_type": "execute_result"
    }
   ],
   "source": [
    "dadoseq2 = np.arange(0, 20, 2)\n",
    "dadoseq2"
   ]
  },
  {
   "cell_type": "code",
   "execution_count": 76,
   "id": "14662e95-51ac-4747-ac0a-b0ce0084872a",
   "metadata": {
    "tags": []
   },
   "outputs": [
    {
     "data": {
      "text/plain": [
       "dtype('int32')"
      ]
     },
     "execution_count": 76,
     "metadata": {},
     "output_type": "execute_result"
    }
   ],
   "source": [
    "dadoseq2.dtype"
   ]
  },
  {
   "cell_type": "code",
   "execution_count": 78,
   "id": "5f502592-0792-4b08-a2dc-0aa79f031f50",
   "metadata": {
    "tags": []
   },
   "outputs": [
    {
     "data": {
      "text/plain": [
       "array([0., 1., 2., 3., 4., 5., 6., 7., 8., 9.])"
      ]
     },
     "execution_count": 78,
     "metadata": {},
     "output_type": "execute_result"
    }
   ],
   "source": [
    "dadoseqf = dadoseq.astype(np.float64)\n",
    "dadoseqf"
   ]
  },
  {
   "cell_type": "code",
   "execution_count": 80,
   "id": "8c3eb25c-6036-4b18-8812-107aa712e3a4",
   "metadata": {
    "tags": []
   },
   "outputs": [
    {
     "data": {
      "text/plain": [
       "dtype('float64')"
      ]
     },
     "execution_count": 80,
     "metadata": {},
     "output_type": "execute_result"
    }
   ],
   "source": [
    "dadoseqf.dtype"
   ]
  },
  {
   "cell_type": "markdown",
   "id": "783cb055-7926-4e9e-90e1-f90ef9dc439c",
   "metadata": {},
   "source": [
    "## Aritmética com Arrays"
   ]
  },
  {
   "cell_type": "code",
   "execution_count": 85,
   "id": "f0599815-6261-42be-9203-ebaeee5f5204",
   "metadata": {
    "tags": []
   },
   "outputs": [
    {
     "data": {
      "text/plain": [
       "array([[1, 2, 3],\n",
       "       [4, 5, 6]])"
      ]
     },
     "execution_count": 85,
     "metadata": {},
     "output_type": "execute_result"
    }
   ],
   "source": [
    "dados4 = np.array([[1, 2, 3], [4, 5, 6]])\n",
    "dados4"
   ]
  },
  {
   "cell_type": "code",
   "execution_count": 87,
   "id": "001f48a4-f8a3-4a4f-b797-816e551159aa",
   "metadata": {
    "tags": []
   },
   "outputs": [
    {
     "data": {
      "text/plain": [
       "array([[ 1,  4,  9],\n",
       "       [16, 25, 36]])"
      ]
     },
     "execution_count": 87,
     "metadata": {},
     "output_type": "execute_result"
    }
   ],
   "source": [
    "dados4 * dados4"
   ]
  },
  {
   "cell_type": "code",
   "execution_count": 89,
   "id": "d27fe032-8d53-4308-99d6-a036954cdddf",
   "metadata": {
    "tags": []
   },
   "outputs": [
    {
     "data": {
      "text/plain": [
       "array([[0, 0, 0],\n",
       "       [0, 0, 0]])"
      ]
     },
     "execution_count": 89,
     "metadata": {},
     "output_type": "execute_result"
    }
   ],
   "source": [
    "dados4 - dados4"
   ]
  },
  {
   "cell_type": "code",
   "execution_count": 91,
   "id": "d761c641-1e66-46a5-a005-7d326c4be6df",
   "metadata": {
    "tags": []
   },
   "outputs": [
    {
     "data": {
      "text/plain": [
       "array([[1.        , 0.5       , 0.33333333],\n",
       "       [0.25      , 0.2       , 0.16666667]])"
      ]
     },
     "execution_count": 91,
     "metadata": {},
     "output_type": "execute_result"
    }
   ],
   "source": [
    "1 / dados4"
   ]
  },
  {
   "cell_type": "code",
   "execution_count": 93,
   "id": "6e7afb63-d308-4de2-9900-96191a3442aa",
   "metadata": {
    "tags": []
   },
   "outputs": [
    {
     "data": {
      "text/plain": [
       "array([[ 2,  4,  6],\n",
       "       [ 8, 10, 12]])"
      ]
     },
     "execution_count": 93,
     "metadata": {},
     "output_type": "execute_result"
    }
   ],
   "source": [
    "2 * dados4"
   ]
  },
  {
   "cell_type": "code",
   "execution_count": 95,
   "id": "2c6852ad-f96f-4f75-89a5-b5e9ce7865c4",
   "metadata": {
    "tags": []
   },
   "outputs": [
    {
     "data": {
      "text/plain": [
       "array([[ 2,  4,  6],\n",
       "       [ 8, 10, 12]])"
      ]
     },
     "execution_count": 95,
     "metadata": {},
     "output_type": "execute_result"
    }
   ],
   "source": [
    "dados5 = dados4 + dados4\n",
    "dados5"
   ]
  },
  {
   "cell_type": "code",
   "execution_count": 97,
   "id": "ee4f067a-b1cc-473b-a5de-5fdf8ff0cf62",
   "metadata": {
    "tags": []
   },
   "outputs": [
    {
     "data": {
      "text/plain": [
       "array([[False, False, False],\n",
       "       [False, False, False]])"
      ]
     },
     "execution_count": 97,
     "metadata": {},
     "output_type": "execute_result"
    }
   ],
   "source": [
    "dados4 > dados5"
   ]
  },
  {
   "cell_type": "markdown",
   "id": "c1e4314b-94d6-45e9-9228-13d46494db1e",
   "metadata": {},
   "source": [
    "## Indexação"
   ]
  },
  {
   "cell_type": "code",
   "execution_count": 100,
   "id": "e414bf24-be87-4fbf-a00e-41c1bf102ce6",
   "metadata": {
    "tags": []
   },
   "outputs": [
    {
     "data": {
      "text/plain": [
       "array([0, 1, 2, 3, 4, 5, 6, 7, 8, 9])"
      ]
     },
     "execution_count": 100,
     "metadata": {},
     "output_type": "execute_result"
    }
   ],
   "source": [
    "dadoseq"
   ]
  },
  {
   "cell_type": "code",
   "execution_count": 102,
   "id": "2f722825-b023-49da-9c05-282b7eddace5",
   "metadata": {
    "tags": []
   },
   "outputs": [
    {
     "data": {
      "text/plain": [
       "5"
      ]
     },
     "execution_count": 102,
     "metadata": {},
     "output_type": "execute_result"
    }
   ],
   "source": [
    "dadoseq[5]"
   ]
  },
  {
   "cell_type": "code",
   "execution_count": 104,
   "id": "7816ba9f-a327-4fac-948f-d1dd33f240a2",
   "metadata": {
    "tags": []
   },
   "outputs": [
    {
     "data": {
      "text/plain": [
       "3"
      ]
     },
     "execution_count": 104,
     "metadata": {},
     "output_type": "execute_result"
    }
   ],
   "source": [
    "dadoseq[(1+2)]"
   ]
  },
  {
   "cell_type": "markdown",
   "id": "b27d1ae3-2144-4042-9bad-22123516ba6f",
   "metadata": {},
   "source": [
    "#### Diferente de uma lista python, um recorte (fatia) de um ndarray sofrerá brodcast - é como se fosse uma view de base de dados.\n",
    "#### Com conjuntos imensos de dados, isso é uma grande vantagem em relação a performance"
   ]
  },
  {
   "cell_type": "code",
   "execution_count": 110,
   "id": "a7cf23f5-dcda-46bd-a17c-471dcba8abec",
   "metadata": {
    "tags": []
   },
   "outputs": [
    {
     "data": {
      "text/plain": [
       "array([3, 4, 5])"
      ]
     },
     "execution_count": 110,
     "metadata": {},
     "output_type": "execute_result"
    }
   ],
   "source": [
    "dadoseq[3:6]"
   ]
  },
  {
   "cell_type": "code",
   "execution_count": 114,
   "id": "b0a53bad-40ba-4d23-80ec-615c51cebb67",
   "metadata": {
    "tags": []
   },
   "outputs": [
    {
     "data": {
      "text/plain": [
       "array([ 0,  1,  2, 20, 20,  5,  6,  7,  8,  9])"
      ]
     },
     "execution_count": 114,
     "metadata": {},
     "output_type": "execute_result"
    }
   ],
   "source": [
    "dadoseq[3:5] = 20\n",
    "dadoseq"
   ]
  },
  {
   "cell_type": "code",
   "execution_count": 134,
   "id": "e2a2d710-1f63-4674-bab2-dc1f34a793a4",
   "metadata": {
    "tags": []
   },
   "outputs": [
    {
     "data": {
      "text/plain": [
       "array([ 33, 333])"
      ]
     },
     "execution_count": 134,
     "metadata": {},
     "output_type": "execute_result"
    }
   ],
   "source": [
    "dadosfatia = dadoseq[2:4]\n",
    "dadosfatia"
   ]
  },
  {
   "cell_type": "code",
   "execution_count": 136,
   "id": "06241055-8009-486f-9ab6-4c72677955bb",
   "metadata": {
    "tags": []
   },
   "outputs": [
    {
     "data": {
      "text/plain": [
       "array([  33, 2000])"
      ]
     },
     "execution_count": 136,
     "metadata": {},
     "output_type": "execute_result"
    }
   ],
   "source": [
    "dadosfatia[1] = 2000\n",
    "dadosfatia"
   ]
  },
  {
   "cell_type": "code",
   "execution_count": 138,
   "id": "c4774be0-eddc-4c7f-843a-357763f007c1",
   "metadata": {
    "tags": []
   },
   "outputs": [
    {
     "data": {
      "text/plain": [
       "array([   0,    1,   33, 2000,   20,    5,    6,    7,    8,    9])"
      ]
     },
     "execution_count": 138,
     "metadata": {},
     "output_type": "execute_result"
    }
   ],
   "source": [
    "dadoseq"
   ]
  },
  {
   "cell_type": "code",
   "execution_count": 140,
   "id": "f0de35d1-89fb-4530-8bf3-954b8c4fe2c1",
   "metadata": {
    "tags": []
   },
   "outputs": [
    {
     "data": {
      "text/plain": [
       "array([333, 333])"
      ]
     },
     "execution_count": 140,
     "metadata": {},
     "output_type": "execute_result"
    }
   ],
   "source": [
    "dadosfatia[:] = 333\n",
    "dadosfatia"
   ]
  },
  {
   "cell_type": "code",
   "execution_count": 142,
   "id": "d3b4e3ee-59a6-46f6-a23d-0aa77a6be4dc",
   "metadata": {
    "tags": []
   },
   "outputs": [
    {
     "data": {
      "text/plain": [
       "array([  0,   1, 333, 333,  20,   5,   6,   7,   8,   9])"
      ]
     },
     "execution_count": 142,
     "metadata": {},
     "output_type": "execute_result"
    }
   ],
   "source": [
    "dadoseq"
   ]
  },
  {
   "cell_type": "code",
   "execution_count": 144,
   "id": "95c0106a-b3d8-4fb0-8b87-1f78807f1af7",
   "metadata": {
    "tags": []
   },
   "outputs": [
    {
     "data": {
      "text/plain": [
       "array([  0,   1,  33, 333,  20,   5,   6,   7,   8,   9])"
      ]
     },
     "execution_count": 144,
     "metadata": {},
     "output_type": "execute_result"
    }
   ],
   "source": [
    "dadoseq[2] = 33\n",
    "dadoseq"
   ]
  },
  {
   "cell_type": "code",
   "execution_count": 146,
   "id": "053c73f5-f7ca-4f04-9bee-894dcb489164",
   "metadata": {
    "tags": []
   },
   "outputs": [
    {
     "data": {
      "text/plain": [
       "array([ 33, 333])"
      ]
     },
     "execution_count": 146,
     "metadata": {},
     "output_type": "execute_result"
    }
   ],
   "source": [
    "dadosfatia"
   ]
  },
  {
   "cell_type": "markdown",
   "id": "332fda6a-bee7-48bb-b858-e2221acfcb61",
   "metadata": {},
   "source": [
    "### Copiar dados"
   ]
  },
  {
   "cell_type": "code",
   "execution_count": 154,
   "id": "5f0080e2-68ca-4f1d-9965-2fda7cf6d998",
   "metadata": {
    "tags": []
   },
   "outputs": [
    {
     "data": {
      "text/plain": [
       "array([ 33, 333])"
      ]
     },
     "execution_count": 154,
     "metadata": {},
     "output_type": "execute_result"
    }
   ],
   "source": [
    "dadosfatia2 = dadoseq[2:4].copy()\n",
    "dadosfatia2"
   ]
  },
  {
   "cell_type": "code",
   "execution_count": 156,
   "id": "e0b94869-f9e2-49e0-a56f-5b85913da2cc",
   "metadata": {
    "tags": []
   },
   "outputs": [
    {
     "data": {
      "text/plain": [
       "array([111, 111])"
      ]
     },
     "execution_count": 156,
     "metadata": {},
     "output_type": "execute_result"
    }
   ],
   "source": [
    "dadosfatia2[:] = 111\n",
    "dadosfatia2"
   ]
  },
  {
   "cell_type": "code",
   "execution_count": 158,
   "id": "9c5bedd9-ef58-4f0d-9ddf-c3775e52e5a6",
   "metadata": {
    "tags": []
   },
   "outputs": [
    {
     "data": {
      "text/plain": [
       "array([  0,   1,  33, 333,  20,   5,   6,   7,   8,   9])"
      ]
     },
     "execution_count": 158,
     "metadata": {},
     "output_type": "execute_result"
    }
   ],
   "source": [
    "dadoseq"
   ]
  },
  {
   "cell_type": "markdown",
   "id": "84f806b8-23f0-41cb-873a-c772e72a6a9a",
   "metadata": {},
   "source": [
    "### Array com mais de uma dimensão"
   ]
  },
  {
   "cell_type": "code",
   "execution_count": 164,
   "id": "6fed1e34-824f-4850-834d-750844f16ee4",
   "metadata": {
    "tags": []
   },
   "outputs": [
    {
     "data": {
      "text/plain": [
       "array([[1, 2, 3],\n",
       "       [4, 5, 6],\n",
       "       [7, 8, 9]])"
      ]
     },
     "execution_count": 164,
     "metadata": {},
     "output_type": "execute_result"
    }
   ],
   "source": [
    "dados6 = np.array([[1, 2, 3], [4, 5, 6], [7,  8, 9]])\n",
    "dados6"
   ]
  },
  {
   "cell_type": "code",
   "execution_count": 166,
   "id": "968054cd-4b02-4297-a622-c2e386e06f0f",
   "metadata": {
    "tags": []
   },
   "outputs": [
    {
     "data": {
      "text/plain": [
       "6"
      ]
     },
     "execution_count": 166,
     "metadata": {},
     "output_type": "execute_result"
    }
   ],
   "source": [
    "dados6[1, 2]"
   ]
  },
  {
   "cell_type": "markdown",
   "id": "d5ec5e70-31c8-4e6d-b1ee-e230eb02e1a5",
   "metadata": {},
   "source": [
    "### Mascaras "
   ]
  },
  {
   "cell_type": "code",
   "execution_count": 170,
   "id": "61ad25ce-1c88-4ae5-a8ae-53c99a02e8bc",
   "metadata": {
    "tags": []
   },
   "outputs": [
    {
     "data": {
      "text/plain": [
       "array([  0,   1,  33, 333,  20,   5,   6,   7,   8,   9])"
      ]
     },
     "execution_count": 170,
     "metadata": {},
     "output_type": "execute_result"
    }
   ],
   "source": [
    "dadoseq"
   ]
  },
  {
   "cell_type": "code",
   "execution_count": 174,
   "id": "5df83a17-dafc-4f83-bee0-d8db6def129b",
   "metadata": {
    "tags": []
   },
   "outputs": [
    {
     "data": {
      "text/plain": [
       "array([ True,  True,  True, False,  True,  True,  True,  True,  True,\n",
       "        True])"
      ]
     },
     "execution_count": 174,
     "metadata": {},
     "output_type": "execute_result"
    }
   ],
   "source": [
    "mascara = dadoseq < 100\n",
    "mascara"
   ]
  },
  {
   "cell_type": "code",
   "execution_count": 178,
   "id": "757ea35c-1343-4f84-8ae3-8cf9bc7be564",
   "metadata": {
    "tags": []
   },
   "outputs": [
    {
     "data": {
      "text/plain": [
       "array([8888, 8888,   33,  333,   20, 8888, 8888, 8888, 8888, 8888])"
      ]
     },
     "execution_count": 178,
     "metadata": {},
     "output_type": "execute_result"
    }
   ],
   "source": [
    "dadoseq[dadoseq < 20] = 8888\n",
    "dadoseq"
   ]
  },
  {
   "cell_type": "markdown",
   "id": "af5718d7-471e-4149-b292-8f34f95629b8",
   "metadata": {},
   "source": [
    "### Transposição"
   ]
  },
  {
   "cell_type": "code",
   "execution_count": 183,
   "id": "3084ce85-a044-4c74-9f06-5a65f34a47b5",
   "metadata": {
    "tags": []
   },
   "outputs": [
    {
     "data": {
      "text/plain": [
       "array([[ 0,  1,  2,  3,  4],\n",
       "       [ 5,  6,  7,  8,  9],\n",
       "       [10, 11, 12, 13, 14]])"
      ]
     },
     "execution_count": 183,
     "metadata": {},
     "output_type": "execute_result"
    }
   ],
   "source": [
    "dados7 = np.arange(15).reshape((3, 5))\n",
    "dados7"
   ]
  },
  {
   "cell_type": "code",
   "execution_count": 185,
   "id": "7a7c9793-fd90-4a22-a5e9-facbaf88bdbb",
   "metadata": {
    "tags": []
   },
   "outputs": [
    {
     "data": {
      "text/plain": [
       "array([[ 0,  5, 10],\n",
       "       [ 1,  6, 11],\n",
       "       [ 2,  7, 12],\n",
       "       [ 3,  8, 13],\n",
       "       [ 4,  9, 14]])"
      ]
     },
     "execution_count": 185,
     "metadata": {},
     "output_type": "execute_result"
    }
   ],
   "source": [
    "dados7.T"
   ]
  },
  {
   "cell_type": "markdown",
   "id": "3c3bf917-43d1-411c-a993-f5590c181663",
   "metadata": {},
   "source": [
    "### Multiplicação de matrizes com Dots"
   ]
  },
  {
   "cell_type": "code",
   "execution_count": 188,
   "id": "f3877440-120b-4dc5-be19-b0bab479209a",
   "metadata": {
    "tags": []
   },
   "outputs": [
    {
     "data": {
      "text/plain": [
       "array([[125, 140, 155, 170, 185],\n",
       "       [140, 158, 176, 194, 212],\n",
       "       [155, 176, 197, 218, 239],\n",
       "       [170, 194, 218, 242, 266],\n",
       "       [185, 212, 239, 266, 293]])"
      ]
     },
     "execution_count": 188,
     "metadata": {},
     "output_type": "execute_result"
    }
   ],
   "source": [
    "np.dot(dados7.T, dados7)"
   ]
  },
  {
   "cell_type": "markdown",
   "id": "e165f753-190e-4ab2-817a-579576afba63",
   "metadata": {},
   "source": [
    "### Vejam que há muitas outras funções que podem ser exploradas como: \n",
    "### sin, cos, power, mod, sqrt entre outros"
   ]
  },
  {
   "cell_type": "markdown",
   "id": "0bedb33c-7652-433d-bd5d-a50479ec1ee4",
   "metadata": {},
   "source": [
    "## Pandas"
   ]
  },
  {
   "cell_type": "markdown",
   "id": "ee7b1556-6005-4177-a089-6e0b56636475",
   "metadata": {},
   "source": [
    "### Disciplina de Ciência de Dados\n",
    "### Aula 6"
   ]
  },
  {
   "cell_type": "markdown",
   "id": "4802c219-ecdc-46cd-9ea2-c25420745da7",
   "metadata": {},
   "source": [
    "#### Importação da Biblioteca Pandas"
   ]
  },
  {
   "cell_type": "code",
   "execution_count": 8,
   "id": "9ed53708-524b-4772-a905-da1689714be0",
   "metadata": {
    "tags": []
   },
   "outputs": [],
   "source": [
    "import pandas as pd\n",
    "import numpy as np"
   ]
  },
  {
   "cell_type": "markdown",
   "id": "e70e84a2-886a-4fe5-b39b-d3958638a7ab",
   "metadata": {},
   "source": [
    "#### Series (observar o indece do lado esquerdo)"
   ]
  },
  {
   "cell_type": "code",
   "execution_count": 12,
   "id": "286aeaa5-ddc3-4f09-8bed-25311e64b8d2",
   "metadata": {
    "tags": []
   },
   "outputs": [
    {
     "data": {
      "text/plain": [
       "0    1\n",
       "1    2\n",
       "2   -5\n",
       "3    0\n",
       "dtype: int64"
      ]
     },
     "execution_count": 12,
     "metadata": {},
     "output_type": "execute_result"
    }
   ],
   "source": [
    "s1 = pd.Series([1, 2, -5, 0])\n",
    "s1"
   ]
  },
  {
   "cell_type": "code",
   "execution_count": 14,
   "id": "54880b2a-d0c5-4cbc-b2f1-eb29f6d74c64",
   "metadata": {
    "tags": []
   },
   "outputs": [
    {
     "data": {
      "text/plain": [
       "array([ 1,  2, -5,  0], dtype=int64)"
      ]
     },
     "execution_count": 14,
     "metadata": {},
     "output_type": "execute_result"
    }
   ],
   "source": [
    "s1.values"
   ]
  },
  {
   "cell_type": "code",
   "execution_count": 16,
   "id": "2a4db4b3-413a-445c-84b6-c98b5b4de41c",
   "metadata": {
    "tags": []
   },
   "outputs": [
    {
     "data": {
      "text/plain": [
       "RangeIndex(start=0, stop=4, step=1)"
      ]
     },
     "execution_count": 16,
     "metadata": {},
     "output_type": "execute_result"
    }
   ],
   "source": [
    "s1.index"
   ]
  },
  {
   "cell_type": "code",
   "execution_count": 18,
   "id": "0f6d53df-fb5e-44db-960f-0096de27bf03",
   "metadata": {
    "tags": []
   },
   "outputs": [
    {
     "data": {
      "text/plain": [
       "a    1\n",
       "b    2\n",
       "c   -5\n",
       "d    0\n",
       "dtype: int64"
      ]
     },
     "execution_count": 18,
     "metadata": {},
     "output_type": "execute_result"
    }
   ],
   "source": [
    "s2 = pd.Series([1, 2, -5, 0], index = ['a', 'b', 'c', 'd'])\n",
    "s2"
   ]
  },
  {
   "cell_type": "code",
   "execution_count": 20,
   "id": "93a9956e-a636-4839-ae72-5ae73d5c9a45",
   "metadata": {
    "tags": []
   },
   "outputs": [
    {
     "data": {
      "text/plain": [
       "Index(['a', 'b', 'c', 'd'], dtype='object')"
      ]
     },
     "execution_count": 20,
     "metadata": {},
     "output_type": "execute_result"
    }
   ],
   "source": [
    "s2.index"
   ]
  },
  {
   "cell_type": "markdown",
   "id": "f50342b3-b47e-44e7-84ae-e71264b06b80",
   "metadata": {},
   "source": [
    "#### Atribuição"
   ]
  },
  {
   "cell_type": "code",
   "execution_count": 23,
   "id": "d8c7e010-54c2-4b79-ade2-2cab762522ea",
   "metadata": {
    "tags": []
   },
   "outputs": [
    {
     "data": {
      "text/plain": [
       "a    1000\n",
       "b       2\n",
       "c      -5\n",
       "d       0\n",
       "dtype: int64"
      ]
     },
     "execution_count": 23,
     "metadata": {},
     "output_type": "execute_result"
    }
   ],
   "source": [
    "s2['a'] = 1000\n",
    "s2"
   ]
  },
  {
   "cell_type": "markdown",
   "id": "eb8574ce-c805-4c05-846f-5233900e7bd1",
   "metadata": {},
   "source": [
    "#### Comparação"
   ]
  },
  {
   "cell_type": "code",
   "execution_count": 28,
   "id": "4ecdc01d-d100-4f13-a452-58e676979017",
   "metadata": {
    "tags": []
   },
   "outputs": [
    {
     "data": {
      "text/plain": [
       "a    1000\n",
       "b       2\n",
       "dtype: int64"
      ]
     },
     "execution_count": 28,
     "metadata": {},
     "output_type": "execute_result"
    }
   ],
   "source": [
    "s2[s2 > 0]"
   ]
  },
  {
   "cell_type": "markdown",
   "id": "dca4ab10-0eb9-4020-90e6-9339c59810b5",
   "metadata": {},
   "source": [
    "#### Algebra"
   ]
  },
  {
   "cell_type": "code",
   "execution_count": 30,
   "id": "8f3f4bee-a424-4671-af5c-6d4bec0ba9cc",
   "metadata": {
    "tags": []
   },
   "outputs": [
    {
     "data": {
      "text/plain": [
       "a    2000\n",
       "b       4\n",
       "c     -10\n",
       "d       0\n",
       "dtype: int64"
      ]
     },
     "execution_count": 30,
     "metadata": {},
     "output_type": "execute_result"
    }
   ],
   "source": [
    "s2 * 2"
   ]
  },
  {
   "cell_type": "code",
   "execution_count": 32,
   "id": "4f4859ff-1a24-40c4-b342-c0b74e03e691",
   "metadata": {
    "tags": []
   },
   "outputs": [
    {
     "data": {
      "text/plain": [
       "0    False\n",
       "1    False\n",
       "2    False\n",
       "3    False\n",
       "dtype: bool"
      ]
     },
     "execution_count": 32,
     "metadata": {},
     "output_type": "execute_result"
    }
   ],
   "source": [
    "s1.isnull()"
   ]
  },
  {
   "cell_type": "markdown",
   "id": "9cfbcd9c-a0a7-406d-a231-fed7f7042847",
   "metadata": {},
   "source": [
    "### Dataframe"
   ]
  },
  {
   "cell_type": "code",
   "execution_count": 35,
   "id": "ca3d893a-206f-4fb8-b6fe-cc0b45fe3685",
   "metadata": {
    "tags": []
   },
   "outputs": [],
   "source": [
    "# Dicionario\n",
    "dados = {\n",
    "    'estado': ['SP', 'MG', 'PR', 'SP', 'MG', 'PR'], \n",
    "    'ano': [2019, 2019, 2019, 2020, 2020, 2020],\n",
    "    'pop': [45.9, 21.2, 16.9, 46.6, 21.4, 17.3]\n",
    "}"
   ]
  },
  {
   "cell_type": "code",
   "execution_count": 37,
   "id": "214c046c-8239-419a-bf34-9a9be29664aa",
   "metadata": {
    "tags": []
   },
   "outputs": [
    {
     "data": {
      "text/html": [
       "<div>\n",
       "<style scoped>\n",
       "    .dataframe tbody tr th:only-of-type {\n",
       "        vertical-align: middle;\n",
       "    }\n",
       "\n",
       "    .dataframe tbody tr th {\n",
       "        vertical-align: top;\n",
       "    }\n",
       "\n",
       "    .dataframe thead th {\n",
       "        text-align: right;\n",
       "    }\n",
       "</style>\n",
       "<table border=\"1\" class=\"dataframe\">\n",
       "  <thead>\n",
       "    <tr style=\"text-align: right;\">\n",
       "      <th></th>\n",
       "      <th>estado</th>\n",
       "      <th>ano</th>\n",
       "      <th>pop</th>\n",
       "    </tr>\n",
       "  </thead>\n",
       "  <tbody>\n",
       "    <tr>\n",
       "      <th>0</th>\n",
       "      <td>SP</td>\n",
       "      <td>2019</td>\n",
       "      <td>45.9</td>\n",
       "    </tr>\n",
       "    <tr>\n",
       "      <th>1</th>\n",
       "      <td>MG</td>\n",
       "      <td>2019</td>\n",
       "      <td>21.2</td>\n",
       "    </tr>\n",
       "    <tr>\n",
       "      <th>2</th>\n",
       "      <td>PR</td>\n",
       "      <td>2019</td>\n",
       "      <td>16.9</td>\n",
       "    </tr>\n",
       "    <tr>\n",
       "      <th>3</th>\n",
       "      <td>SP</td>\n",
       "      <td>2020</td>\n",
       "      <td>46.6</td>\n",
       "    </tr>\n",
       "    <tr>\n",
       "      <th>4</th>\n",
       "      <td>MG</td>\n",
       "      <td>2020</td>\n",
       "      <td>21.4</td>\n",
       "    </tr>\n",
       "    <tr>\n",
       "      <th>5</th>\n",
       "      <td>PR</td>\n",
       "      <td>2020</td>\n",
       "      <td>17.3</td>\n",
       "    </tr>\n",
       "  </tbody>\n",
       "</table>\n",
       "</div>"
      ],
      "text/plain": [
       "  estado   ano   pop\n",
       "0     SP  2019  45.9\n",
       "1     MG  2019  21.2\n",
       "2     PR  2019  16.9\n",
       "3     SP  2020  46.6\n",
       "4     MG  2020  21.4\n",
       "5     PR  2020  17.3"
      ]
     },
     "execution_count": 37,
     "metadata": {},
     "output_type": "execute_result"
    }
   ],
   "source": [
    "# Dataframe\n",
    "df1 = pd.DataFrame(dados)\n",
    "df1"
   ]
  },
  {
   "cell_type": "markdown",
   "id": "1ad7b250-6340-478b-859b-15fcd1f6e3cf",
   "metadata": {},
   "source": [
    "#### Visualizar partes do dataframe"
   ]
  },
  {
   "cell_type": "code",
   "execution_count": 46,
   "id": "cff8422a-5e8b-4427-82e8-0d1d1b58f19a",
   "metadata": {
    "tags": []
   },
   "outputs": [
    {
     "data": {
      "text/html": [
       "<div>\n",
       "<style scoped>\n",
       "    .dataframe tbody tr th:only-of-type {\n",
       "        vertical-align: middle;\n",
       "    }\n",
       "\n",
       "    .dataframe tbody tr th {\n",
       "        vertical-align: top;\n",
       "    }\n",
       "\n",
       "    .dataframe thead th {\n",
       "        text-align: right;\n",
       "    }\n",
       "</style>\n",
       "<table border=\"1\" class=\"dataframe\">\n",
       "  <thead>\n",
       "    <tr style=\"text-align: right;\">\n",
       "      <th></th>\n",
       "      <th>estado</th>\n",
       "      <th>ano</th>\n",
       "      <th>pop</th>\n",
       "    </tr>\n",
       "  </thead>\n",
       "  <tbody>\n",
       "    <tr>\n",
       "      <th>0</th>\n",
       "      <td>SP</td>\n",
       "      <td>2019</td>\n",
       "      <td>45.9</td>\n",
       "    </tr>\n",
       "    <tr>\n",
       "      <th>1</th>\n",
       "      <td>MG</td>\n",
       "      <td>2019</td>\n",
       "      <td>21.2</td>\n",
       "    </tr>\n",
       "  </tbody>\n",
       "</table>\n",
       "</div>"
      ],
      "text/plain": [
       "  estado   ano   pop\n",
       "0     SP  2019  45.9\n",
       "1     MG  2019  21.2"
      ]
     },
     "execution_count": 46,
     "metadata": {},
     "output_type": "execute_result"
    }
   ],
   "source": [
    "# Prmeiros linhas\n",
    "df1.head(2)"
   ]
  },
  {
   "cell_type": "code",
   "execution_count": 50,
   "id": "c3a533a5-c982-4e42-a314-47a66cf6c68e",
   "metadata": {
    "tags": []
   },
   "outputs": [
    {
     "data": {
      "text/html": [
       "<div>\n",
       "<style scoped>\n",
       "    .dataframe tbody tr th:only-of-type {\n",
       "        vertical-align: middle;\n",
       "    }\n",
       "\n",
       "    .dataframe tbody tr th {\n",
       "        vertical-align: top;\n",
       "    }\n",
       "\n",
       "    .dataframe thead th {\n",
       "        text-align: right;\n",
       "    }\n",
       "</style>\n",
       "<table border=\"1\" class=\"dataframe\">\n",
       "  <thead>\n",
       "    <tr style=\"text-align: right;\">\n",
       "      <th></th>\n",
       "      <th>estado</th>\n",
       "      <th>ano</th>\n",
       "      <th>pop</th>\n",
       "    </tr>\n",
       "  </thead>\n",
       "  <tbody>\n",
       "    <tr>\n",
       "      <th>4</th>\n",
       "      <td>MG</td>\n",
       "      <td>2020</td>\n",
       "      <td>21.4</td>\n",
       "    </tr>\n",
       "    <tr>\n",
       "      <th>5</th>\n",
       "      <td>PR</td>\n",
       "      <td>2020</td>\n",
       "      <td>17.3</td>\n",
       "    </tr>\n",
       "  </tbody>\n",
       "</table>\n",
       "</div>"
      ],
      "text/plain": [
       "  estado   ano   pop\n",
       "4     MG  2020  21.4\n",
       "5     PR  2020  17.3"
      ]
     },
     "execution_count": 50,
     "metadata": {},
     "output_type": "execute_result"
    }
   ],
   "source": [
    "# Ultimas linghas\n",
    "df1.tail(2)"
   ]
  },
  {
   "cell_type": "code",
   "execution_count": 52,
   "id": "2ed2419b-6791-4fa9-8918-4031da3aeabf",
   "metadata": {
    "tags": []
   },
   "outputs": [
    {
     "data": {
      "text/html": [
       "<div>\n",
       "<style scoped>\n",
       "    .dataframe tbody tr th:only-of-type {\n",
       "        vertical-align: middle;\n",
       "    }\n",
       "\n",
       "    .dataframe tbody tr th {\n",
       "        vertical-align: top;\n",
       "    }\n",
       "\n",
       "    .dataframe thead th {\n",
       "        text-align: right;\n",
       "    }\n",
       "</style>\n",
       "<table border=\"1\" class=\"dataframe\">\n",
       "  <thead>\n",
       "    <tr style=\"text-align: right;\">\n",
       "      <th></th>\n",
       "      <th>estado</th>\n",
       "      <th>ano</th>\n",
       "      <th>pop</th>\n",
       "    </tr>\n",
       "  </thead>\n",
       "  <tbody>\n",
       "    <tr>\n",
       "      <th>2</th>\n",
       "      <td>PR</td>\n",
       "      <td>2019</td>\n",
       "      <td>16.9</td>\n",
       "    </tr>\n",
       "    <tr>\n",
       "      <th>5</th>\n",
       "      <td>PR</td>\n",
       "      <td>2020</td>\n",
       "      <td>17.3</td>\n",
       "    </tr>\n",
       "    <tr>\n",
       "      <th>3</th>\n",
       "      <td>SP</td>\n",
       "      <td>2020</td>\n",
       "      <td>46.6</td>\n",
       "    </tr>\n",
       "  </tbody>\n",
       "</table>\n",
       "</div>"
      ],
      "text/plain": [
       "  estado   ano   pop\n",
       "2     PR  2019  16.9\n",
       "5     PR  2020  17.3\n",
       "3     SP  2020  46.6"
      ]
     },
     "execution_count": 52,
     "metadata": {},
     "output_type": "execute_result"
    }
   ],
   "source": [
    "# Linhas aliatorias\n",
    "df1.sample(3)"
   ]
  },
  {
   "cell_type": "markdown",
   "id": "393d910c-9800-44f4-b7c5-29e5a1c75a6c",
   "metadata": {},
   "source": [
    "### Criar novo Dataframe definindo a posição das colunas "
   ]
  },
  {
   "cell_type": "code",
   "execution_count": 189,
   "id": "d993082c-0b34-4548-8bd6-3fc340a6f33d",
   "metadata": {
    "tags": []
   },
   "outputs": [
    {
     "data": {
      "text/html": [
       "<div>\n",
       "<style scoped>\n",
       "    .dataframe tbody tr th:only-of-type {\n",
       "        vertical-align: middle;\n",
       "    }\n",
       "\n",
       "    .dataframe tbody tr th {\n",
       "        vertical-align: top;\n",
       "    }\n",
       "\n",
       "    .dataframe thead th {\n",
       "        text-align: right;\n",
       "    }\n",
       "</style>\n",
       "<table border=\"1\" class=\"dataframe\">\n",
       "  <thead>\n",
       "    <tr style=\"text-align: right;\">\n",
       "      <th></th>\n",
       "      <th>ano</th>\n",
       "      <th>estado</th>\n",
       "      <th>pop</th>\n",
       "    </tr>\n",
       "  </thead>\n",
       "  <tbody>\n",
       "    <tr>\n",
       "      <th>0</th>\n",
       "      <td>2019</td>\n",
       "      <td>SP</td>\n",
       "      <td>45.9</td>\n",
       "    </tr>\n",
       "    <tr>\n",
       "      <th>1</th>\n",
       "      <td>2019</td>\n",
       "      <td>MG</td>\n",
       "      <td>21.2</td>\n",
       "    </tr>\n",
       "    <tr>\n",
       "      <th>2</th>\n",
       "      <td>2019</td>\n",
       "      <td>PR</td>\n",
       "      <td>16.9</td>\n",
       "    </tr>\n",
       "    <tr>\n",
       "      <th>3</th>\n",
       "      <td>2020</td>\n",
       "      <td>SP</td>\n",
       "      <td>46.6</td>\n",
       "    </tr>\n",
       "    <tr>\n",
       "      <th>4</th>\n",
       "      <td>2020</td>\n",
       "      <td>MG</td>\n",
       "      <td>21.4</td>\n",
       "    </tr>\n",
       "    <tr>\n",
       "      <th>5</th>\n",
       "      <td>2020</td>\n",
       "      <td>PR</td>\n",
       "      <td>17.3</td>\n",
       "    </tr>\n",
       "  </tbody>\n",
       "</table>\n",
       "</div>"
      ],
      "text/plain": [
       "    ano estado   pop\n",
       "0  2019     SP  45.9\n",
       "1  2019     MG  21.2\n",
       "2  2019     PR  16.9\n",
       "3  2020     SP  46.6\n",
       "4  2020     MG  21.4\n",
       "5  2020     PR  17.3"
      ]
     },
     "execution_count": 189,
     "metadata": {},
     "output_type": "execute_result"
    }
   ],
   "source": [
    "df2 = pd.DataFrame(dados, columns = ['ano', 'estado', 'pop'])\n",
    "df2"
   ]
  },
  {
   "cell_type": "markdown",
   "id": "ee0af793-8a73-48ee-90a9-94c199268946",
   "metadata": {},
   "source": [
    "#### Observar DF"
   ]
  },
  {
   "cell_type": "code",
   "execution_count": 59,
   "id": "a429ee1e-df8c-4393-a541-9ce7adcdbe5a",
   "metadata": {
    "tags": []
   },
   "outputs": [
    {
     "data": {
      "text/plain": [
       "0    SP\n",
       "1    MG\n",
       "2    PR\n",
       "3    SP\n",
       "4    MG\n",
       "5    PR\n",
       "Name: estado, dtype: object"
      ]
     },
     "execution_count": 59,
     "metadata": {},
     "output_type": "execute_result"
    }
   ],
   "source": [
    "df2['estado']"
   ]
  },
  {
   "cell_type": "code",
   "execution_count": 63,
   "id": "d09eac58-3c1d-4824-966c-bf0e4d085586",
   "metadata": {
    "tags": []
   },
   "outputs": [
    {
     "data": {
      "text/plain": [
       "0    2019\n",
       "1    2019\n",
       "2    2019\n",
       "3    2020\n",
       "4    2020\n",
       "5    2020\n",
       "Name: ano, dtype: int64"
      ]
     },
     "execution_count": 63,
     "metadata": {},
     "output_type": "execute_result"
    }
   ],
   "source": [
    "df2.ano"
   ]
  },
  {
   "cell_type": "code",
   "execution_count": 61,
   "id": "f6209383-330b-4b01-ad36-59deec1f7860",
   "metadata": {
    "tags": []
   },
   "outputs": [
    {
     "data": {
      "text/html": [
       "<div>\n",
       "<style scoped>\n",
       "    .dataframe tbody tr th:only-of-type {\n",
       "        vertical-align: middle;\n",
       "    }\n",
       "\n",
       "    .dataframe tbody tr th {\n",
       "        vertical-align: top;\n",
       "    }\n",
       "\n",
       "    .dataframe thead th {\n",
       "        text-align: right;\n",
       "    }\n",
       "</style>\n",
       "<table border=\"1\" class=\"dataframe\">\n",
       "  <thead>\n",
       "    <tr style=\"text-align: right;\">\n",
       "      <th></th>\n",
       "      <th>estado</th>\n",
       "      <th>ano</th>\n",
       "    </tr>\n",
       "  </thead>\n",
       "  <tbody>\n",
       "    <tr>\n",
       "      <th>0</th>\n",
       "      <td>SP</td>\n",
       "      <td>2019</td>\n",
       "    </tr>\n",
       "    <tr>\n",
       "      <th>1</th>\n",
       "      <td>MG</td>\n",
       "      <td>2019</td>\n",
       "    </tr>\n",
       "    <tr>\n",
       "      <th>2</th>\n",
       "      <td>PR</td>\n",
       "      <td>2019</td>\n",
       "    </tr>\n",
       "    <tr>\n",
       "      <th>3</th>\n",
       "      <td>SP</td>\n",
       "      <td>2020</td>\n",
       "    </tr>\n",
       "    <tr>\n",
       "      <th>4</th>\n",
       "      <td>MG</td>\n",
       "      <td>2020</td>\n",
       "    </tr>\n",
       "    <tr>\n",
       "      <th>5</th>\n",
       "      <td>PR</td>\n",
       "      <td>2020</td>\n",
       "    </tr>\n",
       "  </tbody>\n",
       "</table>\n",
       "</div>"
      ],
      "text/plain": [
       "  estado   ano\n",
       "0     SP  2019\n",
       "1     MG  2019\n",
       "2     PR  2019\n",
       "3     SP  2020\n",
       "4     MG  2020\n",
       "5     PR  2020"
      ]
     },
     "execution_count": 61,
     "metadata": {},
     "output_type": "execute_result"
    }
   ],
   "source": [
    "df2[['estado', 'ano']]"
   ]
  },
  {
   "cell_type": "code",
   "execution_count": 67,
   "id": "29e60f15-db5a-4a7c-873b-bf37830639f8",
   "metadata": {
    "tags": []
   },
   "outputs": [
    {
     "data": {
      "text/plain": [
       "ano         int64\n",
       "estado     object\n",
       "pop       float64\n",
       "dtype: object"
      ]
     },
     "execution_count": 67,
     "metadata": {},
     "output_type": "execute_result"
    }
   ],
   "source": [
    "df2.dtypes"
   ]
  },
  {
   "cell_type": "markdown",
   "id": "9b2ee062-27ac-4604-a79e-3b729da4caf6",
   "metadata": {
    "tags": []
   },
   "source": [
    "#### Atribuir valores"
   ]
  },
  {
   "cell_type": "code",
   "execution_count": 72,
   "id": "7a803b7b-527d-42d3-b32a-3184609d87c6",
   "metadata": {
    "tags": []
   },
   "outputs": [
    {
     "data": {
      "text/html": [
       "<div>\n",
       "<style scoped>\n",
       "    .dataframe tbody tr th:only-of-type {\n",
       "        vertical-align: middle;\n",
       "    }\n",
       "\n",
       "    .dataframe tbody tr th {\n",
       "        vertical-align: top;\n",
       "    }\n",
       "\n",
       "    .dataframe thead th {\n",
       "        text-align: right;\n",
       "    }\n",
       "</style>\n",
       "<table border=\"1\" class=\"dataframe\">\n",
       "  <thead>\n",
       "    <tr style=\"text-align: right;\">\n",
       "      <th></th>\n",
       "      <th>ano</th>\n",
       "      <th>estado</th>\n",
       "      <th>pop</th>\n",
       "      <th>estimativa</th>\n",
       "    </tr>\n",
       "  </thead>\n",
       "  <tbody>\n",
       "    <tr>\n",
       "      <th>0</th>\n",
       "      <td>2019</td>\n",
       "      <td>SP</td>\n",
       "      <td>45.9</td>\n",
       "      <td>50</td>\n",
       "    </tr>\n",
       "    <tr>\n",
       "      <th>1</th>\n",
       "      <td>2019</td>\n",
       "      <td>MG</td>\n",
       "      <td>21.2</td>\n",
       "      <td>50</td>\n",
       "    </tr>\n",
       "    <tr>\n",
       "      <th>2</th>\n",
       "      <td>2019</td>\n",
       "      <td>PR</td>\n",
       "      <td>16.9</td>\n",
       "      <td>50</td>\n",
       "    </tr>\n",
       "    <tr>\n",
       "      <th>3</th>\n",
       "      <td>2020</td>\n",
       "      <td>SP</td>\n",
       "      <td>46.6</td>\n",
       "      <td>50</td>\n",
       "    </tr>\n",
       "    <tr>\n",
       "      <th>4</th>\n",
       "      <td>2020</td>\n",
       "      <td>MG</td>\n",
       "      <td>21.4</td>\n",
       "      <td>50</td>\n",
       "    </tr>\n",
       "    <tr>\n",
       "      <th>5</th>\n",
       "      <td>2020</td>\n",
       "      <td>PR</td>\n",
       "      <td>17.3</td>\n",
       "      <td>50</td>\n",
       "    </tr>\n",
       "  </tbody>\n",
       "</table>\n",
       "</div>"
      ],
      "text/plain": [
       "    ano estado   pop  estimativa\n",
       "0  2019     SP  45.9          50\n",
       "1  2019     MG  21.2          50\n",
       "2  2019     PR  16.9          50\n",
       "3  2020     SP  46.6          50\n",
       "4  2020     MG  21.4          50\n",
       "5  2020     PR  17.3          50"
      ]
     },
     "execution_count": 72,
     "metadata": {},
     "output_type": "execute_result"
    }
   ],
   "source": [
    "df2['estimativa'] = 50\n",
    "df2"
   ]
  },
  {
   "cell_type": "code",
   "execution_count": 191,
   "id": "00b9a7a3-9c4e-4646-87a0-0266ebf375c1",
   "metadata": {
    "tags": []
   },
   "outputs": [
    {
     "data": {
      "text/html": [
       "<div>\n",
       "<style scoped>\n",
       "    .dataframe tbody tr th:only-of-type {\n",
       "        vertical-align: middle;\n",
       "    }\n",
       "\n",
       "    .dataframe tbody tr th {\n",
       "        vertical-align: top;\n",
       "    }\n",
       "\n",
       "    .dataframe thead th {\n",
       "        text-align: right;\n",
       "    }\n",
       "</style>\n",
       "<table border=\"1\" class=\"dataframe\">\n",
       "  <thead>\n",
       "    <tr style=\"text-align: right;\">\n",
       "      <th></th>\n",
       "      <th>ano</th>\n",
       "      <th>estado</th>\n",
       "      <th>pop</th>\n",
       "      <th>estimativa</th>\n",
       "    </tr>\n",
       "  </thead>\n",
       "  <tbody>\n",
       "    <tr>\n",
       "      <th>0</th>\n",
       "      <td>2019</td>\n",
       "      <td>SP</td>\n",
       "      <td>45.9</td>\n",
       "      <td>0</td>\n",
       "    </tr>\n",
       "    <tr>\n",
       "      <th>1</th>\n",
       "      <td>2019</td>\n",
       "      <td>MG</td>\n",
       "      <td>21.2</td>\n",
       "      <td>1</td>\n",
       "    </tr>\n",
       "    <tr>\n",
       "      <th>2</th>\n",
       "      <td>2019</td>\n",
       "      <td>PR</td>\n",
       "      <td>16.9</td>\n",
       "      <td>2</td>\n",
       "    </tr>\n",
       "    <tr>\n",
       "      <th>3</th>\n",
       "      <td>2020</td>\n",
       "      <td>SP</td>\n",
       "      <td>46.6</td>\n",
       "      <td>3</td>\n",
       "    </tr>\n",
       "    <tr>\n",
       "      <th>4</th>\n",
       "      <td>2020</td>\n",
       "      <td>MG</td>\n",
       "      <td>21.4</td>\n",
       "      <td>4</td>\n",
       "    </tr>\n",
       "    <tr>\n",
       "      <th>5</th>\n",
       "      <td>2020</td>\n",
       "      <td>PR</td>\n",
       "      <td>17.3</td>\n",
       "      <td>5</td>\n",
       "    </tr>\n",
       "  </tbody>\n",
       "</table>\n",
       "</div>"
      ],
      "text/plain": [
       "    ano estado   pop  estimativa\n",
       "0  2019     SP  45.9           0\n",
       "1  2019     MG  21.2           1\n",
       "2  2019     PR  16.9           2\n",
       "3  2020     SP  46.6           3\n",
       "4  2020     MG  21.4           4\n",
       "5  2020     PR  17.3           5"
      ]
     },
     "execution_count": 191,
     "metadata": {},
     "output_type": "execute_result"
    }
   ],
   "source": [
    "df2['estimativa'] = np.arange(6)\n",
    "df2"
   ]
  },
  {
   "cell_type": "code",
   "execution_count": 76,
   "id": "570a7f3d-5c6e-44dd-bcab-5c92974271f8",
   "metadata": {
    "tags": []
   },
   "outputs": [
    {
     "data": {
      "text/html": [
       "<div>\n",
       "<style scoped>\n",
       "    .dataframe tbody tr th:only-of-type {\n",
       "        vertical-align: middle;\n",
       "    }\n",
       "\n",
       "    .dataframe tbody tr th {\n",
       "        vertical-align: top;\n",
       "    }\n",
       "\n",
       "    .dataframe thead th {\n",
       "        text-align: right;\n",
       "    }\n",
       "</style>\n",
       "<table border=\"1\" class=\"dataframe\">\n",
       "  <thead>\n",
       "    <tr style=\"text-align: right;\">\n",
       "      <th></th>\n",
       "      <th>ano</th>\n",
       "      <th>estado</th>\n",
       "      <th>pop</th>\n",
       "      <th>estimativa</th>\n",
       "    </tr>\n",
       "  </thead>\n",
       "  <tbody>\n",
       "    <tr>\n",
       "      <th>0</th>\n",
       "      <td>2019</td>\n",
       "      <td>SP</td>\n",
       "      <td>45.9</td>\n",
       "      <td>0</td>\n",
       "    </tr>\n",
       "    <tr>\n",
       "      <th>1</th>\n",
       "      <td>2019</td>\n",
       "      <td>MG</td>\n",
       "      <td>21.2</td>\n",
       "      <td>1</td>\n",
       "    </tr>\n",
       "    <tr>\n",
       "      <th>2</th>\n",
       "      <td>2019</td>\n",
       "      <td>PR</td>\n",
       "      <td>16.9</td>\n",
       "      <td>2</td>\n",
       "    </tr>\n",
       "    <tr>\n",
       "      <th>3</th>\n",
       "      <td>2020</td>\n",
       "      <td>SP</td>\n",
       "      <td>46.6</td>\n",
       "      <td>3</td>\n",
       "    </tr>\n",
       "    <tr>\n",
       "      <th>4</th>\n",
       "      <td>2020</td>\n",
       "      <td>MG</td>\n",
       "      <td>21.4</td>\n",
       "      <td>4</td>\n",
       "    </tr>\n",
       "    <tr>\n",
       "      <th>5</th>\n",
       "      <td>2020</td>\n",
       "      <td>PR</td>\n",
       "      <td>17.3</td>\n",
       "      <td>5</td>\n",
       "    </tr>\n",
       "  </tbody>\n",
       "</table>\n",
       "</div>"
      ],
      "text/plain": [
       "    ano estado   pop  estimativa\n",
       "0  2019     SP  45.9           0\n",
       "1  2019     MG  21.2           1\n",
       "2  2019     PR  16.9           2\n",
       "3  2020     SP  46.6           3\n",
       "4  2020     MG  21.4           4\n",
       "5  2020     PR  17.3           5"
      ]
     },
     "execution_count": 76,
     "metadata": {},
     "output_type": "execute_result"
    }
   ],
   "source": [
    "df3 = df2\n",
    "df3"
   ]
  },
  {
   "cell_type": "code",
   "execution_count": 78,
   "id": "a7b34774-7ccc-4f69-8d6b-124e2f284027",
   "metadata": {
    "tags": []
   },
   "outputs": [
    {
     "data": {
      "text/plain": [
       "0    2019\n",
       "1    2019\n",
       "2    2019\n",
       "3    2020\n",
       "4    2020\n",
       "5    2020\n",
       "Name: ano, dtype: int64"
      ]
     },
     "execution_count": 78,
     "metadata": {},
     "output_type": "execute_result"
    }
   ],
   "source": [
    "df3 = df2['ano']\n",
    "df3"
   ]
  },
  {
   "cell_type": "code",
   "execution_count": 161,
   "id": "9b8f9f30-1fa3-4070-b43a-3f9aac157535",
   "metadata": {
    "tags": []
   },
   "outputs": [
    {
     "data": {
      "text/html": [
       "<div>\n",
       "<style scoped>\n",
       "    .dataframe tbody tr th:only-of-type {\n",
       "        vertical-align: middle;\n",
       "    }\n",
       "\n",
       "    .dataframe tbody tr th {\n",
       "        vertical-align: top;\n",
       "    }\n",
       "\n",
       "    .dataframe thead th {\n",
       "        text-align: right;\n",
       "    }\n",
       "</style>\n",
       "<table border=\"1\" class=\"dataframe\">\n",
       "  <thead>\n",
       "    <tr style=\"text-align: right;\">\n",
       "      <th></th>\n",
       "      <th>ano</th>\n",
       "      <th>estado</th>\n",
       "      <th>pop</th>\n",
       "      <th>Não Paraná</th>\n",
       "    </tr>\n",
       "  </thead>\n",
       "  <tbody>\n",
       "    <tr>\n",
       "      <th>0</th>\n",
       "      <td>2019</td>\n",
       "      <td>SP</td>\n",
       "      <td>45.9</td>\n",
       "      <td>True</td>\n",
       "    </tr>\n",
       "    <tr>\n",
       "      <th>1</th>\n",
       "      <td>2019</td>\n",
       "      <td>MG</td>\n",
       "      <td>21.2</td>\n",
       "      <td>True</td>\n",
       "    </tr>\n",
       "    <tr>\n",
       "      <th>2</th>\n",
       "      <td>2019</td>\n",
       "      <td>PR</td>\n",
       "      <td>16.9</td>\n",
       "      <td>False</td>\n",
       "    </tr>\n",
       "    <tr>\n",
       "      <th>3</th>\n",
       "      <td>2020</td>\n",
       "      <td>SP</td>\n",
       "      <td>46.6</td>\n",
       "      <td>True</td>\n",
       "    </tr>\n",
       "    <tr>\n",
       "      <th>4</th>\n",
       "      <td>2020</td>\n",
       "      <td>MG</td>\n",
       "      <td>21.4</td>\n",
       "      <td>True</td>\n",
       "    </tr>\n",
       "    <tr>\n",
       "      <th>5</th>\n",
       "      <td>2020</td>\n",
       "      <td>PR</td>\n",
       "      <td>17.3</td>\n",
       "      <td>False</td>\n",
       "    </tr>\n",
       "  </tbody>\n",
       "</table>\n",
       "</div>"
      ],
      "text/plain": [
       "    ano estado   pop  Não Paraná\n",
       "0  2019     SP  45.9        True\n",
       "1  2019     MG  21.2        True\n",
       "2  2019     PR  16.9       False\n",
       "3  2020     SP  46.6        True\n",
       "4  2020     MG  21.4        True\n",
       "5  2020     PR  17.3       False"
      ]
     },
     "execution_count": 161,
     "metadata": {},
     "output_type": "execute_result"
    }
   ],
   "source": [
    "df2['Não Paraná'] = df2.estado != 'PR'\n",
    "df2"
   ]
  },
  {
   "cell_type": "markdown",
   "id": "cbef7c7a-5a6c-4c7a-b3ef-04fb91e6eedf",
   "metadata": {},
   "source": [
    "#### Excluir coluna"
   ]
  },
  {
   "cell_type": "code",
   "execution_count": 165,
   "id": "a69fec5f-8977-483c-92c5-fbe414ee050a",
   "metadata": {
    "tags": []
   },
   "outputs": [
    {
     "data": {
      "text/html": [
       "<div>\n",
       "<style scoped>\n",
       "    .dataframe tbody tr th:only-of-type {\n",
       "        vertical-align: middle;\n",
       "    }\n",
       "\n",
       "    .dataframe tbody tr th {\n",
       "        vertical-align: top;\n",
       "    }\n",
       "\n",
       "    .dataframe thead th {\n",
       "        text-align: right;\n",
       "    }\n",
       "</style>\n",
       "<table border=\"1\" class=\"dataframe\">\n",
       "  <thead>\n",
       "    <tr style=\"text-align: right;\">\n",
       "      <th></th>\n",
       "      <th>ano</th>\n",
       "      <th>estado</th>\n",
       "      <th>pop</th>\n",
       "      <th>estimativa</th>\n",
       "    </tr>\n",
       "  </thead>\n",
       "  <tbody>\n",
       "    <tr>\n",
       "      <th>0</th>\n",
       "      <td>2019</td>\n",
       "      <td>SP</td>\n",
       "      <td>45.9</td>\n",
       "      <td>0</td>\n",
       "    </tr>\n",
       "    <tr>\n",
       "      <th>1</th>\n",
       "      <td>2019</td>\n",
       "      <td>MG</td>\n",
       "      <td>21.2</td>\n",
       "      <td>1</td>\n",
       "    </tr>\n",
       "    <tr>\n",
       "      <th>2</th>\n",
       "      <td>2019</td>\n",
       "      <td>PR</td>\n",
       "      <td>16.9</td>\n",
       "      <td>2</td>\n",
       "    </tr>\n",
       "    <tr>\n",
       "      <th>3</th>\n",
       "      <td>2020</td>\n",
       "      <td>SP</td>\n",
       "      <td>46.6</td>\n",
       "      <td>3</td>\n",
       "    </tr>\n",
       "    <tr>\n",
       "      <th>4</th>\n",
       "      <td>2020</td>\n",
       "      <td>MG</td>\n",
       "      <td>21.4</td>\n",
       "      <td>4</td>\n",
       "    </tr>\n",
       "    <tr>\n",
       "      <th>5</th>\n",
       "      <td>2020</td>\n",
       "      <td>PR</td>\n",
       "      <td>17.3</td>\n",
       "      <td>5</td>\n",
       "    </tr>\n",
       "  </tbody>\n",
       "</table>\n",
       "</div>"
      ],
      "text/plain": [
       "    ano estado   pop  estimativa\n",
       "0  2019     SP  45.9           0\n",
       "1  2019     MG  21.2           1\n",
       "2  2019     PR  16.9           2\n",
       "3  2020     SP  46.6           3\n",
       "4  2020     MG  21.4           4\n",
       "5  2020     PR  17.3           5"
      ]
     },
     "execution_count": 165,
     "metadata": {},
     "output_type": "execute_result"
    }
   ],
   "source": [
    "del df2['Não Paraná']\n",
    "df2"
   ]
  },
  {
   "cell_type": "markdown",
   "id": "20cf9502-d7c0-4781-a2ba-9edd30528a24",
   "metadata": {},
   "source": [
    "#### Entender o DataFrame"
   ]
  },
  {
   "cell_type": "code",
   "execution_count": 108,
   "id": "bf062493-2615-4499-ae12-bf6e94735a70",
   "metadata": {
    "tags": []
   },
   "outputs": [
    {
     "data": {
      "text/plain": [
       "(6, 4)"
      ]
     },
     "execution_count": 108,
     "metadata": {},
     "output_type": "execute_result"
    }
   ],
   "source": [
    "df2.shape"
   ]
  },
  {
   "cell_type": "code",
   "execution_count": 110,
   "id": "ddad53b1-7db9-48c0-aed1-250bbeb4ab57",
   "metadata": {
    "tags": []
   },
   "outputs": [
    {
     "data": {
      "text/plain": [
       "6"
      ]
     },
     "execution_count": 110,
     "metadata": {},
     "output_type": "execute_result"
    }
   ],
   "source": [
    "df2.shape[0]"
   ]
  },
  {
   "cell_type": "code",
   "execution_count": 112,
   "id": "601dbbc3-a7ef-4363-aa03-0f65998a06f0",
   "metadata": {
    "tags": []
   },
   "outputs": [
    {
     "data": {
      "text/plain": [
       "RangeIndex(start=0, stop=6, step=1)"
      ]
     },
     "execution_count": 112,
     "metadata": {},
     "output_type": "execute_result"
    }
   ],
   "source": [
    "df2.index"
   ]
  },
  {
   "cell_type": "code",
   "execution_count": 114,
   "id": "926a7209-fab5-4087-9a8f-d09fe6288cb6",
   "metadata": {
    "tags": []
   },
   "outputs": [
    {
     "data": {
      "text/plain": [
       "Index(['ano', 'estado', 'pop', 'estimativa'], dtype='object')"
      ]
     },
     "execution_count": 114,
     "metadata": {},
     "output_type": "execute_result"
    }
   ],
   "source": [
    "df2.columns"
   ]
  },
  {
   "cell_type": "code",
   "execution_count": 116,
   "id": "4c21ecf9-fb1c-4882-a319-96a09c8bdcfa",
   "metadata": {
    "tags": []
   },
   "outputs": [
    {
     "data": {
      "text/plain": [
       "ano           6\n",
       "estado        6\n",
       "pop           6\n",
       "estimativa    6\n",
       "dtype: int64"
      ]
     },
     "execution_count": 116,
     "metadata": {},
     "output_type": "execute_result"
    }
   ],
   "source": [
    "df2.count()"
   ]
  },
  {
   "cell_type": "markdown",
   "id": "03db8881-ed61-4040-828a-9f05e45ec29f",
   "metadata": {},
   "source": [
    "#### Alterar informações de colunas"
   ]
  },
  {
   "cell_type": "code",
   "execution_count": 193,
   "id": "45b15693-c535-46bf-ac97-389a87e138f1",
   "metadata": {
    "tags": []
   },
   "outputs": [
    {
     "data": {
      "text/html": [
       "<div>\n",
       "<style scoped>\n",
       "    .dataframe tbody tr th:only-of-type {\n",
       "        vertical-align: middle;\n",
       "    }\n",
       "\n",
       "    .dataframe tbody tr th {\n",
       "        vertical-align: top;\n",
       "    }\n",
       "\n",
       "    .dataframe thead th {\n",
       "        text-align: right;\n",
       "    }\n",
       "</style>\n",
       "<table border=\"1\" class=\"dataframe\">\n",
       "  <thead>\n",
       "    <tr style=\"text-align: right;\">\n",
       "      <th></th>\n",
       "      <th>Ano</th>\n",
       "      <th>estado</th>\n",
       "      <th>Populacao</th>\n",
       "      <th>Estimativa</th>\n",
       "    </tr>\n",
       "  </thead>\n",
       "  <tbody>\n",
       "    <tr>\n",
       "      <th>0</th>\n",
       "      <td>2019</td>\n",
       "      <td>SP</td>\n",
       "      <td>45.9</td>\n",
       "      <td>0</td>\n",
       "    </tr>\n",
       "    <tr>\n",
       "      <th>1</th>\n",
       "      <td>2019</td>\n",
       "      <td>MG</td>\n",
       "      <td>21.2</td>\n",
       "      <td>1</td>\n",
       "    </tr>\n",
       "    <tr>\n",
       "      <th>2</th>\n",
       "      <td>2019</td>\n",
       "      <td>PR</td>\n",
       "      <td>16.9</td>\n",
       "      <td>2</td>\n",
       "    </tr>\n",
       "    <tr>\n",
       "      <th>3</th>\n",
       "      <td>2020</td>\n",
       "      <td>SP</td>\n",
       "      <td>46.6</td>\n",
       "      <td>3</td>\n",
       "    </tr>\n",
       "    <tr>\n",
       "      <th>4</th>\n",
       "      <td>2020</td>\n",
       "      <td>MG</td>\n",
       "      <td>21.4</td>\n",
       "      <td>4</td>\n",
       "    </tr>\n",
       "    <tr>\n",
       "      <th>5</th>\n",
       "      <td>2020</td>\n",
       "      <td>PR</td>\n",
       "      <td>17.3</td>\n",
       "      <td>5</td>\n",
       "    </tr>\n",
       "  </tbody>\n",
       "</table>\n",
       "</div>"
      ],
      "text/plain": [
       "    Ano estado  Populacao  Estimativa\n",
       "0  2019     SP       45.9           0\n",
       "1  2019     MG       21.2           1\n",
       "2  2019     PR       16.9           2\n",
       "3  2020     SP       46.6           3\n",
       "4  2020     MG       21.4           4\n",
       "5  2020     PR       17.3           5"
      ]
     },
     "execution_count": 193,
     "metadata": {},
     "output_type": "execute_result"
    }
   ],
   "source": [
    "df2.columns = ['Ano', 'estado', 'Populacao', 'Estimativa']\n",
    "df2"
   ]
  },
  {
   "cell_type": "markdown",
   "id": "2d0294ad-3644-4c19-b754-15627515030c",
   "metadata": {},
   "source": [
    "#### Analisar o DataFrame"
   ]
  },
  {
   "cell_type": "code",
   "execution_count": 183,
   "id": "fecd1b9b-7807-40bd-9c0c-fc14da15cb5b",
   "metadata": {
    "tags": []
   },
   "outputs": [
    {
     "data": {
      "text/html": [
       "<div>\n",
       "<style scoped>\n",
       "    .dataframe tbody tr th:only-of-type {\n",
       "        vertical-align: middle;\n",
       "    }\n",
       "\n",
       "    .dataframe tbody tr th {\n",
       "        vertical-align: top;\n",
       "    }\n",
       "\n",
       "    .dataframe thead th {\n",
       "        text-align: right;\n",
       "    }\n",
       "</style>\n",
       "<table border=\"1\" class=\"dataframe\">\n",
       "  <thead>\n",
       "    <tr style=\"text-align: right;\">\n",
       "      <th></th>\n",
       "      <th>Ano</th>\n",
       "      <th>estado</th>\n",
       "      <th>Populacao</th>\n",
       "      <th>Estimativa</th>\n",
       "    </tr>\n",
       "  </thead>\n",
       "  <tbody>\n",
       "    <tr>\n",
       "      <th>count</th>\n",
       "      <td>6.000000</td>\n",
       "      <td>6</td>\n",
       "      <td>6.000000</td>\n",
       "      <td>6.000000</td>\n",
       "    </tr>\n",
       "    <tr>\n",
       "      <th>unique</th>\n",
       "      <td>NaN</td>\n",
       "      <td>3</td>\n",
       "      <td>NaN</td>\n",
       "      <td>NaN</td>\n",
       "    </tr>\n",
       "    <tr>\n",
       "      <th>top</th>\n",
       "      <td>NaN</td>\n",
       "      <td>SP</td>\n",
       "      <td>NaN</td>\n",
       "      <td>NaN</td>\n",
       "    </tr>\n",
       "    <tr>\n",
       "      <th>freq</th>\n",
       "      <td>NaN</td>\n",
       "      <td>2</td>\n",
       "      <td>NaN</td>\n",
       "      <td>NaN</td>\n",
       "    </tr>\n",
       "    <tr>\n",
       "      <th>mean</th>\n",
       "      <td>2019.500000</td>\n",
       "      <td>NaN</td>\n",
       "      <td>28.216667</td>\n",
       "      <td>2.500000</td>\n",
       "    </tr>\n",
       "    <tr>\n",
       "      <th>std</th>\n",
       "      <td>0.547723</td>\n",
       "      <td>NaN</td>\n",
       "      <td>14.096725</td>\n",
       "      <td>1.870829</td>\n",
       "    </tr>\n",
       "    <tr>\n",
       "      <th>min</th>\n",
       "      <td>2019.000000</td>\n",
       "      <td>NaN</td>\n",
       "      <td>16.900000</td>\n",
       "      <td>0.000000</td>\n",
       "    </tr>\n",
       "    <tr>\n",
       "      <th>25%</th>\n",
       "      <td>2019.000000</td>\n",
       "      <td>NaN</td>\n",
       "      <td>18.275000</td>\n",
       "      <td>1.250000</td>\n",
       "    </tr>\n",
       "    <tr>\n",
       "      <th>50%</th>\n",
       "      <td>2019.500000</td>\n",
       "      <td>NaN</td>\n",
       "      <td>21.300000</td>\n",
       "      <td>2.500000</td>\n",
       "    </tr>\n",
       "    <tr>\n",
       "      <th>75%</th>\n",
       "      <td>2020.000000</td>\n",
       "      <td>NaN</td>\n",
       "      <td>39.775000</td>\n",
       "      <td>3.750000</td>\n",
       "    </tr>\n",
       "    <tr>\n",
       "      <th>max</th>\n",
       "      <td>2020.000000</td>\n",
       "      <td>NaN</td>\n",
       "      <td>46.600000</td>\n",
       "      <td>5.000000</td>\n",
       "    </tr>\n",
       "  </tbody>\n",
       "</table>\n",
       "</div>"
      ],
      "text/plain": [
       "                Ano estado  Populacao  Estimativa\n",
       "count      6.000000      6   6.000000    6.000000\n",
       "unique          NaN      3        NaN         NaN\n",
       "top             NaN     SP        NaN         NaN\n",
       "freq            NaN      2        NaN         NaN\n",
       "mean    2019.500000    NaN  28.216667    2.500000\n",
       "std        0.547723    NaN  14.096725    1.870829\n",
       "min     2019.000000    NaN  16.900000    0.000000\n",
       "25%     2019.000000    NaN  18.275000    1.250000\n",
       "50%     2019.500000    NaN  21.300000    2.500000\n",
       "75%     2020.000000    NaN  39.775000    3.750000\n",
       "max     2020.000000    NaN  46.600000    5.000000"
      ]
     },
     "execution_count": 183,
     "metadata": {},
     "output_type": "execute_result"
    }
   ],
   "source": [
    "df2.describe(include = 'all')"
   ]
  },
  {
   "cell_type": "markdown",
   "id": "a0b7a63a-10e8-4842-917c-ef2f9fb504ad",
   "metadata": {},
   "source": [
    "#### Alterar valores e consultar os dados"
   ]
  },
  {
   "cell_type": "code",
   "execution_count": 185,
   "id": "40145b60-d316-4ca5-b81d-a56a9f697490",
   "metadata": {
    "tags": []
   },
   "outputs": [
    {
     "data": {
      "text/html": [
       "<div>\n",
       "<style scoped>\n",
       "    .dataframe tbody tr th:only-of-type {\n",
       "        vertical-align: middle;\n",
       "    }\n",
       "\n",
       "    .dataframe tbody tr th {\n",
       "        vertical-align: top;\n",
       "    }\n",
       "\n",
       "    .dataframe thead th {\n",
       "        text-align: right;\n",
       "    }\n",
       "</style>\n",
       "<table border=\"1\" class=\"dataframe\">\n",
       "  <thead>\n",
       "    <tr style=\"text-align: right;\">\n",
       "      <th></th>\n",
       "      <th>Ano</th>\n",
       "      <th>estado</th>\n",
       "      <th>Populacao</th>\n",
       "      <th>Estimativa</th>\n",
       "    </tr>\n",
       "  </thead>\n",
       "  <tbody>\n",
       "    <tr>\n",
       "      <th>0</th>\n",
       "      <td>2021</td>\n",
       "      <td>SP</td>\n",
       "      <td>45.9</td>\n",
       "      <td>0</td>\n",
       "    </tr>\n",
       "    <tr>\n",
       "      <th>1</th>\n",
       "      <td>2021</td>\n",
       "      <td>MG</td>\n",
       "      <td>21.2</td>\n",
       "      <td>1</td>\n",
       "    </tr>\n",
       "    <tr>\n",
       "      <th>2</th>\n",
       "      <td>2021</td>\n",
       "      <td>PR</td>\n",
       "      <td>16.9</td>\n",
       "      <td>2</td>\n",
       "    </tr>\n",
       "    <tr>\n",
       "      <th>3</th>\n",
       "      <td>2022</td>\n",
       "      <td>SP</td>\n",
       "      <td>46.6</td>\n",
       "      <td>3</td>\n",
       "    </tr>\n",
       "    <tr>\n",
       "      <th>4</th>\n",
       "      <td>2022</td>\n",
       "      <td>MG</td>\n",
       "      <td>21.4</td>\n",
       "      <td>4</td>\n",
       "    </tr>\n",
       "    <tr>\n",
       "      <th>5</th>\n",
       "      <td>2022</td>\n",
       "      <td>PR</td>\n",
       "      <td>17.3</td>\n",
       "      <td>5</td>\n",
       "    </tr>\n",
       "  </tbody>\n",
       "</table>\n",
       "</div>"
      ],
      "text/plain": [
       "    Ano estado  Populacao  Estimativa\n",
       "0  2021     SP       45.9           0\n",
       "1  2021     MG       21.2           1\n",
       "2  2021     PR       16.9           2\n",
       "3  2022     SP       46.6           3\n",
       "4  2022     MG       21.4           4\n",
       "5  2022     PR       17.3           5"
      ]
     },
     "execution_count": 185,
     "metadata": {},
     "output_type": "execute_result"
    }
   ],
   "source": [
    "df2.Ano += 2\n",
    "df2"
   ]
  },
  {
   "cell_type": "code",
   "execution_count": 143,
   "id": "b70b8d75-adc7-43b1-a22d-d435c7233e76",
   "metadata": {
    "tags": []
   },
   "outputs": [
    {
     "data": {
      "text/html": [
       "<div>\n",
       "<style scoped>\n",
       "    .dataframe tbody tr th:only-of-type {\n",
       "        vertical-align: middle;\n",
       "    }\n",
       "\n",
       "    .dataframe tbody tr th {\n",
       "        vertical-align: top;\n",
       "    }\n",
       "\n",
       "    .dataframe thead th {\n",
       "        text-align: right;\n",
       "    }\n",
       "</style>\n",
       "<table border=\"1\" class=\"dataframe\">\n",
       "  <thead>\n",
       "    <tr style=\"text-align: right;\">\n",
       "      <th></th>\n",
       "      <th>Ano</th>\n",
       "      <th>estado</th>\n",
       "      <th>Populacao</th>\n",
       "      <th>Estimativa</th>\n",
       "    </tr>\n",
       "  </thead>\n",
       "  <tbody>\n",
       "    <tr>\n",
       "      <th>3</th>\n",
       "      <td>2024</td>\n",
       "      <td>SP</td>\n",
       "      <td>46.6</td>\n",
       "      <td>3</td>\n",
       "    </tr>\n",
       "    <tr>\n",
       "      <th>4</th>\n",
       "      <td>2024</td>\n",
       "      <td>MG</td>\n",
       "      <td>21.4</td>\n",
       "      <td>4</td>\n",
       "    </tr>\n",
       "    <tr>\n",
       "      <th>5</th>\n",
       "      <td>2024</td>\n",
       "      <td>PR</td>\n",
       "      <td>17.3</td>\n",
       "      <td>5</td>\n",
       "    </tr>\n",
       "  </tbody>\n",
       "</table>\n",
       "</div>"
      ],
      "text/plain": [
       "    Ano estado  Populacao  Estimativa\n",
       "3  2024     SP       46.6           3\n",
       "4  2024     MG       21.4           4\n",
       "5  2024     PR       17.3           5"
      ]
     },
     "execution_count": 143,
     "metadata": {},
     "output_type": "execute_result"
    }
   ],
   "source": [
    "df2[df2['Ano'] > 2023]"
   ]
  },
  {
   "cell_type": "code",
   "execution_count": 145,
   "id": "18ab7b88-99f6-44d4-a588-38adc1a7b43e",
   "metadata": {
    "tags": []
   },
   "outputs": [
    {
     "data": {
      "text/html": [
       "<div>\n",
       "<style scoped>\n",
       "    .dataframe tbody tr th:only-of-type {\n",
       "        vertical-align: middle;\n",
       "    }\n",
       "\n",
       "    .dataframe tbody tr th {\n",
       "        vertical-align: top;\n",
       "    }\n",
       "\n",
       "    .dataframe thead th {\n",
       "        text-align: right;\n",
       "    }\n",
       "</style>\n",
       "<table border=\"1\" class=\"dataframe\">\n",
       "  <thead>\n",
       "    <tr style=\"text-align: right;\">\n",
       "      <th></th>\n",
       "      <th>Ano</th>\n",
       "      <th>estado</th>\n",
       "      <th>Populacao</th>\n",
       "      <th>Estimativa</th>\n",
       "    </tr>\n",
       "  </thead>\n",
       "  <tbody>\n",
       "    <tr>\n",
       "      <th>3</th>\n",
       "      <td>2024</td>\n",
       "      <td>SP</td>\n",
       "      <td>46.6</td>\n",
       "      <td>3</td>\n",
       "    </tr>\n",
       "    <tr>\n",
       "      <th>4</th>\n",
       "      <td>2024</td>\n",
       "      <td>MG</td>\n",
       "      <td>21.4</td>\n",
       "      <td>4</td>\n",
       "    </tr>\n",
       "    <tr>\n",
       "      <th>5</th>\n",
       "      <td>2024</td>\n",
       "      <td>PR</td>\n",
       "      <td>17.3</td>\n",
       "      <td>5</td>\n",
       "    </tr>\n",
       "  </tbody>\n",
       "</table>\n",
       "</div>"
      ],
      "text/plain": [
       "    Ano estado  Populacao  Estimativa\n",
       "3  2024     SP       46.6           3\n",
       "4  2024     MG       21.4           4\n",
       "5  2024     PR       17.3           5"
      ]
     },
     "execution_count": 145,
     "metadata": {},
     "output_type": "execute_result"
    }
   ],
   "source": [
    "df4 = df2[df2['Ano'] > 2023]\n",
    "df4"
   ]
  },
  {
   "cell_type": "markdown",
   "id": "38fded3b-ce1c-4a40-ad73-e4a424e29656",
   "metadata": {},
   "source": [
    "#### Excluir colunas com drop"
   ]
  },
  {
   "cell_type": "code",
   "execution_count": 153,
   "id": "63d6aa04-d21e-43a4-8429-b56c84c2c2e0",
   "metadata": {
    "tags": []
   },
   "outputs": [
    {
     "data": {
      "text/html": [
       "<div>\n",
       "<style scoped>\n",
       "    .dataframe tbody tr th:only-of-type {\n",
       "        vertical-align: middle;\n",
       "    }\n",
       "\n",
       "    .dataframe tbody tr th {\n",
       "        vertical-align: top;\n",
       "    }\n",
       "\n",
       "    .dataframe thead th {\n",
       "        text-align: right;\n",
       "    }\n",
       "</style>\n",
       "<table border=\"1\" class=\"dataframe\">\n",
       "  <thead>\n",
       "    <tr style=\"text-align: right;\">\n",
       "      <th></th>\n",
       "      <th>estado</th>\n",
       "      <th>Populacao</th>\n",
       "      <th>Estimativa</th>\n",
       "    </tr>\n",
       "  </thead>\n",
       "  <tbody>\n",
       "    <tr>\n",
       "      <th>3</th>\n",
       "      <td>SP</td>\n",
       "      <td>46.6</td>\n",
       "      <td>3</td>\n",
       "    </tr>\n",
       "    <tr>\n",
       "      <th>4</th>\n",
       "      <td>MG</td>\n",
       "      <td>21.4</td>\n",
       "      <td>4</td>\n",
       "    </tr>\n",
       "    <tr>\n",
       "      <th>5</th>\n",
       "      <td>PR</td>\n",
       "      <td>17.3</td>\n",
       "      <td>5</td>\n",
       "    </tr>\n",
       "  </tbody>\n",
       "</table>\n",
       "</div>"
      ],
      "text/plain": [
       "  estado  Populacao  Estimativa\n",
       "3     SP       46.6           3\n",
       "4     MG       21.4           4\n",
       "5     PR       17.3           5"
      ]
     },
     "execution_count": 153,
     "metadata": {},
     "output_type": "execute_result"
    }
   ],
   "source": [
    "df4.drop('Ano', axis = 1)"
   ]
  },
  {
   "cell_type": "code",
   "execution_count": 195,
   "id": "c89e88e4-2542-4917-83d8-d6267110e8c2",
   "metadata": {
    "tags": []
   },
   "outputs": [],
   "source": [
    "df2.drop('Ano', axis = 'columns', inplace = True)"
   ]
  },
  {
   "cell_type": "code",
   "execution_count": 197,
   "id": "f500649a-d0b0-4eb6-baf0-f4b005429eb4",
   "metadata": {
    "tags": []
   },
   "outputs": [
    {
     "data": {
      "text/html": [
       "<div>\n",
       "<style scoped>\n",
       "    .dataframe tbody tr th:only-of-type {\n",
       "        vertical-align: middle;\n",
       "    }\n",
       "\n",
       "    .dataframe tbody tr th {\n",
       "        vertical-align: top;\n",
       "    }\n",
       "\n",
       "    .dataframe thead th {\n",
       "        text-align: right;\n",
       "    }\n",
       "</style>\n",
       "<table border=\"1\" class=\"dataframe\">\n",
       "  <thead>\n",
       "    <tr style=\"text-align: right;\">\n",
       "      <th></th>\n",
       "      <th>estado</th>\n",
       "      <th>Populacao</th>\n",
       "      <th>Estimativa</th>\n",
       "    </tr>\n",
       "  </thead>\n",
       "  <tbody>\n",
       "    <tr>\n",
       "      <th>0</th>\n",
       "      <td>SP</td>\n",
       "      <td>45.9</td>\n",
       "      <td>0</td>\n",
       "    </tr>\n",
       "    <tr>\n",
       "      <th>1</th>\n",
       "      <td>MG</td>\n",
       "      <td>21.2</td>\n",
       "      <td>1</td>\n",
       "    </tr>\n",
       "    <tr>\n",
       "      <th>2</th>\n",
       "      <td>PR</td>\n",
       "      <td>16.9</td>\n",
       "      <td>2</td>\n",
       "    </tr>\n",
       "    <tr>\n",
       "      <th>3</th>\n",
       "      <td>SP</td>\n",
       "      <td>46.6</td>\n",
       "      <td>3</td>\n",
       "    </tr>\n",
       "    <tr>\n",
       "      <th>4</th>\n",
       "      <td>MG</td>\n",
       "      <td>21.4</td>\n",
       "      <td>4</td>\n",
       "    </tr>\n",
       "    <tr>\n",
       "      <th>5</th>\n",
       "      <td>PR</td>\n",
       "      <td>17.3</td>\n",
       "      <td>5</td>\n",
       "    </tr>\n",
       "  </tbody>\n",
       "</table>\n",
       "</div>"
      ],
      "text/plain": [
       "  estado  Populacao  Estimativa\n",
       "0     SP       45.9           0\n",
       "1     MG       21.2           1\n",
       "2     PR       16.9           2\n",
       "3     SP       46.6           3\n",
       "4     MG       21.4           4\n",
       "5     PR       17.3           5"
      ]
     },
     "execution_count": 197,
     "metadata": {},
     "output_type": "execute_result"
    }
   ],
   "source": [
    "df2"
   ]
  },
  {
   "cell_type": "markdown",
   "id": "02028c1c-c467-42db-b384-5575c4b72867",
   "metadata": {},
   "source": [
    "#### Excluir linhas"
   ]
  },
  {
   "cell_type": "code",
   "execution_count": 200,
   "id": "4d5728d7-388f-428d-8c19-7ee86a1ff76c",
   "metadata": {
    "tags": []
   },
   "outputs": [
    {
     "data": {
      "text/html": [
       "<div>\n",
       "<style scoped>\n",
       "    .dataframe tbody tr th:only-of-type {\n",
       "        vertical-align: middle;\n",
       "    }\n",
       "\n",
       "    .dataframe tbody tr th {\n",
       "        vertical-align: top;\n",
       "    }\n",
       "\n",
       "    .dataframe thead th {\n",
       "        text-align: right;\n",
       "    }\n",
       "</style>\n",
       "<table border=\"1\" class=\"dataframe\">\n",
       "  <thead>\n",
       "    <tr style=\"text-align: right;\">\n",
       "      <th></th>\n",
       "      <th>estado</th>\n",
       "      <th>Populacao</th>\n",
       "      <th>Estimativa</th>\n",
       "    </tr>\n",
       "  </thead>\n",
       "  <tbody>\n",
       "    <tr>\n",
       "      <th>2</th>\n",
       "      <td>PR</td>\n",
       "      <td>16.9</td>\n",
       "      <td>2</td>\n",
       "    </tr>\n",
       "    <tr>\n",
       "      <th>3</th>\n",
       "      <td>SP</td>\n",
       "      <td>46.6</td>\n",
       "      <td>3</td>\n",
       "    </tr>\n",
       "    <tr>\n",
       "      <th>4</th>\n",
       "      <td>MG</td>\n",
       "      <td>21.4</td>\n",
       "      <td>4</td>\n",
       "    </tr>\n",
       "    <tr>\n",
       "      <th>5</th>\n",
       "      <td>PR</td>\n",
       "      <td>17.3</td>\n",
       "      <td>5</td>\n",
       "    </tr>\n",
       "  </tbody>\n",
       "</table>\n",
       "</div>"
      ],
      "text/plain": [
       "  estado  Populacao  Estimativa\n",
       "2     PR       16.9           2\n",
       "3     SP       46.6           3\n",
       "4     MG       21.4           4\n",
       "5     PR       17.3           5"
      ]
     },
     "execution_count": 200,
     "metadata": {},
     "output_type": "execute_result"
    }
   ],
   "source": [
    "df2.drop([0, 1])"
   ]
  },
  {
   "cell_type": "markdown",
   "id": "b43d0609-c117-42cf-bd08-ec1578e85cdb",
   "metadata": {},
   "source": [
    "#### Observe a propagação na exclusão definitiva"
   ]
  },
  {
   "cell_type": "code",
   "execution_count": 203,
   "id": "4ecbefb9-cf8a-418d-b383-e54b9163d7f3",
   "metadata": {
    "tags": []
   },
   "outputs": [
    {
     "data": {
      "text/html": [
       "<div>\n",
       "<style scoped>\n",
       "    .dataframe tbody tr th:only-of-type {\n",
       "        vertical-align: middle;\n",
       "    }\n",
       "\n",
       "    .dataframe tbody tr th {\n",
       "        vertical-align: top;\n",
       "    }\n",
       "\n",
       "    .dataframe thead th {\n",
       "        text-align: right;\n",
       "    }\n",
       "</style>\n",
       "<table border=\"1\" class=\"dataframe\">\n",
       "  <thead>\n",
       "    <tr style=\"text-align: right;\">\n",
       "      <th></th>\n",
       "      <th>estado</th>\n",
       "      <th>Populacao</th>\n",
       "      <th>Estimativa</th>\n",
       "    </tr>\n",
       "  </thead>\n",
       "  <tbody>\n",
       "    <tr>\n",
       "      <th>0</th>\n",
       "      <td>SP</td>\n",
       "      <td>45.9</td>\n",
       "      <td>0</td>\n",
       "    </tr>\n",
       "    <tr>\n",
       "      <th>1</th>\n",
       "      <td>MG</td>\n",
       "      <td>21.2</td>\n",
       "      <td>1</td>\n",
       "    </tr>\n",
       "    <tr>\n",
       "      <th>2</th>\n",
       "      <td>PR</td>\n",
       "      <td>16.9</td>\n",
       "      <td>2</td>\n",
       "    </tr>\n",
       "    <tr>\n",
       "      <th>3</th>\n",
       "      <td>SP</td>\n",
       "      <td>46.6</td>\n",
       "      <td>3</td>\n",
       "    </tr>\n",
       "    <tr>\n",
       "      <th>4</th>\n",
       "      <td>MG</td>\n",
       "      <td>21.4</td>\n",
       "      <td>4</td>\n",
       "    </tr>\n",
       "    <tr>\n",
       "      <th>5</th>\n",
       "      <td>PR</td>\n",
       "      <td>17.3</td>\n",
       "      <td>5</td>\n",
       "    </tr>\n",
       "  </tbody>\n",
       "</table>\n",
       "</div>"
      ],
      "text/plain": [
       "  estado  Populacao  Estimativa\n",
       "0     SP       45.9           0\n",
       "1     MG       21.2           1\n",
       "2     PR       16.9           2\n",
       "3     SP       46.6           3\n",
       "4     MG       21.4           4\n",
       "5     PR       17.3           5"
      ]
     },
     "execution_count": 203,
     "metadata": {},
     "output_type": "execute_result"
    }
   ],
   "source": [
    "dflinhas = df2\n",
    "dflinhas"
   ]
  },
  {
   "cell_type": "code",
   "execution_count": 205,
   "id": "c18a2c19-1f10-49cd-8276-8c30df0269da",
   "metadata": {
    "tags": []
   },
   "outputs": [],
   "source": [
    "dflinhas.drop([0, 1], inplace = True)"
   ]
  },
  {
   "cell_type": "code",
   "execution_count": 207,
   "id": "9cab0d37-6978-4860-aca4-b564dfc24cfd",
   "metadata": {
    "tags": []
   },
   "outputs": [
    {
     "data": {
      "text/html": [
       "<div>\n",
       "<style scoped>\n",
       "    .dataframe tbody tr th:only-of-type {\n",
       "        vertical-align: middle;\n",
       "    }\n",
       "\n",
       "    .dataframe tbody tr th {\n",
       "        vertical-align: top;\n",
       "    }\n",
       "\n",
       "    .dataframe thead th {\n",
       "        text-align: right;\n",
       "    }\n",
       "</style>\n",
       "<table border=\"1\" class=\"dataframe\">\n",
       "  <thead>\n",
       "    <tr style=\"text-align: right;\">\n",
       "      <th></th>\n",
       "      <th>estado</th>\n",
       "      <th>Populacao</th>\n",
       "      <th>Estimativa</th>\n",
       "    </tr>\n",
       "  </thead>\n",
       "  <tbody>\n",
       "    <tr>\n",
       "      <th>2</th>\n",
       "      <td>PR</td>\n",
       "      <td>16.9</td>\n",
       "      <td>2</td>\n",
       "    </tr>\n",
       "    <tr>\n",
       "      <th>3</th>\n",
       "      <td>SP</td>\n",
       "      <td>46.6</td>\n",
       "      <td>3</td>\n",
       "    </tr>\n",
       "    <tr>\n",
       "      <th>4</th>\n",
       "      <td>MG</td>\n",
       "      <td>21.4</td>\n",
       "      <td>4</td>\n",
       "    </tr>\n",
       "    <tr>\n",
       "      <th>5</th>\n",
       "      <td>PR</td>\n",
       "      <td>17.3</td>\n",
       "      <td>5</td>\n",
       "    </tr>\n",
       "  </tbody>\n",
       "</table>\n",
       "</div>"
      ],
      "text/plain": [
       "  estado  Populacao  Estimativa\n",
       "2     PR       16.9           2\n",
       "3     SP       46.6           3\n",
       "4     MG       21.4           4\n",
       "5     PR       17.3           5"
      ]
     },
     "execution_count": 207,
     "metadata": {},
     "output_type": "execute_result"
    }
   ],
   "source": [
    "dflinhas"
   ]
  },
  {
   "cell_type": "code",
   "execution_count": 209,
   "id": "4376f7d0-69a6-4ea9-9de7-1304bf6c1bd2",
   "metadata": {
    "tags": []
   },
   "outputs": [
    {
     "data": {
      "text/html": [
       "<div>\n",
       "<style scoped>\n",
       "    .dataframe tbody tr th:only-of-type {\n",
       "        vertical-align: middle;\n",
       "    }\n",
       "\n",
       "    .dataframe tbody tr th {\n",
       "        vertical-align: top;\n",
       "    }\n",
       "\n",
       "    .dataframe thead th {\n",
       "        text-align: right;\n",
       "    }\n",
       "</style>\n",
       "<table border=\"1\" class=\"dataframe\">\n",
       "  <thead>\n",
       "    <tr style=\"text-align: right;\">\n",
       "      <th></th>\n",
       "      <th>estado</th>\n",
       "      <th>Populacao</th>\n",
       "      <th>Estimativa</th>\n",
       "    </tr>\n",
       "  </thead>\n",
       "  <tbody>\n",
       "    <tr>\n",
       "      <th>2</th>\n",
       "      <td>PR</td>\n",
       "      <td>16.9</td>\n",
       "      <td>2</td>\n",
       "    </tr>\n",
       "    <tr>\n",
       "      <th>3</th>\n",
       "      <td>SP</td>\n",
       "      <td>46.6</td>\n",
       "      <td>3</td>\n",
       "    </tr>\n",
       "    <tr>\n",
       "      <th>4</th>\n",
       "      <td>MG</td>\n",
       "      <td>21.4</td>\n",
       "      <td>4</td>\n",
       "    </tr>\n",
       "    <tr>\n",
       "      <th>5</th>\n",
       "      <td>PR</td>\n",
       "      <td>17.3</td>\n",
       "      <td>5</td>\n",
       "    </tr>\n",
       "  </tbody>\n",
       "</table>\n",
       "</div>"
      ],
      "text/plain": [
       "  estado  Populacao  Estimativa\n",
       "2     PR       16.9           2\n",
       "3     SP       46.6           3\n",
       "4     MG       21.4           4\n",
       "5     PR       17.3           5"
      ]
     },
     "execution_count": 209,
     "metadata": {},
     "output_type": "execute_result"
    }
   ],
   "source": [
    "df2"
   ]
  },
  {
   "cell_type": "markdown",
   "id": "32772a01-282d-4037-8f83-2a781f1dcec0",
   "metadata": {},
   "source": [
    "#### Ver dados de linhas"
   ]
  },
  {
   "cell_type": "code",
   "execution_count": 212,
   "id": "15f52c64-a94a-46ce-bedb-6678dc72ba10",
   "metadata": {
    "tags": []
   },
   "outputs": [
    {
     "data": {
      "text/plain": [
       "estado          PR\n",
       "Populacao     16.9\n",
       "Estimativa       2\n",
       "Name: 2, dtype: object"
      ]
     },
     "execution_count": 212,
     "metadata": {},
     "output_type": "execute_result"
    }
   ],
   "source": [
    "df2.iloc[0]"
   ]
  },
  {
   "cell_type": "code",
   "execution_count": 216,
   "id": "637f3895-296b-4dde-8fcc-94196a51d817",
   "metadata": {
    "tags": []
   },
   "outputs": [
    {
     "data": {
      "text/html": [
       "<div>\n",
       "<style scoped>\n",
       "    .dataframe tbody tr th:only-of-type {\n",
       "        vertical-align: middle;\n",
       "    }\n",
       "\n",
       "    .dataframe tbody tr th {\n",
       "        vertical-align: top;\n",
       "    }\n",
       "\n",
       "    .dataframe thead th {\n",
       "        text-align: right;\n",
       "    }\n",
       "</style>\n",
       "<table border=\"1\" class=\"dataframe\">\n",
       "  <thead>\n",
       "    <tr style=\"text-align: right;\">\n",
       "      <th></th>\n",
       "      <th>estado</th>\n",
       "      <th>Populacao</th>\n",
       "      <th>Estimativa</th>\n",
       "    </tr>\n",
       "  </thead>\n",
       "  <tbody>\n",
       "    <tr>\n",
       "      <th>3</th>\n",
       "      <td>SP</td>\n",
       "      <td>46.6</td>\n",
       "      <td>3</td>\n",
       "    </tr>\n",
       "    <tr>\n",
       "      <th>4</th>\n",
       "      <td>MG</td>\n",
       "      <td>21.4</td>\n",
       "      <td>4</td>\n",
       "    </tr>\n",
       "  </tbody>\n",
       "</table>\n",
       "</div>"
      ],
      "text/plain": [
       "  estado  Populacao  Estimativa\n",
       "3     SP       46.6           3\n",
       "4     MG       21.4           4"
      ]
     },
     "execution_count": 216,
     "metadata": {},
     "output_type": "execute_result"
    }
   ],
   "source": [
    "df2.iloc[1:3]"
   ]
  },
  {
   "cell_type": "code",
   "execution_count": 1,
   "id": "f34072c4-d4a8-4f0e-aca0-ffa9a87e77cf",
   "metadata": {
    "tags": []
   },
   "outputs": [
    {
     "ename": "NameError",
     "evalue": "name 'df2' is not defined",
     "output_type": "error",
     "traceback": [
      "\u001b[1;31m---------------------------------------------------------------------------\u001b[0m",
      "\u001b[1;31mNameError\u001b[0m                                 Traceback (most recent call last)",
      "Cell \u001b[1;32mIn[1], line 1\u001b[0m\n\u001b[1;32m----> 1\u001b[0m \u001b[43mdf2\u001b[49m\u001b[38;5;241m.\u001b[39miloc[\u001b[38;5;241m1\u001b[39m:\u001b[38;5;241m3\u001b[39m, [\u001b[38;5;241m1\u001b[39m, \u001b[38;5;241m2\u001b[39m]]\n",
      "\u001b[1;31mNameError\u001b[0m: name 'df2' is not defined"
     ]
    }
   ],
   "source": [
    "df2.iloc[1:3, [1, 2]]"
   ]
  },
  {
   "cell_type": "code",
   "execution_count": null,
   "id": "30dc6975-c7af-46b3-9a3c-4fa2b4c6cfc6",
   "metadata": {
    "tags": []
   },
   "outputs": [],
   "source": [
    "df2"
   ]
  },
  {
   "cell_type": "markdown",
   "id": "64e4805e-bc80-4de2-a902-b3e32f85fea7",
   "metadata": {},
   "source": [
    "## Demostração de MatplotLib e Seaborn"
   ]
  },
  {
   "cell_type": "markdown",
   "id": "789eb8f6-8728-4442-941f-e1ca6b3f9493",
   "metadata": {},
   "source": [
    "### Disciplina - Introdução a ciência de dados \n",
    "### Aula 7"
   ]
  },
  {
   "cell_type": "markdown",
   "id": "33193e37-01f9-4b36-81e8-95f4091dd148",
   "metadata": {},
   "source": [
    "#### Importação de Bibliotecas"
   ]
  },
  {
   "cell_type": "code",
   "execution_count": 3,
   "id": "9efe49f2-cde6-4627-ae3b-980323221e05",
   "metadata": {
    "tags": []
   },
   "outputs": [],
   "source": [
    "import pandas as pd\n",
    "import matplotlib.pyplot as plt\n",
    "import numpy as np\n",
    "import seaborn as sns"
   ]
  },
  {
   "cell_type": "markdown",
   "id": "b1f366c1-1aa6-4f0c-9921-b9348bee6de9",
   "metadata": {},
   "source": [
    "#### Gerar X,Y de pontos"
   ]
  },
  {
   "cell_type": "code",
   "execution_count": 12,
   "id": "612081d8-f29a-4907-aabb-e99e3f00a4c8",
   "metadata": {
    "tags": []
   },
   "outputs": [],
   "source": [
    "x = [1, 2, 3, 4, 5, 6, 7, 8, 9, 10]\n",
    "y = [1, 2, 3, 4, 2, 6, 7, 8, 9, 10]"
   ]
  },
  {
   "cell_type": "markdown",
   "id": "6c554cea-b7e9-4c56-8da9-7990247ab775",
   "metadata": {},
   "source": [
    "#### Plotar X,Y"
   ]
  },
  {
   "cell_type": "markdown",
   "id": "0325f7b9-4e95-4ea1-b5dd-d21ee5c1bd85",
   "metadata": {
    "tags": []
   },
   "source": [
    "x1 = np.arange(-100, 100, 1)\n",
    "x1"
   ]
  },
  {
   "cell_type": "code",
   "execution_count": 14,
   "id": "33c36feb-0181-48a9-afdf-785710a68a1a",
   "metadata": {
    "tags": []
   },
   "outputs": [
    {
     "data": {
      "text/plain": [
       "<function matplotlib.pyplot.show(close=None, block=None)>"
      ]
     },
     "execution_count": 14,
     "metadata": {},
     "output_type": "execute_result"
    },
    {
     "data": {
      "image/png": "[encoded data removed]",
      "text/plain": [
       "<Figure size 640x480 with 1 Axes>"
      ]
     },
     "metadata": {},
     "output_type": "display_data"
    }
   ],
   "source": [
    "plt.scatter(x, y)\n",
    "plt.show"
   ]
  },
  {
   "cell_type": "code",
   "execution_count": 22,
   "id": "c6a7e84e-c94e-4862-9926-707963c2ed79",
   "metadata": {
    "tags": []
   },
   "outputs": [
    {
     "data": {
      "image/png": "[encoded data removed]",
      "text/plain": [
       "<Figure size 640x480 with 1 Axes>"
      ]
     },
     "metadata": {},
     "output_type": "display_data"
    }
   ],
   "source": [
    "plt.plot(x1, x1 ** 2)\n",
    "plt.show()"
   ]
  },
  {
   "cell_type": "markdown",
   "id": "50c1c0a7-d75e-4246-b2f5-4e6974449ab6",
   "metadata": {},
   "source": [
    "#### Exprimentar ver cortar o eixo X (vamos diminuir um pouco o valor de Y)"
   ]
  },
  {
   "cell_type": "code",
   "execution_count": 25,
   "id": "5bad750d-d0b0-4b08-a84c-8e853d3be728",
   "metadata": {
    "tags": []
   },
   "outputs": [
    {
     "data": {
      "image/png": "[encoded data removed]",
      "text/plain": [
       "<Figure size 640x480 with 1 Axes>"
      ]
     },
     "metadata": {},
     "output_type": "display_data"
    }
   ],
   "source": [
    "plt.plot(x1, (x1**2) - 2000)\n",
    "plt.show()"
   ]
  },
  {
   "cell_type": "markdown",
   "id": "344647c2-3d84-440f-9fb1-5c81a196a344",
   "metadata": {},
   "source": [
    "#### Mais exemplos com dados representando dias do mês"
   ]
  },
  {
   "cell_type": "code",
   "execution_count": 28,
   "id": "26f96c78-fef5-4a10-8a14-fa886eb1d396",
   "metadata": {
    "tags": []
   },
   "outputs": [
    {
     "data": {
      "text/plain": [
       "array([ 1,  2,  3,  4,  5,  6,  7,  8,  9, 10, 11, 12, 13, 14, 15, 16, 17,\n",
       "       18, 19, 20, 21, 22, 23, 24, 25, 26, 27, 28, 29, 30])"
      ]
     },
     "execution_count": 28,
     "metadata": {},
     "output_type": "execute_result"
    }
   ],
   "source": [
    "dias = np.arange(1, 31)\n",
    "dias"
   ]
  },
  {
   "cell_type": "code",
   "execution_count": 30,
   "id": "55ec883e-0c4e-4f63-8711-478a3a4088b9",
   "metadata": {
    "tags": []
   },
   "outputs": [],
   "source": [
    "vacinados = np.random.randint(0, 1000, 30)\n",
    "contagios = np.random.randint(0, 700, 30)"
   ]
  },
  {
   "cell_type": "code",
   "execution_count": 34,
   "id": "244eb8d1-a6cb-44bd-b563-658767332eb5",
   "metadata": {
    "tags": []
   },
   "outputs": [
    {
     "data": {
      "text/plain": [
       "array([298, 424, 673, 399, 415, 281, 899, 259, 181, 574, 115, 675, 283,\n",
       "       344, 948, 997, 133,  80, 424, 174, 429, 170, 884,  34, 991,  51,\n",
       "       800, 492, 568, 522])"
      ]
     },
     "execution_count": 34,
     "metadata": {},
     "output_type": "execute_result"
    }
   ],
   "source": [
    "vacinados"
   ]
  },
  {
   "cell_type": "code",
   "execution_count": 36,
   "id": "25373f50-a9be-4d71-a504-3159ef29b2bf",
   "metadata": {
    "tags": []
   },
   "outputs": [
    {
     "data": {
      "text/plain": [
       "array([419, 263, 522, 433, 104,   3, 685,  83, 509, 179, 538, 467, 561,\n",
       "       432, 248, 612, 233,  54,  96, 147, 212, 162, 394, 577, 190, 647,\n",
       "       136, 176,  73, 170])"
      ]
     },
     "execution_count": 36,
     "metadata": {},
     "output_type": "execute_result"
    }
   ],
   "source": [
    "contagios"
   ]
  },
  {
   "cell_type": "markdown",
   "id": "145c9c4a-d733-4c39-b607-a06d9d10849b",
   "metadata": {},
   "source": [
    "#### Plotar Gráfico"
   ]
  },
  {
   "cell_type": "code",
   "execution_count": 51,
   "id": "94ece7bd-df9d-4d44-9021-4f0e3a4c3edf",
   "metadata": {
    "tags": []
   },
   "outputs": [
    {
     "data": {
      "image/png": "[encoded data removed]",
      "text/plain": [
       "<Figure size 1000x500 with 1 Axes>"
      ]
     },
     "metadata": {},
     "output_type": "display_data"
    }
   ],
   "source": [
    "# Definir o estilo do grafico\n",
    "## plt.style.use('classic')\n",
    "## plt.style.use('dark_background')\n",
    "plt.style.use('default')\n",
    "\n",
    "# Definir o tamanho da imagem do gráfico\n",
    "plt.figure(figsize = (10, 5))\n",
    "\n",
    "# Definir o tipo de gráfico \n",
    "plt.bar(dias, vacinados)\n",
    "plt.plot(dias, contagios, 'r')\n",
    "\n",
    "# Configurar o label para o  eixo Y\n",
    "plt.ylabel('Vacinados por dia')\n",
    "\n",
    "# Mostrar o gráfico\n",
    "plt.show()"
   ]
  },
  {
   "cell_type": "markdown",
   "id": "6c2d4924-70af-4566-9eed-1193e358521f",
   "metadata": {},
   "source": [
    "#### Criar um DataFrame com dados aliatórios"
   ]
  },
  {
   "cell_type": "code",
   "execution_count": 62,
   "id": "3d628793-3b8c-409d-8ebb-fb70ed8fc2c3",
   "metadata": {
    "tags": []
   },
   "outputs": [
    {
     "data": {
      "text/html": [
       "<div>\n",
       "<style scoped>\n",
       "    .dataframe tbody tr th:only-of-type {\n",
       "        vertical-align: middle;\n",
       "    }\n",
       "\n",
       "    .dataframe tbody tr th {\n",
       "        vertical-align: top;\n",
       "    }\n",
       "\n",
       "    .dataframe thead th {\n",
       "        text-align: right;\n",
       "    }\n",
       "</style>\n",
       "<table border=\"1\" class=\"dataframe\">\n",
       "  <thead>\n",
       "    <tr style=\"text-align: right;\">\n",
       "      <th></th>\n",
       "      <th>Dia</th>\n",
       "    </tr>\n",
       "  </thead>\n",
       "  <tbody>\n",
       "    <tr>\n",
       "      <th>0</th>\n",
       "      <td>1</td>\n",
       "    </tr>\n",
       "    <tr>\n",
       "      <th>1</th>\n",
       "      <td>2</td>\n",
       "    </tr>\n",
       "    <tr>\n",
       "      <th>2</th>\n",
       "      <td>3</td>\n",
       "    </tr>\n",
       "    <tr>\n",
       "      <th>3</th>\n",
       "      <td>4</td>\n",
       "    </tr>\n",
       "    <tr>\n",
       "      <th>4</th>\n",
       "      <td>5</td>\n",
       "    </tr>\n",
       "    <tr>\n",
       "      <th>5</th>\n",
       "      <td>6</td>\n",
       "    </tr>\n",
       "    <tr>\n",
       "      <th>6</th>\n",
       "      <td>7</td>\n",
       "    </tr>\n",
       "    <tr>\n",
       "      <th>7</th>\n",
       "      <td>8</td>\n",
       "    </tr>\n",
       "    <tr>\n",
       "      <th>8</th>\n",
       "      <td>9</td>\n",
       "    </tr>\n",
       "    <tr>\n",
       "      <th>9</th>\n",
       "      <td>10</td>\n",
       "    </tr>\n",
       "    <tr>\n",
       "      <th>10</th>\n",
       "      <td>11</td>\n",
       "    </tr>\n",
       "    <tr>\n",
       "      <th>11</th>\n",
       "      <td>12</td>\n",
       "    </tr>\n",
       "    <tr>\n",
       "      <th>12</th>\n",
       "      <td>13</td>\n",
       "    </tr>\n",
       "    <tr>\n",
       "      <th>13</th>\n",
       "      <td>14</td>\n",
       "    </tr>\n",
       "    <tr>\n",
       "      <th>14</th>\n",
       "      <td>15</td>\n",
       "    </tr>\n",
       "    <tr>\n",
       "      <th>15</th>\n",
       "      <td>16</td>\n",
       "    </tr>\n",
       "    <tr>\n",
       "      <th>16</th>\n",
       "      <td>17</td>\n",
       "    </tr>\n",
       "    <tr>\n",
       "      <th>17</th>\n",
       "      <td>18</td>\n",
       "    </tr>\n",
       "    <tr>\n",
       "      <th>18</th>\n",
       "      <td>19</td>\n",
       "    </tr>\n",
       "    <tr>\n",
       "      <th>19</th>\n",
       "      <td>20</td>\n",
       "    </tr>\n",
       "    <tr>\n",
       "      <th>20</th>\n",
       "      <td>21</td>\n",
       "    </tr>\n",
       "    <tr>\n",
       "      <th>21</th>\n",
       "      <td>22</td>\n",
       "    </tr>\n",
       "    <tr>\n",
       "      <th>22</th>\n",
       "      <td>23</td>\n",
       "    </tr>\n",
       "    <tr>\n",
       "      <th>23</th>\n",
       "      <td>24</td>\n",
       "    </tr>\n",
       "    <tr>\n",
       "      <th>24</th>\n",
       "      <td>25</td>\n",
       "    </tr>\n",
       "    <tr>\n",
       "      <th>25</th>\n",
       "      <td>26</td>\n",
       "    </tr>\n",
       "    <tr>\n",
       "      <th>26</th>\n",
       "      <td>27</td>\n",
       "    </tr>\n",
       "    <tr>\n",
       "      <th>27</th>\n",
       "      <td>28</td>\n",
       "    </tr>\n",
       "    <tr>\n",
       "      <th>28</th>\n",
       "      <td>29</td>\n",
       "    </tr>\n",
       "    <tr>\n",
       "      <th>29</th>\n",
       "      <td>30</td>\n",
       "    </tr>\n",
       "  </tbody>\n",
       "</table>\n",
       "</div>"
      ],
      "text/plain": [
       "    Dia\n",
       "0     1\n",
       "1     2\n",
       "2     3\n",
       "3     4\n",
       "4     5\n",
       "5     6\n",
       "6     7\n",
       "7     8\n",
       "8     9\n",
       "9    10\n",
       "10   11\n",
       "11   12\n",
       "12   13\n",
       "13   14\n",
       "14   15\n",
       "15   16\n",
       "16   17\n",
       "17   18\n",
       "18   19\n",
       "19   20\n",
       "20   21\n",
       "21   22\n",
       "22   23\n",
       "23   24\n",
       "24   25\n",
       "25   26\n",
       "26   27\n",
       "27   28\n",
       "28   29\n",
       "29   30"
      ]
     },
     "execution_count": 62,
     "metadata": {},
     "output_type": "execute_result"
    }
   ],
   "source": [
    "dados = pd.DataFrame(dias, columns = ['Dia'])\n",
    "dados"
   ]
  },
  {
   "cell_type": "code",
   "execution_count": 64,
   "id": "60d6a437-b810-49e7-adcb-399fce244416",
   "metadata": {
    "tags": []
   },
   "outputs": [
    {
     "data": {
      "text/html": [
       "<div>\n",
       "<style scoped>\n",
       "    .dataframe tbody tr th:only-of-type {\n",
       "        vertical-align: middle;\n",
       "    }\n",
       "\n",
       "    .dataframe tbody tr th {\n",
       "        vertical-align: top;\n",
       "    }\n",
       "\n",
       "    .dataframe thead th {\n",
       "        text-align: right;\n",
       "    }\n",
       "</style>\n",
       "<table border=\"1\" class=\"dataframe\">\n",
       "  <thead>\n",
       "    <tr style=\"text-align: right;\">\n",
       "      <th></th>\n",
       "      <th>Dia</th>\n",
       "      <th>Contágios</th>\n",
       "      <th>Vacinados</th>\n",
       "    </tr>\n",
       "  </thead>\n",
       "  <tbody>\n",
       "    <tr>\n",
       "      <th>0</th>\n",
       "      <td>1</td>\n",
       "      <td>419</td>\n",
       "      <td>298</td>\n",
       "    </tr>\n",
       "    <tr>\n",
       "      <th>1</th>\n",
       "      <td>2</td>\n",
       "      <td>263</td>\n",
       "      <td>424</td>\n",
       "    </tr>\n",
       "    <tr>\n",
       "      <th>2</th>\n",
       "      <td>3</td>\n",
       "      <td>522</td>\n",
       "      <td>673</td>\n",
       "    </tr>\n",
       "    <tr>\n",
       "      <th>3</th>\n",
       "      <td>4</td>\n",
       "      <td>433</td>\n",
       "      <td>399</td>\n",
       "    </tr>\n",
       "    <tr>\n",
       "      <th>4</th>\n",
       "      <td>5</td>\n",
       "      <td>104</td>\n",
       "      <td>415</td>\n",
       "    </tr>\n",
       "    <tr>\n",
       "      <th>5</th>\n",
       "      <td>6</td>\n",
       "      <td>3</td>\n",
       "      <td>281</td>\n",
       "    </tr>\n",
       "    <tr>\n",
       "      <th>6</th>\n",
       "      <td>7</td>\n",
       "      <td>685</td>\n",
       "      <td>899</td>\n",
       "    </tr>\n",
       "    <tr>\n",
       "      <th>7</th>\n",
       "      <td>8</td>\n",
       "      <td>83</td>\n",
       "      <td>259</td>\n",
       "    </tr>\n",
       "    <tr>\n",
       "      <th>8</th>\n",
       "      <td>9</td>\n",
       "      <td>509</td>\n",
       "      <td>181</td>\n",
       "    </tr>\n",
       "    <tr>\n",
       "      <th>9</th>\n",
       "      <td>10</td>\n",
       "      <td>179</td>\n",
       "      <td>574</td>\n",
       "    </tr>\n",
       "    <tr>\n",
       "      <th>10</th>\n",
       "      <td>11</td>\n",
       "      <td>538</td>\n",
       "      <td>115</td>\n",
       "    </tr>\n",
       "    <tr>\n",
       "      <th>11</th>\n",
       "      <td>12</td>\n",
       "      <td>467</td>\n",
       "      <td>675</td>\n",
       "    </tr>\n",
       "    <tr>\n",
       "      <th>12</th>\n",
       "      <td>13</td>\n",
       "      <td>561</td>\n",
       "      <td>283</td>\n",
       "    </tr>\n",
       "    <tr>\n",
       "      <th>13</th>\n",
       "      <td>14</td>\n",
       "      <td>432</td>\n",
       "      <td>344</td>\n",
       "    </tr>\n",
       "    <tr>\n",
       "      <th>14</th>\n",
       "      <td>15</td>\n",
       "      <td>248</td>\n",
       "      <td>948</td>\n",
       "    </tr>\n",
       "    <tr>\n",
       "      <th>15</th>\n",
       "      <td>16</td>\n",
       "      <td>612</td>\n",
       "      <td>997</td>\n",
       "    </tr>\n",
       "    <tr>\n",
       "      <th>16</th>\n",
       "      <td>17</td>\n",
       "      <td>233</td>\n",
       "      <td>133</td>\n",
       "    </tr>\n",
       "    <tr>\n",
       "      <th>17</th>\n",
       "      <td>18</td>\n",
       "      <td>54</td>\n",
       "      <td>80</td>\n",
       "    </tr>\n",
       "    <tr>\n",
       "      <th>18</th>\n",
       "      <td>19</td>\n",
       "      <td>96</td>\n",
       "      <td>424</td>\n",
       "    </tr>\n",
       "    <tr>\n",
       "      <th>19</th>\n",
       "      <td>20</td>\n",
       "      <td>147</td>\n",
       "      <td>174</td>\n",
       "    </tr>\n",
       "    <tr>\n",
       "      <th>20</th>\n",
       "      <td>21</td>\n",
       "      <td>212</td>\n",
       "      <td>429</td>\n",
       "    </tr>\n",
       "    <tr>\n",
       "      <th>21</th>\n",
       "      <td>22</td>\n",
       "      <td>162</td>\n",
       "      <td>170</td>\n",
       "    </tr>\n",
       "    <tr>\n",
       "      <th>22</th>\n",
       "      <td>23</td>\n",
       "      <td>394</td>\n",
       "      <td>884</td>\n",
       "    </tr>\n",
       "    <tr>\n",
       "      <th>23</th>\n",
       "      <td>24</td>\n",
       "      <td>577</td>\n",
       "      <td>34</td>\n",
       "    </tr>\n",
       "    <tr>\n",
       "      <th>24</th>\n",
       "      <td>25</td>\n",
       "      <td>190</td>\n",
       "      <td>991</td>\n",
       "    </tr>\n",
       "    <tr>\n",
       "      <th>25</th>\n",
       "      <td>26</td>\n",
       "      <td>647</td>\n",
       "      <td>51</td>\n",
       "    </tr>\n",
       "    <tr>\n",
       "      <th>26</th>\n",
       "      <td>27</td>\n",
       "      <td>136</td>\n",
       "      <td>800</td>\n",
       "    </tr>\n",
       "    <tr>\n",
       "      <th>27</th>\n",
       "      <td>28</td>\n",
       "      <td>176</td>\n",
       "      <td>492</td>\n",
       "    </tr>\n",
       "    <tr>\n",
       "      <th>28</th>\n",
       "      <td>29</td>\n",
       "      <td>73</td>\n",
       "      <td>568</td>\n",
       "    </tr>\n",
       "    <tr>\n",
       "      <th>29</th>\n",
       "      <td>30</td>\n",
       "      <td>170</td>\n",
       "      <td>522</td>\n",
       "    </tr>\n",
       "  </tbody>\n",
       "</table>\n",
       "</div>"
      ],
      "text/plain": [
       "    Dia  Contágios  Vacinados\n",
       "0     1        419        298\n",
       "1     2        263        424\n",
       "2     3        522        673\n",
       "3     4        433        399\n",
       "4     5        104        415\n",
       "5     6          3        281\n",
       "6     7        685        899\n",
       "7     8         83        259\n",
       "8     9        509        181\n",
       "9    10        179        574\n",
       "10   11        538        115\n",
       "11   12        467        675\n",
       "12   13        561        283\n",
       "13   14        432        344\n",
       "14   15        248        948\n",
       "15   16        612        997\n",
       "16   17        233        133\n",
       "17   18         54         80\n",
       "18   19         96        424\n",
       "19   20        147        174\n",
       "20   21        212        429\n",
       "21   22        162        170\n",
       "22   23        394        884\n",
       "23   24        577         34\n",
       "24   25        190        991\n",
       "25   26        647         51\n",
       "26   27        136        800\n",
       "27   28        176        492\n",
       "28   29         73        568\n",
       "29   30        170        522"
      ]
     },
     "execution_count": 64,
     "metadata": {},
     "output_type": "execute_result"
    }
   ],
   "source": [
    "dados['Contágios'] = contagios\n",
    "dados['Vacinados'] = vacinados\n",
    "dados"
   ]
  },
  {
   "cell_type": "markdown",
   "id": "357a5a99-edd1-4088-9745-07aea8610696",
   "metadata": {},
   "source": [
    "#### Plotar gráfico a partir de um DataFrame do Pandas"
   ]
  },
  {
   "cell_type": "code",
   "execution_count": 70,
   "id": "9458b1da-19c7-4b99-bd62-f05ebec94847",
   "metadata": {
    "tags": []
   },
   "outputs": [
    {
     "data": {
      "text/plain": [
       "<Axes: xlabel='Dia'>"
      ]
     },
     "execution_count": 70,
     "metadata": {},
     "output_type": "execute_result"
    },
    {
     "data": {
      "image/png": "[encoded data removed]",
      "text/plain": [
       "<Figure size 640x480 with 1 Axes>"
      ]
     },
     "metadata": {},
     "output_type": "display_data"
    }
   ],
   "source": [
    "dados.plot(kind = 'bar', x = 'Dia', y = 'Vacinados')"
   ]
  },
  {
   "cell_type": "markdown",
   "id": "5be940e7-0dea-4ccd-9c13-d0551393e832",
   "metadata": {},
   "source": [
    "### Bíblioteca Seaborn"
   ]
  },
  {
   "cell_type": "code",
   "execution_count": 87,
   "id": "6e37c008-cd8f-451d-ad9f-ec95f860e91b",
   "metadata": {
    "tags": []
   },
   "outputs": [
    {
     "name": "stderr",
     "output_type": "stream",
     "text": [
      "C:\\Users\\hpa\\.conda\\envs\\ds-env\\lib\\site-packages\\seaborn\\_oldcore.py:1119: FutureWarning: use_inf_as_na option is deprecated and will be removed in a future version. Convert inf values to NaN before operating instead.\n",
      "  with pd.option_context('mode.use_inf_as_na', True):\n",
      "C:\\Users\\hpa\\.conda\\envs\\ds-env\\lib\\site-packages\\seaborn\\_oldcore.py:1119: FutureWarning: use_inf_as_na option is deprecated and will be removed in a future version. Convert inf values to NaN before operating instead.\n",
      "  with pd.option_context('mode.use_inf_as_na', True):\n"
     ]
    },
    {
     "data": {
      "text/plain": [
       "<Axes: xlabel='Dia', ylabel='Contágios'>"
      ]
     },
     "execution_count": 87,
     "metadata": {},
     "output_type": "execute_result"
    },
    {
     "data": {
      "image/png": "[encoded data removed]",
      "text/plain": [
       "<Figure size 640x480 with 1 Axes>"
      ]
     },
     "metadata": {},
     "output_type": "display_data"
    }
   ],
   "source": [
    "sns.barplot(dados, x = 'Dia', y = 'Contágios', color = 'b')\n",
    "# sns.barplot(dados, x = 'Dia', y = 'Vacinados', color = 'r')\n",
    "sns.lineplot(dados, x = 'Dia', y = 'Vacinados', color = 'r')"
   ]
  },
  {
   "cell_type": "markdown",
   "id": "b867bbf7-8649-4383-b5bf-96c921faa75c",
   "metadata": {},
   "source": [
    "## Demostração Scraping"
   ]
  },
  {
   "cell_type": "markdown",
   "id": "f161cb69-6fd8-46dc-a14c-caead8ff9c6e",
   "metadata": {},
   "source": [
    "### Disciplina - Ciência de Dados\n",
    "Aula 8"
   ]
  },
  {
   "cell_type": "markdown",
   "id": "610371e2-708f-4843-b73e-252f59765144",
   "metadata": {},
   "source": [
    "#### Importação de Bibliotecas"
   ]
  },
  {
   "cell_type": "code",
   "execution_count": 1,
   "id": "f9298fe4-61e4-4c1e-9275-bf0087d40097",
   "metadata": {
    "tags": []
   },
   "outputs": [],
   "source": [
    "import requests\n",
    "from bs4 import BeautifulSoup\n",
    "import pandas as pd"
   ]
  },
  {
   "cell_type": "markdown",
   "id": "8794caaf-6d70-4894-966c-efa8ada091b7",
   "metadata": {},
   "source": [
    "#### Webpage para scraping \n",
    "##### https://statisticstimes.com/tech/top-computer-languages.php"
   ]
  },
  {
   "cell_type": "markdown",
   "id": "7ca6202b-b534-4b50-b5ce-abb57bc8acc4",
   "metadata": {},
   "source": [
    "#### Coletar os dados da webpage"
   ]
  },
  {
   "cell_type": "code",
   "execution_count": 2,
   "id": "97f46181-9892-4d97-af1d-bc0ff4612588",
   "metadata": {
    "tags": []
   },
   "outputs": [],
   "source": [
    "html = requests.get('https://statisticstimes.com/tech/top-computer-languages.php').content\n",
    "soup = BeautifulSoup(html, 'html5lib') #'html5' parseador de html5"
   ]
  },
  {
   "cell_type": "markdown",
   "id": "2b9966df-e51e-41fd-b478-ecab76c2a7eb",
   "metadata": {
    "tags": []
   },
   "source": [
    "#### Com a biblioteca BeautifulSoup vamos encontrar o primeiro páragrafo, pegar a tag P"
   ]
  },
  {
   "cell_type": "code",
   "execution_count": 8,
   "id": "88568354-a495-4903-bca1-5fb49d9b865e",
   "metadata": {
    "tags": []
   },
   "outputs": [
    {
     "data": {
      "text/plain": [
       "<p>Python is the top programming language in TIOBE and PYPL Index. Python has taken a lead of over 6% from C \n",
       "in TIOBE. In PYPL, a gap is much wider as top-ranked Python is ahead close to 12.4% from 2nd ranked Java.</p>"
      ]
     },
     "execution_count": 8,
     "metadata": {},
     "output_type": "execute_result"
    }
   ],
   "source": [
    "primeiro_paragrafo = soup.find('p')\n",
    "primeiro_paragrafo"
   ]
  },
  {
   "cell_type": "markdown",
   "id": "54ae7c44-486a-44ec-a7c7-5d61e9627b07",
   "metadata": {},
   "source": [
    "#### Pegar apenas o texto sem as tags"
   ]
  },
  {
   "cell_type": "code",
   "execution_count": 11,
   "id": "dfb989b7-3e95-4ba9-9e83-0861a07b1ec9",
   "metadata": {
    "tags": []
   },
   "outputs": [
    {
     "data": {
      "text/plain": [
       "'Python is the top programming language in TIOBE and PYPL Index. Python has taken a lead of over 6% from C \\nin TIOBE. In PYPL, a gap is much wider as top-ranked Python is ahead close to 12.4% from 2nd ranked Java.'"
      ]
     },
     "execution_count": 11,
     "metadata": {},
     "output_type": "execute_result"
    }
   ],
   "source": [
    "primeiro_paragrafo.text"
   ]
  },
  {
   "cell_type": "markdown",
   "id": "986e9af6-38f0-4b1c-bd9c-e93dcd0d73a0",
   "metadata": {},
   "source": [
    "#### Pegar todos os paragrafos"
   ]
  },
  {
   "cell_type": "code",
   "execution_count": 18,
   "id": "dcd0a1af-6b9e-4baf-a525-a3f74d954465",
   "metadata": {
    "tags": []
   },
   "outputs": [
    {
     "data": {
      "text/plain": [
       "[<p>Python is the top programming language in TIOBE and PYPL Index. Python has taken a lead of over 6% from C \n",
       " in TIOBE. In PYPL, a gap is much wider as top-ranked Python is ahead close to 12.4% from 2nd ranked Java.</p>,\n",
       " <p><b>TIOBE:</b> Python, C, Java, C++ and C# are way ahead of others in TIOBE Index. C, C++ and\n",
       " Java are very close to each other at 2nd, 3rd and 4th number. C++ and C# have positive trends in the past five years. \n",
       " These three have negative trends in the past five years: Java, C, and PHP. PHP hit its lowest position ever in \n",
       " the TIOBE index in April 2024. PHP was at 3rd position in Mar 2010 is now at 17th. \n",
       " Positions of C has not been much affected but rating is constantly declining. The rating\n",
       " of Java has declined from 26.49% in June 2001 to 8.94% in Apr 2024.</p>,\n",
       " <p><b>PYPL:</b> Acc to PYPL, which publishes separate ranking for five countries, Python is the top language in \n",
       " all five countries (US, India, Germany, United Kingdom, France). Python has taken a huge lead in these five \n",
       " countries over the 2nd number of Java, and its shares are even almost double of Java in US \n",
       " and Germany and by four times in France and United Kingdom, These two account for almost 44.5% of the global search. \n",
       " C/C++ and C# are within top five in four countries. JavaScript is within top five in three countries.</p>,\n",
       " <p>PHP is the biggest loser in recent years in PYPL. Its share was over 20% in 2008; now, this fig is only 4.45% in 2024. \n",
       " Java is too declining but not as fast as PHP. Java's contribution was over 31% in 2008, and still, it holds 16.04%. In \n",
       " 2004-2009, 50% of the search was of either Java or PHP.</p>,\n",
       " <p><b>TIOBE Index:</b> TIOBE ratings are calculated by counting hits of the most popular search engines. Twenty-five \n",
       " search engines are used to calculate the TIOBE index. The TIOBE Programming Community index is an indicator of the\n",
       "  popularity of programming languages. The index started in the year 2001 and updated once a month.</p>,\n",
       " <p><b>PYPL Index:</b> The PYPL PopularitY of Programming Language Index is created by analyzing how often language\n",
       "  tutorials are searched on Google. The index is updated once a month.</p>]"
      ]
     },
     "execution_count": 18,
     "metadata": {},
     "output_type": "execute_result"
    }
   ],
   "source": [
    "todos_paragrafos = soup.find_all('p')\n",
    "todos_paragrafos"
   ]
  },
  {
   "cell_type": "markdown",
   "id": "dba546c5-6ee5-4272-84d0-6d8e3c1db09d",
   "metadata": {},
   "source": [
    "#### Imprimir o primeiro paragrafo ou o primeiro elemento da lista"
   ]
  },
  {
   "cell_type": "code",
   "execution_count": 31,
   "id": "59b169a6-2c10-454f-889c-eebcc0e66916",
   "metadata": {
    "tags": []
   },
   "outputs": [
    {
     "data": {
      "text/plain": [
       "'Python is the top programming language in TIOBE and PYPL Index. Python has taken a lead of over 6% from C \\nin TIOBE. In PYPL, a gap is much wider as top-ranked Python is ahead close to 12.4% from 2nd ranked Java.'"
      ]
     },
     "execution_count": 31,
     "metadata": {},
     "output_type": "execute_result"
    }
   ],
   "source": [
    "todos_paragrafos[0].text"
   ]
  },
  {
   "cell_type": "markdown",
   "id": "f3a64704-a027-47ce-887a-dd25455945de",
   "metadata": {},
   "source": [
    "#### Pegando todos os links"
   ]
  },
  {
   "cell_type": "code",
   "execution_count": 38,
   "id": "7ddfe0ca-a00d-4e49-b4a5-9811a6777a9c",
   "metadata": {
    "tags": []
   },
   "outputs": [
    {
     "data": {
      "text/plain": [
       "[<a href=\"/index.php\">\n",
       " <img alt=\"statisticstimes\" height=\"90\" src=\"/statistics.png\" width=\"200\"/>\n",
       " </a>,\n",
       " <a href=\"/index.php\">World</a>,\n",
       " <a href=\"/india.php\">India</a>,\n",
       " <a href=\"/economy/world-statistics.php\">World</a>,\n",
       " <a href=\"/economy/country-statistics.php\">Country</a>,\n",
       " <a href=\"/economy/india-statistics.php\">India</a>,\n",
       " <a href=\"/demographics/world-statistics.php\">World</a>,\n",
       " <a href=\"/demographics/country-statistics.php\">Country</a>,\n",
       " <a href=\"/demographics/india-statistics.php\">India</a>,\n",
       " <a href=\"/politics/india-statistics.php\">India</a>,\n",
       " <a href=\"/geography/world-statistics.php\">World</a>,\n",
       " <a href=\"/geography/india-statistics.php\">India</a>,\n",
       " <a href=\"/tech/world-statistics.php\">Tech</a>,\n",
       " <a href=\"/sports/world-statistics.php\">World</a>,\n",
       " <a href=\"/sports/india-statistics.php\">India</a>,\n",
       " <a href=\"/ranking/world-statistics.php\">Ranking</a>,\n",
       " <a href=\"/article/world-statistics.php\">World</a>,\n",
       " <a href=\"/article/india-statistics.php\">India</a>,\n",
       " <a href=\"https://www.tiobe.com/tiobe-index/\" target=\"_blank\">TIOBE Index</a>,\n",
       " <a href=\"http://pypl.github.io/PYPL.html\" target=\"_blank\">PYPL PopularitY of Programming Language Index</a>,\n",
       " <a class=\"ls\" href=\"/sports/ipl/ipl-2024.php\">\n",
       "        IPL 2024</a>,\n",
       " <a class=\"ls\" href=\"/economy/continents-by-gdp-per-capita.php\">\n",
       "        List of continents by gdp per capita</a>,\n",
       " <a class=\"ls\" href=\"/economy/largest-economies-in-the-world.php\">\n",
       "        Top 10 largest economies by GDP</a>,\n",
       " <a href=\"/about.php\" style=\"text-decoration: none;\"> About US</a>,\n",
       " <a href=\"/termsofuse.php\" style=\"text-decoration: none;\"> Terms Of Use </a>,\n",
       " <a href=\"/privacy.php\" style=\"text-decoration: none;\"> Privacy Policy </a>,\n",
       " <a href=\"/contact.php\" style=\"text-decoration: none;\"> Contact Us </a>]"
      ]
     },
     "execution_count": 38,
     "metadata": {},
     "output_type": "execute_result"
    }
   ],
   "source": [
    "todos_links = soup.find_all('a')\n",
    "todos_links"
   ]
  },
  {
   "cell_type": "code",
   "execution_count": 48,
   "id": "3dcedc87-35a5-44ca-bd8f-3425f73829dc",
   "metadata": {
    "tags": []
   },
   "outputs": [
    {
     "data": {
      "text/plain": [
       "[<a href=\"/india.php\">India</a>,\n",
       " <a href=\"/economy/world-statistics.php\">World</a>,\n",
       " <a href=\"/economy/country-statistics.php\">Country</a>]"
      ]
     },
     "execution_count": 48,
     "metadata": {},
     "output_type": "execute_result"
    }
   ],
   "source": [
    "todos_links[2:5]"
   ]
  },
  {
   "cell_type": "markdown",
   "id": "bf2a71f3-cb3b-47d7-a417-02a4886900f3",
   "metadata": {},
   "source": [
    "#### Inspecionando a tabela, para pegar os dados da tabela \"PYPL indesx (WorldWide)\" "
   ]
  },
  {
   "cell_type": "code",
   "execution_count": 69,
   "id": "5f1cefe8-c639-4d6e-b5a4-8b200abece2d",
   "metadata": {
    "tags": []
   },
   "outputs": [
    {
     "data": {
      "text/plain": [
       "<tbody>\n",
       "<tr><td class=\"data1\">1</td><td class=\"data1\"></td><td class=\"name\">Python</td><td class=\"data1\"> 28.43 %</td><td class=\"data1\">+0.7 %</td></tr>\n",
       "<tr><td class=\"data1\">2</td><td class=\"data1\"></td><td class=\"name\">Java</td><td class=\"data1\"> 16.04 %</td><td class=\"data1\">-0.1 %</td></tr>\n",
       "<tr><td class=\"data1\">3</td><td class=\"data1\"></td><td class=\"name\">JavaScript</td><td class=\"data1\"> 8.72 %</td><td class=\"data1\">-0.8 %</td></tr>\n",
       "<tr><td class=\"data1\">4</td><td class=\"data1\">↑</td><td class=\"name\">C/C++</td><td class=\"data1\"> 6.65 %</td><td class=\"data1\">+0.2 %</td></tr>\n",
       "<tr><td class=\"data1\">5</td><td class=\"data1\">↓</td><td class=\"name\">C#</td><td class=\"data1\"> 6.63 %</td><td class=\"data1\">-0.2 %</td></tr>\n",
       "<tr><td class=\"data1\">6</td><td class=\"data1\">↑</td><td class=\"name\">R</td><td class=\"data1\"> 4.63 %</td><td class=\"data1\">+0.2 %</td></tr>\n",
       "<tr><td class=\"data1\">7</td><td class=\"data1\">↓</td><td class=\"name\">PHP</td><td class=\"data1\"> 4.45 %</td><td class=\"data1\">-0.7 %</td></tr>\n",
       "<tr><td class=\"data1\">8</td><td class=\"data1\"></td><td class=\"name\">TypeScript</td><td class=\"data1\"> 2.96 %</td><td class=\"data1\">+0.0 %</td></tr>\n",
       "<tr><td class=\"data1\">9</td><td class=\"data1\"></td><td class=\"name\">Swift</td><td class=\"data1\"> 2.71 %</td><td class=\"data1\">+0.4 %</td></tr>\n",
       "<tr><td class=\"data1\">10</td><td class=\"data1\"></td><td class=\"name\">Rust</td><td class=\"data1\"> 2.53 %</td><td class=\"data1\">+0.4 %</td></tr>\n",
       "<tr><td class=\"data1\">11</td><td class=\"data1\"></td><td class=\"name\">Objective-C</td><td class=\"data1\"> 2.43 %</td><td class=\"data1\">+0.3 %</td></tr>\n",
       "<tr><td class=\"data1\">12</td><td class=\"data1\"></td><td class=\"name\">Go</td><td class=\"data1\"> 2.16 %</td><td class=\"data1\">+0.2 %</td></tr>\n",
       "<tr><td class=\"data1\">13</td><td class=\"data1\"></td><td class=\"name\">Kotlin</td><td class=\"data1\"> 1.93 %</td><td class=\"data1\">+0.0 %</td></tr>\n",
       "<tr><td class=\"data1\">14</td><td class=\"data1\"></td><td class=\"name\">Matlab</td><td class=\"data1\"> 1.54 %</td><td class=\"data1\">-0.1 %</td></tr>\n",
       "<tr><td class=\"data1\">15</td><td class=\"data1\">↑↑↑↑</td><td class=\"name\">Dart</td><td class=\"data1\"> 1.01 %</td><td class=\"data1\">+0.2 %</td></tr>\n",
       "<tr><td class=\"data1\">16</td><td class=\"data1\"></td><td class=\"name\">Ada</td><td class=\"data1\"> 0.99 %</td><td class=\"data1\">-0.0 %</td></tr>\n",
       "<tr><td class=\"data1\">17</td><td class=\"data1\">↓↓</td><td class=\"name\">Ruby</td><td class=\"data1\"> 0.97 %</td><td class=\"data1\">-0.1 %</td></tr>\n",
       "<tr><td class=\"data1\">18</td><td class=\"data1\">↓</td><td class=\"name\">VBA</td><td class=\"data1\"> 0.91 %</td><td class=\"data1\">-0.0 %</td></tr>\n",
       "<tr><td class=\"data1\">19</td><td class=\"data1\">↓</td><td class=\"name\">Powershell</td><td class=\"data1\"> 0.76 %</td><td class=\"data1\">-0.2 %</td></tr>\n",
       "<tr><td class=\"data1\">20</td><td class=\"data1\">↑</td><td class=\"name\">Lua</td><td class=\"data1\"> 0.61 %</td><td class=\"data1\">+0.0 %</td></tr>\n",
       "<tr><td class=\"data1\">21</td><td class=\"data1\">↑↑</td><td class=\"name\">Abap</td><td class=\"data1\"> 0.6 %</td><td class=\"data1\">+0.1 %</td></tr>\n",
       "<tr><td class=\"data1\">22</td><td class=\"data1\">↓↓</td><td class=\"name\">Scala</td><td class=\"data1\"> 0.58 %</td><td class=\"data1\">-0.1 %</td></tr>\n",
       "<tr><td class=\"data1\">23</td><td class=\"data1\">↓</td><td class=\"name\">Visual Basic</td><td class=\"data1\"> 0.42 %</td><td class=\"data1\">-0.2 %</td></tr>\n",
       "<tr><td class=\"data1\">24</td><td class=\"data1\">↑</td><td class=\"name\">Groovy</td><td class=\"data1\"> 0.35 %</td><td class=\"data1\">-0.0 %</td></tr>\n",
       "<tr><td class=\"data1\">25</td><td class=\"data1\">↓</td><td class=\"name\">Julia</td><td class=\"data1\"> 0.33 %</td><td class=\"data1\">-0.1 %</td></tr>\n",
       "<tr><td class=\"data1\">26</td><td class=\"data1\"></td><td class=\"name\">Perl</td><td class=\"data1\"> 0.22 %</td><td class=\"data1\">-0.1 %</td></tr>\n",
       "<tr><td class=\"data1\">27</td><td class=\"data1\">↑</td><td class=\"name\">Haskell</td><td class=\"data1\"> 0.17 %</td><td class=\"data1\">-0.1 %</td></tr>\n",
       "<tr><td class=\"data1\">28</td><td class=\"data1\">↓</td><td class=\"name\">Cobol</td><td class=\"data1\"> 0.14 %</td><td class=\"data1\">-0.2 %</td></tr>\n",
       "<tr><td class=\"data1\">29</td><td class=\"data1\"></td><td class=\"name\">Delphi/Pascal</td><td class=\"data1\"> 0.13 %</td><td class=\"data1\">-0.0 %</td></tr>\n",
       "</tbody>"
      ]
     },
     "execution_count": 69,
     "metadata": {},
     "output_type": "execute_result"
    }
   ],
   "source": [
    "tabela = soup.find('table', {'id':'table_id1'}).find('tbody')\n",
    "tabela"
   ]
  },
  {
   "cell_type": "code",
   "execution_count": 71,
   "id": "0925bcef-3fc5-408a-9cc0-f9c5c46e087e",
   "metadata": {
    "tags": []
   },
   "outputs": [
    {
     "data": {
      "text/plain": [
       "[<tr><td class=\"data1\">1</td><td class=\"data1\"></td><td class=\"name\">Python</td><td class=\"data1\"> 28.43 %</td><td class=\"data1\">+0.7 %</td></tr>,\n",
       " <tr><td class=\"data1\">2</td><td class=\"data1\"></td><td class=\"name\">Java</td><td class=\"data1\"> 16.04 %</td><td class=\"data1\">-0.1 %</td></tr>,\n",
       " <tr><td class=\"data1\">3</td><td class=\"data1\"></td><td class=\"name\">JavaScript</td><td class=\"data1\"> 8.72 %</td><td class=\"data1\">-0.8 %</td></tr>,\n",
       " <tr><td class=\"data1\">4</td><td class=\"data1\">↑</td><td class=\"name\">C/C++</td><td class=\"data1\"> 6.65 %</td><td class=\"data1\">+0.2 %</td></tr>,\n",
       " <tr><td class=\"data1\">5</td><td class=\"data1\">↓</td><td class=\"name\">C#</td><td class=\"data1\"> 6.63 %</td><td class=\"data1\">-0.2 %</td></tr>,\n",
       " <tr><td class=\"data1\">6</td><td class=\"data1\">↑</td><td class=\"name\">R</td><td class=\"data1\"> 4.63 %</td><td class=\"data1\">+0.2 %</td></tr>,\n",
       " <tr><td class=\"data1\">7</td><td class=\"data1\">↓</td><td class=\"name\">PHP</td><td class=\"data1\"> 4.45 %</td><td class=\"data1\">-0.7 %</td></tr>,\n",
       " <tr><td class=\"data1\">8</td><td class=\"data1\"></td><td class=\"name\">TypeScript</td><td class=\"data1\"> 2.96 %</td><td class=\"data1\">+0.0 %</td></tr>,\n",
       " <tr><td class=\"data1\">9</td><td class=\"data1\"></td><td class=\"name\">Swift</td><td class=\"data1\"> 2.71 %</td><td class=\"data1\">+0.4 %</td></tr>,\n",
       " <tr><td class=\"data1\">10</td><td class=\"data1\"></td><td class=\"name\">Rust</td><td class=\"data1\"> 2.53 %</td><td class=\"data1\">+0.4 %</td></tr>,\n",
       " <tr><td class=\"data1\">11</td><td class=\"data1\"></td><td class=\"name\">Objective-C</td><td class=\"data1\"> 2.43 %</td><td class=\"data1\">+0.3 %</td></tr>,\n",
       " <tr><td class=\"data1\">12</td><td class=\"data1\"></td><td class=\"name\">Go</td><td class=\"data1\"> 2.16 %</td><td class=\"data1\">+0.2 %</td></tr>,\n",
       " <tr><td class=\"data1\">13</td><td class=\"data1\"></td><td class=\"name\">Kotlin</td><td class=\"data1\"> 1.93 %</td><td class=\"data1\">+0.0 %</td></tr>,\n",
       " <tr><td class=\"data1\">14</td><td class=\"data1\"></td><td class=\"name\">Matlab</td><td class=\"data1\"> 1.54 %</td><td class=\"data1\">-0.1 %</td></tr>,\n",
       " <tr><td class=\"data1\">15</td><td class=\"data1\">↑↑↑↑</td><td class=\"name\">Dart</td><td class=\"data1\"> 1.01 %</td><td class=\"data1\">+0.2 %</td></tr>,\n",
       " <tr><td class=\"data1\">16</td><td class=\"data1\"></td><td class=\"name\">Ada</td><td class=\"data1\"> 0.99 %</td><td class=\"data1\">-0.0 %</td></tr>,\n",
       " <tr><td class=\"data1\">17</td><td class=\"data1\">↓↓</td><td class=\"name\">Ruby</td><td class=\"data1\"> 0.97 %</td><td class=\"data1\">-0.1 %</td></tr>,\n",
       " <tr><td class=\"data1\">18</td><td class=\"data1\">↓</td><td class=\"name\">VBA</td><td class=\"data1\"> 0.91 %</td><td class=\"data1\">-0.0 %</td></tr>,\n",
       " <tr><td class=\"data1\">19</td><td class=\"data1\">↓</td><td class=\"name\">Powershell</td><td class=\"data1\"> 0.76 %</td><td class=\"data1\">-0.2 %</td></tr>,\n",
       " <tr><td class=\"data1\">20</td><td class=\"data1\">↑</td><td class=\"name\">Lua</td><td class=\"data1\"> 0.61 %</td><td class=\"data1\">+0.0 %</td></tr>,\n",
       " <tr><td class=\"data1\">21</td><td class=\"data1\">↑↑</td><td class=\"name\">Abap</td><td class=\"data1\"> 0.6 %</td><td class=\"data1\">+0.1 %</td></tr>,\n",
       " <tr><td class=\"data1\">22</td><td class=\"data1\">↓↓</td><td class=\"name\">Scala</td><td class=\"data1\"> 0.58 %</td><td class=\"data1\">-0.1 %</td></tr>,\n",
       " <tr><td class=\"data1\">23</td><td class=\"data1\">↓</td><td class=\"name\">Visual Basic</td><td class=\"data1\"> 0.42 %</td><td class=\"data1\">-0.2 %</td></tr>,\n",
       " <tr><td class=\"data1\">24</td><td class=\"data1\">↑</td><td class=\"name\">Groovy</td><td class=\"data1\"> 0.35 %</td><td class=\"data1\">-0.0 %</td></tr>,\n",
       " <tr><td class=\"data1\">25</td><td class=\"data1\">↓</td><td class=\"name\">Julia</td><td class=\"data1\"> 0.33 %</td><td class=\"data1\">-0.1 %</td></tr>,\n",
       " <tr><td class=\"data1\">26</td><td class=\"data1\"></td><td class=\"name\">Perl</td><td class=\"data1\"> 0.22 %</td><td class=\"data1\">-0.1 %</td></tr>,\n",
       " <tr><td class=\"data1\">27</td><td class=\"data1\">↑</td><td class=\"name\">Haskell</td><td class=\"data1\"> 0.17 %</td><td class=\"data1\">-0.1 %</td></tr>,\n",
       " <tr><td class=\"data1\">28</td><td class=\"data1\">↓</td><td class=\"name\">Cobol</td><td class=\"data1\"> 0.14 %</td><td class=\"data1\">-0.2 %</td></tr>,\n",
       " <tr><td class=\"data1\">29</td><td class=\"data1\"></td><td class=\"name\">Delphi/Pascal</td><td class=\"data1\"> 0.13 %</td><td class=\"data1\">-0.0 %</td></tr>]"
      ]
     },
     "execution_count": 71,
     "metadata": {},
     "output_type": "execute_result"
    }
   ],
   "source": [
    "linhas = tabela.find_all('tr')\n",
    "linhas"
   ]
  },
  {
   "cell_type": "code",
   "execution_count": 77,
   "id": "bf840a56-02b2-4f4f-9c9d-dd9d5f3b175d",
   "metadata": {
    "tags": []
   },
   "outputs": [
    {
     "name": "stdout",
     "output_type": "stream",
     "text": [
      "1\n",
      "Python\n",
      " 28.43 %\n",
      "+0.7 %\n",
      "---------\n",
      "2\n",
      "Java\n",
      " 16.04 %\n",
      "-0.1 %\n",
      "---------\n",
      "3\n",
      "JavaScript\n",
      " 8.72 %\n",
      "-0.8 %\n",
      "---------\n",
      "4\n",
      "C/C++\n",
      " 6.65 %\n",
      "+0.2 %\n",
      "---------\n",
      "5\n",
      "C#\n",
      " 6.63 %\n",
      "-0.2 %\n",
      "---------\n",
      "6\n",
      "R\n",
      " 4.63 %\n",
      "+0.2 %\n",
      "---------\n",
      "7\n",
      "PHP\n",
      " 4.45 %\n",
      "-0.7 %\n",
      "---------\n",
      "8\n",
      "TypeScript\n",
      " 2.96 %\n",
      "+0.0 %\n",
      "---------\n",
      "9\n",
      "Swift\n",
      " 2.71 %\n",
      "+0.4 %\n",
      "---------\n",
      "10\n",
      "Rust\n",
      " 2.53 %\n",
      "+0.4 %\n",
      "---------\n",
      "11\n",
      "Objective-C\n",
      " 2.43 %\n",
      "+0.3 %\n",
      "---------\n",
      "12\n",
      "Go\n",
      " 2.16 %\n",
      "+0.2 %\n",
      "---------\n",
      "13\n",
      "Kotlin\n",
      " 1.93 %\n",
      "+0.0 %\n",
      "---------\n",
      "14\n",
      "Matlab\n",
      " 1.54 %\n",
      "-0.1 %\n",
      "---------\n",
      "15\n",
      "Dart\n",
      " 1.01 %\n",
      "+0.2 %\n",
      "---------\n",
      "16\n",
      "Ada\n",
      " 0.99 %\n",
      "-0.0 %\n",
      "---------\n",
      "17\n",
      "Ruby\n",
      " 0.97 %\n",
      "-0.1 %\n",
      "---------\n",
      "18\n",
      "VBA\n",
      " 0.91 %\n",
      "-0.0 %\n",
      "---------\n",
      "19\n",
      "Powershell\n",
      " 0.76 %\n",
      "-0.2 %\n",
      "---------\n",
      "20\n",
      "Lua\n",
      " 0.61 %\n",
      "+0.0 %\n",
      "---------\n",
      "21\n",
      "Abap\n",
      " 0.6 %\n",
      "+0.1 %\n",
      "---------\n",
      "22\n",
      "Scala\n",
      " 0.58 %\n",
      "-0.1 %\n",
      "---------\n",
      "23\n",
      "Visual Basic\n",
      " 0.42 %\n",
      "-0.2 %\n",
      "---------\n",
      "24\n",
      "Groovy\n",
      " 0.35 %\n",
      "-0.0 %\n",
      "---------\n",
      "25\n",
      "Julia\n",
      " 0.33 %\n",
      "-0.1 %\n",
      "---------\n",
      "26\n",
      "Perl\n",
      " 0.22 %\n",
      "-0.1 %\n",
      "---------\n",
      "27\n",
      "Haskell\n",
      " 0.17 %\n",
      "-0.1 %\n",
      "---------\n",
      "28\n",
      "Cobol\n",
      " 0.14 %\n",
      "-0.2 %\n",
      "---------\n",
      "29\n",
      "Delphi/Pascal\n",
      " 0.13 %\n",
      "-0.0 %\n",
      "---------\n"
     ]
    }
   ],
   "source": [
    "linhas = tabela.find_all('tr')\n",
    "for linha in linhas:\n",
    "    dado = linha.find_all('td')\n",
    "    print(dado[0].text)\n",
    "    print(dado[2].text)\n",
    "    print(dado[3].text)\n",
    "    print(9 * '-')"
   ]
  },
  {
   "cell_type": "markdown",
   "id": "f7a33f82-bfa4-4dd5-ad04-e77c8771010b",
   "metadata": {},
   "source": [
    "#### Montar uma lista de linguagens e de percentagem com os dados, para depois compor um dataframe"
   ]
  },
  {
   "cell_type": "code",
   "execution_count": 82,
   "id": "571975c8-f310-47c0-bd0a-7ade7e1f74fa",
   "metadata": {
    "tags": []
   },
   "outputs": [],
   "source": [
    "linguagem = []\n",
    "pontos = []\n",
    "for linha in linhas:\n",
    "    dado = linha.find_all('td')\n",
    "    linguagem.append(dado[2].text)\n",
    "    pontos.append(dado[3].text)"
   ]
  },
  {
   "cell_type": "code",
   "execution_count": 86,
   "id": "61b32243-e842-42fe-a86c-fb8a8d971f3a",
   "metadata": {
    "tags": []
   },
   "outputs": [
    {
     "name": "stdout",
     "output_type": "stream",
     "text": [
      "['Python', 'Java', 'JavaScript', 'C/C++', 'C#', 'R', 'PHP', 'TypeScript', 'Swift', 'Rust', 'Objective-C', 'Go', 'Kotlin', 'Matlab', 'Dart', 'Ada', 'Ruby', 'VBA', 'Powershell', 'Lua', 'Abap', 'Scala', 'Visual Basic', 'Groovy', 'Julia', 'Perl', 'Haskell', 'Cobol', 'Delphi/Pascal']\n",
      "[' 28.43 %', ' 16.04 %', ' 8.72 %', ' 6.65 %', ' 6.63 %', ' 4.63 %', ' 4.45 %', ' 2.96 %', ' 2.71 %', ' 2.53 %', ' 2.43 %', ' 2.16 %', ' 1.93 %', ' 1.54 %', ' 1.01 %', ' 0.99 %', ' 0.97 %', ' 0.91 %', ' 0.76 %', ' 0.61 %', ' 0.6 %', ' 0.58 %', ' 0.42 %', ' 0.35 %', ' 0.33 %', ' 0.22 %', ' 0.17 %', ' 0.14 %', ' 0.13 %']\n"
     ]
    }
   ],
   "source": [
    "print(linguagem)\n",
    "print(pontos)"
   ]
  },
  {
   "cell_type": "code",
   "execution_count": null,
   "id": "42bb5dac-4e2b-4168-893a-8017ca97c813",
   "metadata": {},
   "outputs": [],
   "source": []
  }
 ],
 "metadata": {
  "kernelspec": {
   "display_name": "Python 3 (ipykernel)",
   "language": "python",
   "name": "python3"
  },
  "language_info": {
   "codemirror_mode": {
    "name": "ipython",
    "version": 3
   },
   "file_extension": ".py",
   "mimetype": "text/x-python",
   "name": "python",
   "nbconvert_exporter": "python",
   "pygments_lexer": "ipython3",
   "version": "3.9.18"
  }
 },
 "nbformat": 4,
 "nbformat_minor": 5
}
