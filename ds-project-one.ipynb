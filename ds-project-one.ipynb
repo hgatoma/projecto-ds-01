{
 "cells": [
  {
   "cell_type": "markdown",
   "id": "5bb437f5-3e42-4fe8-a197-e2d7b10bdc78",
   "metadata": {},
   "source": [
    "# Demostração do Numpy\n",
    "### Disciplina de Ciência de Dados"
   ]
  },
  {
   "cell_type": "markdown",
   "id": "dc70d8fe-7452-4ae2-bd2d-ff9207b2ff77",
   "metadata": {
    "tags": []
   },
   "source": [
    "#### Importação de Bibliotecas"
   ]
  },
  {
   "cell_type": "code",
   "execution_count": 14,
   "id": "0da1b172-32a4-4677-8f17-b5b7961c7acd",
   "metadata": {
    "tags": []
   },
   "outputs": [],
   "source": [
    "import numpy as np"
   ]
  },
  {
   "cell_type": "markdown",
   "id": "750c4c71-9f5a-42c1-ab01-4a366aa73049",
   "metadata": {},
   "source": [
    "### Gerar dados aliatorios"
   ]
  },
  {
   "cell_type": "markdown",
   "id": "a1836784-0260-4298-85c7-0b0142a0e870",
   "metadata": {},
   "source": [
    "#### Gerar um NDArray de 2x3 (duas listas com 3 elementos)"
   ]
  },
  {
   "cell_type": "code",
   "execution_count": 19,
   "id": "4645bf95-b37a-4c41-85ab-4eae9c174499",
   "metadata": {
    "tags": []
   },
   "outputs": [
    {
     "data": {
      "text/plain": [
       "array([[0.0173815 , 0.7778883 , 0.12078748],\n",
       "       [0.05640311, 0.68001821, 0.56788525]])"
      ]
     },
     "execution_count": 19,
     "metadata": {},
     "output_type": "execute_result"
    }
   ],
   "source": [
    "dados = np.random.rand(2, 3)\n",
    "dados"
   ]
  },
  {
   "cell_type": "markdown",
   "id": "ed5b8d26-b997-4313-aafc-8edde5949218",
   "metadata": {},
   "source": [
    "#### Tipo de Array"
   ]
  },
  {
   "cell_type": "code",
   "execution_count": 24,
   "id": "bf9ea0d6-cf4b-44f0-9fd4-838963225643",
   "metadata": {
    "tags": []
   },
   "outputs": [
    {
     "data": {
      "text/plain": [
       "dtype('float64')"
      ]
     },
     "execution_count": 24,
     "metadata": {},
     "output_type": "execute_result"
    }
   ],
   "source": [
    "dados.dtype"
   ]
  },
  {
   "cell_type": "markdown",
   "id": "77765f1c-1529-4f64-9235-48a8f6a018e8",
   "metadata": {},
   "source": [
    "#### Tamanho e quantidade de dimensões"
   ]
  },
  {
   "cell_type": "code",
   "execution_count": 29,
   "id": "767e9867-e441-4ff7-bcf7-ba2644ddd3e7",
   "metadata": {
    "tags": []
   },
   "outputs": [
    {
     "data": {
      "text/plain": [
       "(2, 3)"
      ]
     },
     "execution_count": 29,
     "metadata": {},
     "output_type": "execute_result"
    }
   ],
   "source": [
    "dados.shape"
   ]
  },
  {
   "cell_type": "code",
   "execution_count": 31,
   "id": "d2a241a6-fa07-460d-aa69-8abca3bb8140",
   "metadata": {
    "tags": []
   },
   "outputs": [
    {
     "data": {
      "text/plain": [
       "2"
      ]
     },
     "execution_count": 31,
     "metadata": {},
     "output_type": "execute_result"
    }
   ],
   "source": [
    "dados.ndim"
   ]
  },
  {
   "cell_type": "markdown",
   "id": "022a4e14-b465-4881-8437-ae3c044e0493",
   "metadata": {},
   "source": [
    " ### Criar ndarry usando a função arry\n",
    " #### Ao criar o arry, a função tenta utilizar o melhor tipo de dado"
   ]
  },
  {
   "cell_type": "code",
   "execution_count": 34,
   "id": "75d96f9d-0639-43d6-a0a9-5ab7b7a0a4bc",
   "metadata": {
    "tags": []
   },
   "outputs": [],
   "source": [
    "lista = [1, 2, 5, 7.8, 1.25]"
   ]
  },
  {
   "cell_type": "code",
   "execution_count": 40,
   "id": "e90dc89a-681f-4b99-95e3-d2a7ecf4bdc1",
   "metadata": {
    "tags": []
   },
   "outputs": [
    {
     "data": {
      "text/plain": [
       "array([1.  , 2.  , 5.  , 7.8 , 1.25])"
      ]
     },
     "execution_count": 40,
     "metadata": {},
     "output_type": "execute_result"
    }
   ],
   "source": [
    "dados2 = np.array(lista)\n",
    "dados2"
   ]
  },
  {
   "cell_type": "code",
   "execution_count": 44,
   "id": "aeb5bba4-372e-4876-beda-fe7e58a8ed1d",
   "metadata": {
    "tags": []
   },
   "outputs": [],
   "source": [
    "lista2 = [[1, 2, 3, 4], [4, 3, 2, 1]]"
   ]
  },
  {
   "cell_type": "code",
   "execution_count": 50,
   "id": "9b03bb77-9abe-463a-af8e-8978c0567524",
   "metadata": {
    "tags": []
   },
   "outputs": [
    {
     "data": {
      "text/plain": [
       "array([[1, 2, 3, 4],\n",
       "       [4, 3, 2, 1]])"
      ]
     },
     "execution_count": 50,
     "metadata": {},
     "output_type": "execute_result"
    }
   ],
   "source": [
    "dados3 = np.array(lista2)\n",
    "dados3"
   ]
  },
  {
   "cell_type": "markdown",
   "id": "4fab98d2-4362-42a1-96c5-c48e6010ddc0",
   "metadata": {},
   "source": [
    "### Outras maneiras de criar arrays"
   ]
  },
  {
   "cell_type": "code",
   "execution_count": 55,
   "id": "44765672-758d-42a7-8c3e-deb5ad55aa54",
   "metadata": {
    "tags": []
   },
   "outputs": [
    {
     "data": {
      "text/plain": [
       "array([0., 0., 0., 0., 0., 0., 0., 0., 0., 0.])"
      ]
     },
     "execution_count": 55,
     "metadata": {},
     "output_type": "execute_result"
    }
   ],
   "source": [
    "# Criar array de 10 posicoes com todos valores zeros\n",
    "dadoszero = np.zeros(10)\n",
    "dadoszero"
   ]
  },
  {
   "cell_type": "code",
   "execution_count": 57,
   "id": "bfb5454d-a6fa-4f5d-8a9d-34452f5eeaaf",
   "metadata": {
    "tags": []
   },
   "outputs": [
    {
     "data": {
      "text/plain": [
       "array([[0., 0., 0.],\n",
       "       [0., 0., 0.]])"
      ]
     },
     "execution_count": 57,
     "metadata": {},
     "output_type": "execute_result"
    }
   ],
   "source": [
    "dadoszero2 = np.zeros((2, 3))\n",
    "dadoszero2"
   ]
  },
  {
   "cell_type": "code",
   "execution_count": 61,
   "id": "0b8811c8-15b7-4f53-bee3-168b9210ed6b",
   "metadata": {
    "tags": []
   },
   "outputs": [
    {
     "data": {
      "text/plain": [
       "array([1., 1., 1., 1., 1.])"
      ]
     },
     "execution_count": 61,
     "metadata": {},
     "output_type": "execute_result"
    }
   ],
   "source": [
    "dadosum = np.ones(5)\n",
    "dadosum"
   ]
  },
  {
   "cell_type": "code",
   "execution_count": 65,
   "id": "902e13e3-df07-4124-9192-07da93941ec7",
   "metadata": {
    "tags": []
   },
   "outputs": [
    {
     "data": {
      "text/plain": [
       "array([[1., 1., 1.],\n",
       "       [1., 1., 1.]])"
      ]
     },
     "execution_count": 65,
     "metadata": {},
     "output_type": "execute_result"
    }
   ],
   "source": [
    "dadosum2 = np.ones((2, 3))\n",
    "dadosum2"
   ]
  },
  {
   "cell_type": "markdown",
   "id": "49bdfa04-7eeb-40c6-87b7-5572d7aa6e6c",
   "metadata": {},
   "source": [
    "#### Criando valores sequencias"
   ]
  },
  {
   "cell_type": "code",
   "execution_count": 70,
   "id": "4d4b904c-6193-4587-bc67-2fd591974288",
   "metadata": {
    "tags": []
   },
   "outputs": [
    {
     "data": {
      "text/plain": [
       "array([0, 1, 2, 3, 4, 5, 6, 7, 8, 9])"
      ]
     },
     "execution_count": 70,
     "metadata": {},
     "output_type": "execute_result"
    }
   ],
   "source": [
    "dadoseq = np.arange(10) \n",
    "dadoseq"
   ]
  },
  {
   "cell_type": "code",
   "execution_count": 72,
   "id": "6eb75897-6053-4974-b3d6-8bb90dde3c72",
   "metadata": {
    "tags": []
   },
   "outputs": [
    {
     "data": {
      "text/plain": [
       "array([ 0,  2,  4,  6,  8, 10, 12, 14, 16, 18])"
      ]
     },
     "execution_count": 72,
     "metadata": {},
     "output_type": "execute_result"
    }
   ],
   "source": [
    "dadoseq2 = np.arange(0, 20, 2)\n",
    "dadoseq2"
   ]
  },
  {
   "cell_type": "code",
   "execution_count": 76,
   "id": "14662e95-51ac-4747-ac0a-b0ce0084872a",
   "metadata": {
    "tags": []
   },
   "outputs": [
    {
     "data": {
      "text/plain": [
       "dtype('int32')"
      ]
     },
     "execution_count": 76,
     "metadata": {},
     "output_type": "execute_result"
    }
   ],
   "source": [
    "dadoseq2.dtype"
   ]
  },
  {
   "cell_type": "code",
   "execution_count": 78,
   "id": "5f502592-0792-4b08-a2dc-0aa79f031f50",
   "metadata": {
    "tags": []
   },
   "outputs": [
    {
     "data": {
      "text/plain": [
       "array([0., 1., 2., 3., 4., 5., 6., 7., 8., 9.])"
      ]
     },
     "execution_count": 78,
     "metadata": {},
     "output_type": "execute_result"
    }
   ],
   "source": [
    "dadoseqf = dadoseq.astype(np.float64)\n",
    "dadoseqf"
   ]
  },
  {
   "cell_type": "code",
   "execution_count": 80,
   "id": "8c3eb25c-6036-4b18-8812-107aa712e3a4",
   "metadata": {
    "tags": []
   },
   "outputs": [
    {
     "data": {
      "text/plain": [
       "dtype('float64')"
      ]
     },
     "execution_count": 80,
     "metadata": {},
     "output_type": "execute_result"
    }
   ],
   "source": [
    "dadoseqf.dtype"
   ]
  },
  {
   "cell_type": "markdown",
   "id": "783cb055-7926-4e9e-90e1-f90ef9dc439c",
   "metadata": {},
   "source": [
    "## Aritmética com Arrays"
   ]
  },
  {
   "cell_type": "code",
   "execution_count": 85,
   "id": "f0599815-6261-42be-9203-ebaeee5f5204",
   "metadata": {
    "tags": []
   },
   "outputs": [
    {
     "data": {
      "text/plain": [
       "array([[1, 2, 3],\n",
       "       [4, 5, 6]])"
      ]
     },
     "execution_count": 85,
     "metadata": {},
     "output_type": "execute_result"
    }
   ],
   "source": [
    "dados4 = np.array([[1, 2, 3], [4, 5, 6]])\n",
    "dados4"
   ]
  },
  {
   "cell_type": "code",
   "execution_count": 87,
   "id": "001f48a4-f8a3-4a4f-b797-816e551159aa",
   "metadata": {
    "tags": []
   },
   "outputs": [
    {
     "data": {
      "text/plain": [
       "array([[ 1,  4,  9],\n",
       "       [16, 25, 36]])"
      ]
     },
     "execution_count": 87,
     "metadata": {},
     "output_type": "execute_result"
    }
   ],
   "source": [
    "dados4 * dados4"
   ]
  },
  {
   "cell_type": "code",
   "execution_count": 89,
   "id": "d27fe032-8d53-4308-99d6-a036954cdddf",
   "metadata": {
    "tags": []
   },
   "outputs": [
    {
     "data": {
      "text/plain": [
       "array([[0, 0, 0],\n",
       "       [0, 0, 0]])"
      ]
     },
     "execution_count": 89,
     "metadata": {},
     "output_type": "execute_result"
    }
   ],
   "source": [
    "dados4 - dados4"
   ]
  },
  {
   "cell_type": "code",
   "execution_count": 91,
   "id": "d761c641-1e66-46a5-a005-7d326c4be6df",
   "metadata": {
    "tags": []
   },
   "outputs": [
    {
     "data": {
      "text/plain": [
       "array([[1.        , 0.5       , 0.33333333],\n",
       "       [0.25      , 0.2       , 0.16666667]])"
      ]
     },
     "execution_count": 91,
     "metadata": {},
     "output_type": "execute_result"
    }
   ],
   "source": [
    "1 / dados4"
   ]
  },
  {
   "cell_type": "code",
   "execution_count": 93,
   "id": "6e7afb63-d308-4de2-9900-96191a3442aa",
   "metadata": {
    "tags": []
   },
   "outputs": [
    {
     "data": {
      "text/plain": [
       "array([[ 2,  4,  6],\n",
       "       [ 8, 10, 12]])"
      ]
     },
     "execution_count": 93,
     "metadata": {},
     "output_type": "execute_result"
    }
   ],
   "source": [
    "2 * dados4"
   ]
  },
  {
   "cell_type": "code",
   "execution_count": 95,
   "id": "2c6852ad-f96f-4f75-89a5-b5e9ce7865c4",
   "metadata": {
    "tags": []
   },
   "outputs": [
    {
     "data": {
      "text/plain": [
       "array([[ 2,  4,  6],\n",
       "       [ 8, 10, 12]])"
      ]
     },
     "execution_count": 95,
     "metadata": {},
     "output_type": "execute_result"
    }
   ],
   "source": [
    "dados5 = dados4 + dados4\n",
    "dados5"
   ]
  },
  {
   "cell_type": "code",
   "execution_count": 97,
   "id": "ee4f067a-b1cc-473b-a5de-5fdf8ff0cf62",
   "metadata": {
    "tags": []
   },
   "outputs": [
    {
     "data": {
      "text/plain": [
       "array([[False, False, False],\n",
       "       [False, False, False]])"
      ]
     },
     "execution_count": 97,
     "metadata": {},
     "output_type": "execute_result"
    }
   ],
   "source": [
    "dados4 > dados5"
   ]
  },
  {
   "cell_type": "markdown",
   "id": "c1e4314b-94d6-45e9-9228-13d46494db1e",
   "metadata": {},
   "source": [
    "## Indexação"
   ]
  },
  {
   "cell_type": "code",
   "execution_count": 100,
   "id": "e414bf24-be87-4fbf-a00e-41c1bf102ce6",
   "metadata": {
    "tags": []
   },
   "outputs": [
    {
     "data": {
      "text/plain": [
       "array([0, 1, 2, 3, 4, 5, 6, 7, 8, 9])"
      ]
     },
     "execution_count": 100,
     "metadata": {},
     "output_type": "execute_result"
    }
   ],
   "source": [
    "dadoseq"
   ]
  },
  {
   "cell_type": "code",
   "execution_count": 102,
   "id": "2f722825-b023-49da-9c05-282b7eddace5",
   "metadata": {
    "tags": []
   },
   "outputs": [
    {
     "data": {
      "text/plain": [
       "5"
      ]
     },
     "execution_count": 102,
     "metadata": {},
     "output_type": "execute_result"
    }
   ],
   "source": [
    "dadoseq[5]"
   ]
  },
  {
   "cell_type": "code",
   "execution_count": 104,
   "id": "7816ba9f-a327-4fac-948f-d1dd33f240a2",
   "metadata": {
    "tags": []
   },
   "outputs": [
    {
     "data": {
      "text/plain": [
       "3"
      ]
     },
     "execution_count": 104,
     "metadata": {},
     "output_type": "execute_result"
    }
   ],
   "source": [
    "dadoseq[(1+2)]"
   ]
  },
  {
   "cell_type": "markdown",
   "id": "b27d1ae3-2144-4042-9bad-22123516ba6f",
   "metadata": {},
   "source": [
    "#### Diferente de uma lista python, um recorte (fatia) de um ndarray sofrerá brodcast - é como se fosse uma view de base de dados.\n",
    "#### Com conjuntos imensos de dados, isso é uma grande vantagem em relação a performance"
   ]
  },
  {
   "cell_type": "code",
   "execution_count": 110,
   "id": "a7cf23f5-dcda-46bd-a17c-471dcba8abec",
   "metadata": {
    "tags": []
   },
   "outputs": [
    {
     "data": {
      "text/plain": [
       "array([3, 4, 5])"
      ]
     },
     "execution_count": 110,
     "metadata": {},
     "output_type": "execute_result"
    }
   ],
   "source": [
    "dadoseq[3:6]"
   ]
  },
  {
   "cell_type": "code",
   "execution_count": 114,
   "id": "b0a53bad-40ba-4d23-80ec-615c51cebb67",
   "metadata": {
    "tags": []
   },
   "outputs": [
    {
     "data": {
      "text/plain": [
       "array([ 0,  1,  2, 20, 20,  5,  6,  7,  8,  9])"
      ]
     },
     "execution_count": 114,
     "metadata": {},
     "output_type": "execute_result"
    }
   ],
   "source": [
    "dadoseq[3:5] = 20\n",
    "dadoseq"
   ]
  },
  {
   "cell_type": "code",
   "execution_count": 134,
   "id": "e2a2d710-1f63-4674-bab2-dc1f34a793a4",
   "metadata": {
    "tags": []
   },
   "outputs": [
    {
     "data": {
      "text/plain": [
       "array([ 33, 333])"
      ]
     },
     "execution_count": 134,
     "metadata": {},
     "output_type": "execute_result"
    }
   ],
   "source": [
    "dadosfatia = dadoseq[2:4]\n",
    "dadosfatia"
   ]
  },
  {
   "cell_type": "code",
   "execution_count": 136,
   "id": "06241055-8009-486f-9ab6-4c72677955bb",
   "metadata": {
    "tags": []
   },
   "outputs": [
    {
     "data": {
      "text/plain": [
       "array([  33, 2000])"
      ]
     },
     "execution_count": 136,
     "metadata": {},
     "output_type": "execute_result"
    }
   ],
   "source": [
    "dadosfatia[1] = 2000\n",
    "dadosfatia"
   ]
  },
  {
   "cell_type": "code",
   "execution_count": 138,
   "id": "c4774be0-eddc-4c7f-843a-357763f007c1",
   "metadata": {
    "tags": []
   },
   "outputs": [
    {
     "data": {
      "text/plain": [
       "array([   0,    1,   33, 2000,   20,    5,    6,    7,    8,    9])"
      ]
     },
     "execution_count": 138,
     "metadata": {},
     "output_type": "execute_result"
    }
   ],
   "source": [
    "dadoseq"
   ]
  },
  {
   "cell_type": "code",
   "execution_count": 140,
   "id": "f0de35d1-89fb-4530-8bf3-954b8c4fe2c1",
   "metadata": {
    "tags": []
   },
   "outputs": [
    {
     "data": {
      "text/plain": [
       "array([333, 333])"
      ]
     },
     "execution_count": 140,
     "metadata": {},
     "output_type": "execute_result"
    }
   ],
   "source": [
    "dadosfatia[:] = 333\n",
    "dadosfatia"
   ]
  },
  {
   "cell_type": "code",
   "execution_count": 142,
   "id": "d3b4e3ee-59a6-46f6-a23d-0aa77a6be4dc",
   "metadata": {
    "tags": []
   },
   "outputs": [
    {
     "data": {
      "text/plain": [
       "array([  0,   1, 333, 333,  20,   5,   6,   7,   8,   9])"
      ]
     },
     "execution_count": 142,
     "metadata": {},
     "output_type": "execute_result"
    }
   ],
   "source": [
    "dadoseq"
   ]
  },
  {
   "cell_type": "code",
   "execution_count": 144,
   "id": "95c0106a-b3d8-4fb0-8b87-1f78807f1af7",
   "metadata": {
    "tags": []
   },
   "outputs": [
    {
     "data": {
      "text/plain": [
       "array([  0,   1,  33, 333,  20,   5,   6,   7,   8,   9])"
      ]
     },
     "execution_count": 144,
     "metadata": {},
     "output_type": "execute_result"
    }
   ],
   "source": [
    "dadoseq[2] = 33\n",
    "dadoseq"
   ]
  },
  {
   "cell_type": "code",
   "execution_count": 146,
   "id": "053c73f5-f7ca-4f04-9bee-894dcb489164",
   "metadata": {
    "tags": []
   },
   "outputs": [
    {
     "data": {
      "text/plain": [
       "array([ 33, 333])"
      ]
     },
     "execution_count": 146,
     "metadata": {},
     "output_type": "execute_result"
    }
   ],
   "source": [
    "dadosfatia"
   ]
  },
  {
   "cell_type": "markdown",
   "id": "332fda6a-bee7-48bb-b858-e2221acfcb61",
   "metadata": {},
   "source": [
    "### Copiar dados"
   ]
  },
  {
   "cell_type": "code",
   "execution_count": 154,
   "id": "5f0080e2-68ca-4f1d-9965-2fda7cf6d998",
   "metadata": {
    "tags": []
   },
   "outputs": [
    {
     "data": {
      "text/plain": [
       "array([ 33, 333])"
      ]
     },
     "execution_count": 154,
     "metadata": {},
     "output_type": "execute_result"
    }
   ],
   "source": [
    "dadosfatia2 = dadoseq[2:4].copy()\n",
    "dadosfatia2"
   ]
  },
  {
   "cell_type": "code",
   "execution_count": 156,
   "id": "e0b94869-f9e2-49e0-a56f-5b85913da2cc",
   "metadata": {
    "tags": []
   },
   "outputs": [
    {
     "data": {
      "text/plain": [
       "array([111, 111])"
      ]
     },
     "execution_count": 156,
     "metadata": {},
     "output_type": "execute_result"
    }
   ],
   "source": [
    "dadosfatia2[:] = 111\n",
    "dadosfatia2"
   ]
  },
  {
   "cell_type": "code",
   "execution_count": 158,
   "id": "9c5bedd9-ef58-4f0d-9ddf-c3775e52e5a6",
   "metadata": {
    "tags": []
   },
   "outputs": [
    {
     "data": {
      "text/plain": [
       "array([  0,   1,  33, 333,  20,   5,   6,   7,   8,   9])"
      ]
     },
     "execution_count": 158,
     "metadata": {},
     "output_type": "execute_result"
    }
   ],
   "source": [
    "dadoseq"
   ]
  },
  {
   "cell_type": "markdown",
   "id": "84f806b8-23f0-41cb-873a-c772e72a6a9a",
   "metadata": {},
   "source": [
    "### Array com mais de uma dimensão"
   ]
  },
  {
   "cell_type": "code",
   "execution_count": 164,
   "id": "6fed1e34-824f-4850-834d-750844f16ee4",
   "metadata": {
    "tags": []
   },
   "outputs": [
    {
     "data": {
      "text/plain": [
       "array([[1, 2, 3],\n",
       "       [4, 5, 6],\n",
       "       [7, 8, 9]])"
      ]
     },
     "execution_count": 164,
     "metadata": {},
     "output_type": "execute_result"
    }
   ],
   "source": [
    "dados6 = np.array([[1, 2, 3], [4, 5, 6], [7,  8, 9]])\n",
    "dados6"
   ]
  },
  {
   "cell_type": "code",
   "execution_count": 166,
   "id": "968054cd-4b02-4297-a622-c2e386e06f0f",
   "metadata": {
    "tags": []
   },
   "outputs": [
    {
     "data": {
      "text/plain": [
       "6"
      ]
     },
     "execution_count": 166,
     "metadata": {},
     "output_type": "execute_result"
    }
   ],
   "source": [
    "dados6[1, 2]"
   ]
  },
  {
   "cell_type": "markdown",
   "id": "d5ec5e70-31c8-4e6d-b1ee-e230eb02e1a5",
   "metadata": {},
   "source": [
    "### Mascaras "
   ]
  },
  {
   "cell_type": "code",
   "execution_count": 170,
   "id": "61ad25ce-1c88-4ae5-a8ae-53c99a02e8bc",
   "metadata": {
    "tags": []
   },
   "outputs": [
    {
     "data": {
      "text/plain": [
       "array([  0,   1,  33, 333,  20,   5,   6,   7,   8,   9])"
      ]
     },
     "execution_count": 170,
     "metadata": {},
     "output_type": "execute_result"
    }
   ],
   "source": [
    "dadoseq"
   ]
  },
  {
   "cell_type": "code",
   "execution_count": 174,
   "id": "5df83a17-dafc-4f83-bee0-d8db6def129b",
   "metadata": {
    "tags": []
   },
   "outputs": [
    {
     "data": {
      "text/plain": [
       "array([ True,  True,  True, False,  True,  True,  True,  True,  True,\n",
       "        True])"
      ]
     },
     "execution_count": 174,
     "metadata": {},
     "output_type": "execute_result"
    }
   ],
   "source": [
    "mascara = dadoseq < 100\n",
    "mascara"
   ]
  },
  {
   "cell_type": "code",
   "execution_count": 178,
   "id": "757ea35c-1343-4f84-8ae3-8cf9bc7be564",
   "metadata": {
    "tags": []
   },
   "outputs": [
    {
     "data": {
      "text/plain": [
       "array([8888, 8888,   33,  333,   20, 8888, 8888, 8888, 8888, 8888])"
      ]
     },
     "execution_count": 178,
     "metadata": {},
     "output_type": "execute_result"
    }
   ],
   "source": [
    "dadoseq[dadoseq < 20] = 8888\n",
    "dadoseq"
   ]
  },
  {
   "cell_type": "markdown",
   "id": "af5718d7-471e-4149-b292-8f34f95629b8",
   "metadata": {},
   "source": [
    "### Transposição"
   ]
  },
  {
   "cell_type": "code",
   "execution_count": 183,
   "id": "3084ce85-a044-4c74-9f06-5a65f34a47b5",
   "metadata": {
    "tags": []
   },
   "outputs": [
    {
     "data": {
      "text/plain": [
       "array([[ 0,  1,  2,  3,  4],\n",
       "       [ 5,  6,  7,  8,  9],\n",
       "       [10, 11, 12, 13, 14]])"
      ]
     },
     "execution_count": 183,
     "metadata": {},
     "output_type": "execute_result"
    }
   ],
   "source": [
    "dados7 = np.arange(15).reshape((3, 5))\n",
    "dados7"
   ]
  },
  {
   "cell_type": "code",
   "execution_count": 185,
   "id": "7a7c9793-fd90-4a22-a5e9-facbaf88bdbb",
   "metadata": {
    "tags": []
   },
   "outputs": [
    {
     "data": {
      "text/plain": [
       "array([[ 0,  5, 10],\n",
       "       [ 1,  6, 11],\n",
       "       [ 2,  7, 12],\n",
       "       [ 3,  8, 13],\n",
       "       [ 4,  9, 14]])"
      ]
     },
     "execution_count": 185,
     "metadata": {},
     "output_type": "execute_result"
    }
   ],
   "source": [
    "dados7.T"
   ]
  },
  {
   "cell_type": "markdown",
   "id": "3c3bf917-43d1-411c-a993-f5590c181663",
   "metadata": {},
   "source": [
    "### Multiplicação de matrizes com Dots"
   ]
  },
  {
   "cell_type": "code",
   "execution_count": 188,
   "id": "f3877440-120b-4dc5-be19-b0bab479209a",
   "metadata": {
    "tags": []
   },
   "outputs": [
    {
     "data": {
      "text/plain": [
       "array([[125, 140, 155, 170, 185],\n",
       "       [140, 158, 176, 194, 212],\n",
       "       [155, 176, 197, 218, 239],\n",
       "       [170, 194, 218, 242, 266],\n",
       "       [185, 212, 239, 266, 293]])"
      ]
     },
     "execution_count": 188,
     "metadata": {},
     "output_type": "execute_result"
    }
   ],
   "source": [
    "np.dot(dados7.T, dados7)"
   ]
  },
  {
   "cell_type": "markdown",
   "id": "e165f753-190e-4ab2-817a-579576afba63",
   "metadata": {},
   "source": [
    "### Vejam que há muitas outras funções que podem ser exploradas como: \n",
    "### sin, cos, power, mod, sqrt entre outros"
   ]
  },
  {
   "cell_type": "markdown",
   "id": "0bedb33c-7652-433d-bd5d-a50479ec1ee4",
   "metadata": {},
   "source": [
    "## Pandas"
   ]
  },
  {
   "cell_type": "markdown",
   "id": "ee7b1556-6005-4177-a089-6e0b56636475",
   "metadata": {},
   "source": [
    "### Disciplina de Ciência de Dados\n",
    "### Aula 6"
   ]
  },
  {
   "cell_type": "markdown",
   "id": "4802c219-ecdc-46cd-9ea2-c25420745da7",
   "metadata": {},
   "source": [
    "#### Importação da Biblioteca Pandas"
   ]
  },
  {
   "cell_type": "code",
   "execution_count": 8,
   "id": "9ed53708-524b-4772-a905-da1689714be0",
   "metadata": {
    "tags": []
   },
   "outputs": [],
   "source": [
    "import pandas as pd\n",
    "import numpy as np"
   ]
  },
  {
   "cell_type": "markdown",
   "id": "e70e84a2-886a-4fe5-b39b-d3958638a7ab",
   "metadata": {},
   "source": [
    "#### Series (observar o indece do lado esquerdo)"
   ]
  },
  {
   "cell_type": "code",
   "execution_count": 12,
   "id": "286aeaa5-ddc3-4f09-8bed-25311e64b8d2",
   "metadata": {
    "tags": []
   },
   "outputs": [
    {
     "data": {
      "text/plain": [
       "0    1\n",
       "1    2\n",
       "2   -5\n",
       "3    0\n",
       "dtype: int64"
      ]
     },
     "execution_count": 12,
     "metadata": {},
     "output_type": "execute_result"
    }
   ],
   "source": [
    "s1 = pd.Series([1, 2, -5, 0])\n",
    "s1"
   ]
  },
  {
   "cell_type": "code",
   "execution_count": 14,
   "id": "54880b2a-d0c5-4cbc-b2f1-eb29f6d74c64",
   "metadata": {
    "tags": []
   },
   "outputs": [
    {
     "data": {
      "text/plain": [
       "array([ 1,  2, -5,  0], dtype=int64)"
      ]
     },
     "execution_count": 14,
     "metadata": {},
     "output_type": "execute_result"
    }
   ],
   "source": [
    "s1.values"
   ]
  },
  {
   "cell_type": "code",
   "execution_count": 16,
   "id": "2a4db4b3-413a-445c-84b6-c98b5b4de41c",
   "metadata": {
    "tags": []
   },
   "outputs": [
    {
     "data": {
      "text/plain": [
       "RangeIndex(start=0, stop=4, step=1)"
      ]
     },
     "execution_count": 16,
     "metadata": {},
     "output_type": "execute_result"
    }
   ],
   "source": [
    "s1.index"
   ]
  },
  {
   "cell_type": "code",
   "execution_count": 18,
   "id": "0f6d53df-fb5e-44db-960f-0096de27bf03",
   "metadata": {
    "tags": []
   },
   "outputs": [
    {
     "data": {
      "text/plain": [
       "a    1\n",
       "b    2\n",
       "c   -5\n",
       "d    0\n",
       "dtype: int64"
      ]
     },
     "execution_count": 18,
     "metadata": {},
     "output_type": "execute_result"
    }
   ],
   "source": [
    "s2 = pd.Series([1, 2, -5, 0], index = ['a', 'b', 'c', 'd'])\n",
    "s2"
   ]
  },
  {
   "cell_type": "code",
   "execution_count": 20,
   "id": "93a9956e-a636-4839-ae72-5ae73d5c9a45",
   "metadata": {
    "tags": []
   },
   "outputs": [
    {
     "data": {
      "text/plain": [
       "Index(['a', 'b', 'c', 'd'], dtype='object')"
      ]
     },
     "execution_count": 20,
     "metadata": {},
     "output_type": "execute_result"
    }
   ],
   "source": [
    "s2.index"
   ]
  },
  {
   "cell_type": "markdown",
   "id": "f50342b3-b47e-44e7-84ae-e71264b06b80",
   "metadata": {},
   "source": [
    "#### Atribuição"
   ]
  },
  {
   "cell_type": "code",
   "execution_count": 23,
   "id": "d8c7e010-54c2-4b79-ade2-2cab762522ea",
   "metadata": {
    "tags": []
   },
   "outputs": [
    {
     "data": {
      "text/plain": [
       "a    1000\n",
       "b       2\n",
       "c      -5\n",
       "d       0\n",
       "dtype: int64"
      ]
     },
     "execution_count": 23,
     "metadata": {},
     "output_type": "execute_result"
    }
   ],
   "source": [
    "s2['a'] = 1000\n",
    "s2"
   ]
  },
  {
   "cell_type": "markdown",
   "id": "eb8574ce-c805-4c05-846f-5233900e7bd1",
   "metadata": {},
   "source": [
    "#### Comparação"
   ]
  },
  {
   "cell_type": "code",
   "execution_count": 28,
   "id": "4ecdc01d-d100-4f13-a452-58e676979017",
   "metadata": {
    "tags": []
   },
   "outputs": [
    {
     "data": {
      "text/plain": [
       "a    1000\n",
       "b       2\n",
       "dtype: int64"
      ]
     },
     "execution_count": 28,
     "metadata": {},
     "output_type": "execute_result"
    }
   ],
   "source": [
    "s2[s2 > 0]"
   ]
  },
  {
   "cell_type": "markdown",
   "id": "dca4ab10-0eb9-4020-90e6-9339c59810b5",
   "metadata": {},
   "source": [
    "#### Algebra"
   ]
  },
  {
   "cell_type": "code",
   "execution_count": 30,
   "id": "8f3f4bee-a424-4671-af5c-6d4bec0ba9cc",
   "metadata": {
    "tags": []
   },
   "outputs": [
    {
     "data": {
      "text/plain": [
       "a    2000\n",
       "b       4\n",
       "c     -10\n",
       "d       0\n",
       "dtype: int64"
      ]
     },
     "execution_count": 30,
     "metadata": {},
     "output_type": "execute_result"
    }
   ],
   "source": [
    "s2 * 2"
   ]
  },
  {
   "cell_type": "code",
   "execution_count": 32,
   "id": "4f4859ff-1a24-40c4-b342-c0b74e03e691",
   "metadata": {
    "tags": []
   },
   "outputs": [
    {
     "data": {
      "text/plain": [
       "0    False\n",
       "1    False\n",
       "2    False\n",
       "3    False\n",
       "dtype: bool"
      ]
     },
     "execution_count": 32,
     "metadata": {},
     "output_type": "execute_result"
    }
   ],
   "source": [
    "s1.isnull()"
   ]
  },
  {
   "cell_type": "markdown",
   "id": "9cfbcd9c-a0a7-406d-a231-fed7f7042847",
   "metadata": {},
   "source": [
    "### Dataframe"
   ]
  },
  {
   "cell_type": "code",
   "execution_count": 35,
   "id": "ca3d893a-206f-4fb8-b6fe-cc0b45fe3685",
   "metadata": {
    "tags": []
   },
   "outputs": [],
   "source": [
    "# Dicionario\n",
    "dados = {\n",
    "    'estado': ['SP', 'MG', 'PR', 'SP', 'MG', 'PR'], \n",
    "    'ano': [2019, 2019, 2019, 2020, 2020, 2020],\n",
    "    'pop': [45.9, 21.2, 16.9, 46.6, 21.4, 17.3]\n",
    "}"
   ]
  },
  {
   "cell_type": "code",
   "execution_count": 37,
   "id": "214c046c-8239-419a-bf34-9a9be29664aa",
   "metadata": {
    "tags": []
   },
   "outputs": [
    {
     "data": {
      "text/html": [
       "<div>\n",
       "<style scoped>\n",
       "    .dataframe tbody tr th:only-of-type {\n",
       "        vertical-align: middle;\n",
       "    }\n",
       "\n",
       "    .dataframe tbody tr th {\n",
       "        vertical-align: top;\n",
       "    }\n",
       "\n",
       "    .dataframe thead th {\n",
       "        text-align: right;\n",
       "    }\n",
       "</style>\n",
       "<table border=\"1\" class=\"dataframe\">\n",
       "  <thead>\n",
       "    <tr style=\"text-align: right;\">\n",
       "      <th></th>\n",
       "      <th>estado</th>\n",
       "      <th>ano</th>\n",
       "      <th>pop</th>\n",
       "    </tr>\n",
       "  </thead>\n",
       "  <tbody>\n",
       "    <tr>\n",
       "      <th>0</th>\n",
       "      <td>SP</td>\n",
       "      <td>2019</td>\n",
       "      <td>45.9</td>\n",
       "    </tr>\n",
       "    <tr>\n",
       "      <th>1</th>\n",
       "      <td>MG</td>\n",
       "      <td>2019</td>\n",
       "      <td>21.2</td>\n",
       "    </tr>\n",
       "    <tr>\n",
       "      <th>2</th>\n",
       "      <td>PR</td>\n",
       "      <td>2019</td>\n",
       "      <td>16.9</td>\n",
       "    </tr>\n",
       "    <tr>\n",
       "      <th>3</th>\n",
       "      <td>SP</td>\n",
       "      <td>2020</td>\n",
       "      <td>46.6</td>\n",
       "    </tr>\n",
       "    <tr>\n",
       "      <th>4</th>\n",
       "      <td>MG</td>\n",
       "      <td>2020</td>\n",
       "      <td>21.4</td>\n",
       "    </tr>\n",
       "    <tr>\n",
       "      <th>5</th>\n",
       "      <td>PR</td>\n",
       "      <td>2020</td>\n",
       "      <td>17.3</td>\n",
       "    </tr>\n",
       "  </tbody>\n",
       "</table>\n",
       "</div>"
      ],
      "text/plain": [
       "  estado   ano   pop\n",
       "0     SP  2019  45.9\n",
       "1     MG  2019  21.2\n",
       "2     PR  2019  16.9\n",
       "3     SP  2020  46.6\n",
       "4     MG  2020  21.4\n",
       "5     PR  2020  17.3"
      ]
     },
     "execution_count": 37,
     "metadata": {},
     "output_type": "execute_result"
    }
   ],
   "source": [
    "# Dataframe\n",
    "df1 = pd.DataFrame(dados)\n",
    "df1"
   ]
  },
  {
   "cell_type": "markdown",
   "id": "1ad7b250-6340-478b-859b-15fcd1f6e3cf",
   "metadata": {},
   "source": [
    "#### Visualizar partes do dataframe"
   ]
  },
  {
   "cell_type": "code",
   "execution_count": 46,
   "id": "cff8422a-5e8b-4427-82e8-0d1d1b58f19a",
   "metadata": {
    "tags": []
   },
   "outputs": [
    {
     "data": {
      "text/html": [
       "<div>\n",
       "<style scoped>\n",
       "    .dataframe tbody tr th:only-of-type {\n",
       "        vertical-align: middle;\n",
       "    }\n",
       "\n",
       "    .dataframe tbody tr th {\n",
       "        vertical-align: top;\n",
       "    }\n",
       "\n",
       "    .dataframe thead th {\n",
       "        text-align: right;\n",
       "    }\n",
       "</style>\n",
       "<table border=\"1\" class=\"dataframe\">\n",
       "  <thead>\n",
       "    <tr style=\"text-align: right;\">\n",
       "      <th></th>\n",
       "      <th>estado</th>\n",
       "      <th>ano</th>\n",
       "      <th>pop</th>\n",
       "    </tr>\n",
       "  </thead>\n",
       "  <tbody>\n",
       "    <tr>\n",
       "      <th>0</th>\n",
       "      <td>SP</td>\n",
       "      <td>2019</td>\n",
       "      <td>45.9</td>\n",
       "    </tr>\n",
       "    <tr>\n",
       "      <th>1</th>\n",
       "      <td>MG</td>\n",
       "      <td>2019</td>\n",
       "      <td>21.2</td>\n",
       "    </tr>\n",
       "  </tbody>\n",
       "</table>\n",
       "</div>"
      ],
      "text/plain": [
       "  estado   ano   pop\n",
       "0     SP  2019  45.9\n",
       "1     MG  2019  21.2"
      ]
     },
     "execution_count": 46,
     "metadata": {},
     "output_type": "execute_result"
    }
   ],
   "source": [
    "# Prmeiros linhas\n",
    "df1.head(2)"
   ]
  },
  {
   "cell_type": "code",
   "execution_count": 50,
   "id": "c3a533a5-c982-4e42-a314-47a66cf6c68e",
   "metadata": {
    "tags": []
   },
   "outputs": [
    {
     "data": {
      "text/html": [
       "<div>\n",
       "<style scoped>\n",
       "    .dataframe tbody tr th:only-of-type {\n",
       "        vertical-align: middle;\n",
       "    }\n",
       "\n",
       "    .dataframe tbody tr th {\n",
       "        vertical-align: top;\n",
       "    }\n",
       "\n",
       "    .dataframe thead th {\n",
       "        text-align: right;\n",
       "    }\n",
       "</style>\n",
       "<table border=\"1\" class=\"dataframe\">\n",
       "  <thead>\n",
       "    <tr style=\"text-align: right;\">\n",
       "      <th></th>\n",
       "      <th>estado</th>\n",
       "      <th>ano</th>\n",
       "      <th>pop</th>\n",
       "    </tr>\n",
       "  </thead>\n",
       "  <tbody>\n",
       "    <tr>\n",
       "      <th>4</th>\n",
       "      <td>MG</td>\n",
       "      <td>2020</td>\n",
       "      <td>21.4</td>\n",
       "    </tr>\n",
       "    <tr>\n",
       "      <th>5</th>\n",
       "      <td>PR</td>\n",
       "      <td>2020</td>\n",
       "      <td>17.3</td>\n",
       "    </tr>\n",
       "  </tbody>\n",
       "</table>\n",
       "</div>"
      ],
      "text/plain": [
       "  estado   ano   pop\n",
       "4     MG  2020  21.4\n",
       "5     PR  2020  17.3"
      ]
     },
     "execution_count": 50,
     "metadata": {},
     "output_type": "execute_result"
    }
   ],
   "source": [
    "# Ultimas linghas\n",
    "df1.tail(2)"
   ]
  },
  {
   "cell_type": "code",
   "execution_count": 52,
   "id": "2ed2419b-6791-4fa9-8918-4031da3aeabf",
   "metadata": {
    "tags": []
   },
   "outputs": [
    {
     "data": {
      "text/html": [
       "<div>\n",
       "<style scoped>\n",
       "    .dataframe tbody tr th:only-of-type {\n",
       "        vertical-align: middle;\n",
       "    }\n",
       "\n",
       "    .dataframe tbody tr th {\n",
       "        vertical-align: top;\n",
       "    }\n",
       "\n",
       "    .dataframe thead th {\n",
       "        text-align: right;\n",
       "    }\n",
       "</style>\n",
       "<table border=\"1\" class=\"dataframe\">\n",
       "  <thead>\n",
       "    <tr style=\"text-align: right;\">\n",
       "      <th></th>\n",
       "      <th>estado</th>\n",
       "      <th>ano</th>\n",
       "      <th>pop</th>\n",
       "    </tr>\n",
       "  </thead>\n",
       "  <tbody>\n",
       "    <tr>\n",
       "      <th>2</th>\n",
       "      <td>PR</td>\n",
       "      <td>2019</td>\n",
       "      <td>16.9</td>\n",
       "    </tr>\n",
       "    <tr>\n",
       "      <th>5</th>\n",
       "      <td>PR</td>\n",
       "      <td>2020</td>\n",
       "      <td>17.3</td>\n",
       "    </tr>\n",
       "    <tr>\n",
       "      <th>3</th>\n",
       "      <td>SP</td>\n",
       "      <td>2020</td>\n",
       "      <td>46.6</td>\n",
       "    </tr>\n",
       "  </tbody>\n",
       "</table>\n",
       "</div>"
      ],
      "text/plain": [
       "  estado   ano   pop\n",
       "2     PR  2019  16.9\n",
       "5     PR  2020  17.3\n",
       "3     SP  2020  46.6"
      ]
     },
     "execution_count": 52,
     "metadata": {},
     "output_type": "execute_result"
    }
   ],
   "source": [
    "# Linhas aliatorias\n",
    "df1.sample(3)"
   ]
  },
  {
   "cell_type": "markdown",
   "id": "393d910c-9800-44f4-b7c5-29e5a1c75a6c",
   "metadata": {},
   "source": [
    "### Criar novo Dataframe definindo a posição das colunas "
   ]
  },
  {
   "cell_type": "code",
   "execution_count": 55,
   "id": "d993082c-0b34-4548-8bd6-3fc340a6f33d",
   "metadata": {
    "tags": []
   },
   "outputs": [
    {
     "data": {
      "text/html": [
       "<div>\n",
       "<style scoped>\n",
       "    .dataframe tbody tr th:only-of-type {\n",
       "        vertical-align: middle;\n",
       "    }\n",
       "\n",
       "    .dataframe tbody tr th {\n",
       "        vertical-align: top;\n",
       "    }\n",
       "\n",
       "    .dataframe thead th {\n",
       "        text-align: right;\n",
       "    }\n",
       "</style>\n",
       "<table border=\"1\" class=\"dataframe\">\n",
       "  <thead>\n",
       "    <tr style=\"text-align: right;\">\n",
       "      <th></th>\n",
       "      <th>ano</th>\n",
       "      <th>estado</th>\n",
       "      <th>pop</th>\n",
       "    </tr>\n",
       "  </thead>\n",
       "  <tbody>\n",
       "    <tr>\n",
       "      <th>0</th>\n",
       "      <td>2019</td>\n",
       "      <td>SP</td>\n",
       "      <td>45.9</td>\n",
       "    </tr>\n",
       "    <tr>\n",
       "      <th>1</th>\n",
       "      <td>2019</td>\n",
       "      <td>MG</td>\n",
       "      <td>21.2</td>\n",
       "    </tr>\n",
       "    <tr>\n",
       "      <th>2</th>\n",
       "      <td>2019</td>\n",
       "      <td>PR</td>\n",
       "      <td>16.9</td>\n",
       "    </tr>\n",
       "    <tr>\n",
       "      <th>3</th>\n",
       "      <td>2020</td>\n",
       "      <td>SP</td>\n",
       "      <td>46.6</td>\n",
       "    </tr>\n",
       "    <tr>\n",
       "      <th>4</th>\n",
       "      <td>2020</td>\n",
       "      <td>MG</td>\n",
       "      <td>21.4</td>\n",
       "    </tr>\n",
       "    <tr>\n",
       "      <th>5</th>\n",
       "      <td>2020</td>\n",
       "      <td>PR</td>\n",
       "      <td>17.3</td>\n",
       "    </tr>\n",
       "  </tbody>\n",
       "</table>\n",
       "</div>"
      ],
      "text/plain": [
       "    ano estado   pop\n",
       "0  2019     SP  45.9\n",
       "1  2019     MG  21.2\n",
       "2  2019     PR  16.9\n",
       "3  2020     SP  46.6\n",
       "4  2020     MG  21.4\n",
       "5  2020     PR  17.3"
      ]
     },
     "execution_count": 55,
     "metadata": {},
     "output_type": "execute_result"
    }
   ],
   "source": [
    "df2 = pd.DataFrame(dados, columns = ['ano', 'estado', 'pop'])\n",
    "df2"
   ]
  },
  {
   "cell_type": "markdown",
   "id": "ee0af793-8a73-48ee-90a9-94c199268946",
   "metadata": {},
   "source": [
    "#### Observar DF"
   ]
  },
  {
   "cell_type": "code",
   "execution_count": 59,
   "id": "a429ee1e-df8c-4393-a541-9ce7adcdbe5a",
   "metadata": {
    "tags": []
   },
   "outputs": [
    {
     "data": {
      "text/plain": [
       "0    SP\n",
       "1    MG\n",
       "2    PR\n",
       "3    SP\n",
       "4    MG\n",
       "5    PR\n",
       "Name: estado, dtype: object"
      ]
     },
     "execution_count": 59,
     "metadata": {},
     "output_type": "execute_result"
    }
   ],
   "source": [
    "df2['estado']"
   ]
  },
  {
   "cell_type": "code",
   "execution_count": 63,
   "id": "d09eac58-3c1d-4824-966c-bf0e4d085586",
   "metadata": {
    "tags": []
   },
   "outputs": [
    {
     "data": {
      "text/plain": [
       "0    2019\n",
       "1    2019\n",
       "2    2019\n",
       "3    2020\n",
       "4    2020\n",
       "5    2020\n",
       "Name: ano, dtype: int64"
      ]
     },
     "execution_count": 63,
     "metadata": {},
     "output_type": "execute_result"
    }
   ],
   "source": [
    "df2.ano"
   ]
  },
  {
   "cell_type": "code",
   "execution_count": 61,
   "id": "f6209383-330b-4b01-ad36-59deec1f7860",
   "metadata": {
    "tags": []
   },
   "outputs": [
    {
     "data": {
      "text/html": [
       "<div>\n",
       "<style scoped>\n",
       "    .dataframe tbody tr th:only-of-type {\n",
       "        vertical-align: middle;\n",
       "    }\n",
       "\n",
       "    .dataframe tbody tr th {\n",
       "        vertical-align: top;\n",
       "    }\n",
       "\n",
       "    .dataframe thead th {\n",
       "        text-align: right;\n",
       "    }\n",
       "</style>\n",
       "<table border=\"1\" class=\"dataframe\">\n",
       "  <thead>\n",
       "    <tr style=\"text-align: right;\">\n",
       "      <th></th>\n",
       "      <th>estado</th>\n",
       "      <th>ano</th>\n",
       "    </tr>\n",
       "  </thead>\n",
       "  <tbody>\n",
       "    <tr>\n",
       "      <th>0</th>\n",
       "      <td>SP</td>\n",
       "      <td>2019</td>\n",
       "    </tr>\n",
       "    <tr>\n",
       "      <th>1</th>\n",
       "      <td>MG</td>\n",
       "      <td>2019</td>\n",
       "    </tr>\n",
       "    <tr>\n",
       "      <th>2</th>\n",
       "      <td>PR</td>\n",
       "      <td>2019</td>\n",
       "    </tr>\n",
       "    <tr>\n",
       "      <th>3</th>\n",
       "      <td>SP</td>\n",
       "      <td>2020</td>\n",
       "    </tr>\n",
       "    <tr>\n",
       "      <th>4</th>\n",
       "      <td>MG</td>\n",
       "      <td>2020</td>\n",
       "    </tr>\n",
       "    <tr>\n",
       "      <th>5</th>\n",
       "      <td>PR</td>\n",
       "      <td>2020</td>\n",
       "    </tr>\n",
       "  </tbody>\n",
       "</table>\n",
       "</div>"
      ],
      "text/plain": [
       "  estado   ano\n",
       "0     SP  2019\n",
       "1     MG  2019\n",
       "2     PR  2019\n",
       "3     SP  2020\n",
       "4     MG  2020\n",
       "5     PR  2020"
      ]
     },
     "execution_count": 61,
     "metadata": {},
     "output_type": "execute_result"
    }
   ],
   "source": [
    "df2[['estado', 'ano']]"
   ]
  },
  {
   "cell_type": "code",
   "execution_count": 67,
   "id": "29e60f15-db5a-4a7c-873b-bf37830639f8",
   "metadata": {
    "tags": []
   },
   "outputs": [
    {
     "data": {
      "text/plain": [
       "ano         int64\n",
       "estado     object\n",
       "pop       float64\n",
       "dtype: object"
      ]
     },
     "execution_count": 67,
     "metadata": {},
     "output_type": "execute_result"
    }
   ],
   "source": [
    "df2.dtypes"
   ]
  },
  {
   "cell_type": "markdown",
   "id": "9b2ee062-27ac-4604-a79e-3b729da4caf6",
   "metadata": {
    "tags": []
   },
   "source": [
    "#### Atribuir valores"
   ]
  },
  {
   "cell_type": "code",
   "execution_count": 72,
   "id": "7a803b7b-527d-42d3-b32a-3184609d87c6",
   "metadata": {
    "tags": []
   },
   "outputs": [
    {
     "data": {
      "text/html": [
       "<div>\n",
       "<style scoped>\n",
       "    .dataframe tbody tr th:only-of-type {\n",
       "        vertical-align: middle;\n",
       "    }\n",
       "\n",
       "    .dataframe tbody tr th {\n",
       "        vertical-align: top;\n",
       "    }\n",
       "\n",
       "    .dataframe thead th {\n",
       "        text-align: right;\n",
       "    }\n",
       "</style>\n",
       "<table border=\"1\" class=\"dataframe\">\n",
       "  <thead>\n",
       "    <tr style=\"text-align: right;\">\n",
       "      <th></th>\n",
       "      <th>ano</th>\n",
       "      <th>estado</th>\n",
       "      <th>pop</th>\n",
       "      <th>estimativa</th>\n",
       "    </tr>\n",
       "  </thead>\n",
       "  <tbody>\n",
       "    <tr>\n",
       "      <th>0</th>\n",
       "      <td>2019</td>\n",
       "      <td>SP</td>\n",
       "      <td>45.9</td>\n",
       "      <td>50</td>\n",
       "    </tr>\n",
       "    <tr>\n",
       "      <th>1</th>\n",
       "      <td>2019</td>\n",
       "      <td>MG</td>\n",
       "      <td>21.2</td>\n",
       "      <td>50</td>\n",
       "    </tr>\n",
       "    <tr>\n",
       "      <th>2</th>\n",
       "      <td>2019</td>\n",
       "      <td>PR</td>\n",
       "      <td>16.9</td>\n",
       "      <td>50</td>\n",
       "    </tr>\n",
       "    <tr>\n",
       "      <th>3</th>\n",
       "      <td>2020</td>\n",
       "      <td>SP</td>\n",
       "      <td>46.6</td>\n",
       "      <td>50</td>\n",
       "    </tr>\n",
       "    <tr>\n",
       "      <th>4</th>\n",
       "      <td>2020</td>\n",
       "      <td>MG</td>\n",
       "      <td>21.4</td>\n",
       "      <td>50</td>\n",
       "    </tr>\n",
       "    <tr>\n",
       "      <th>5</th>\n",
       "      <td>2020</td>\n",
       "      <td>PR</td>\n",
       "      <td>17.3</td>\n",
       "      <td>50</td>\n",
       "    </tr>\n",
       "  </tbody>\n",
       "</table>\n",
       "</div>"
      ],
      "text/plain": [
       "    ano estado   pop  estimativa\n",
       "0  2019     SP  45.9          50\n",
       "1  2019     MG  21.2          50\n",
       "2  2019     PR  16.9          50\n",
       "3  2020     SP  46.6          50\n",
       "4  2020     MG  21.4          50\n",
       "5  2020     PR  17.3          50"
      ]
     },
     "execution_count": 72,
     "metadata": {},
     "output_type": "execute_result"
    }
   ],
   "source": [
    "df2['estimativa'] = 50\n",
    "df2"
   ]
  },
  {
   "cell_type": "code",
   "execution_count": 74,
   "id": "00b9a7a3-9c4e-4646-87a0-0266ebf375c1",
   "metadata": {
    "tags": []
   },
   "outputs": [
    {
     "data": {
      "text/html": [
       "<div>\n",
       "<style scoped>\n",
       "    .dataframe tbody tr th:only-of-type {\n",
       "        vertical-align: middle;\n",
       "    }\n",
       "\n",
       "    .dataframe tbody tr th {\n",
       "        vertical-align: top;\n",
       "    }\n",
       "\n",
       "    .dataframe thead th {\n",
       "        text-align: right;\n",
       "    }\n",
       "</style>\n",
       "<table border=\"1\" class=\"dataframe\">\n",
       "  <thead>\n",
       "    <tr style=\"text-align: right;\">\n",
       "      <th></th>\n",
       "      <th>ano</th>\n",
       "      <th>estado</th>\n",
       "      <th>pop</th>\n",
       "      <th>estimativa</th>\n",
       "    </tr>\n",
       "  </thead>\n",
       "  <tbody>\n",
       "    <tr>\n",
       "      <th>0</th>\n",
       "      <td>2019</td>\n",
       "      <td>SP</td>\n",
       "      <td>45.9</td>\n",
       "      <td>0</td>\n",
       "    </tr>\n",
       "    <tr>\n",
       "      <th>1</th>\n",
       "      <td>2019</td>\n",
       "      <td>MG</td>\n",
       "      <td>21.2</td>\n",
       "      <td>1</td>\n",
       "    </tr>\n",
       "    <tr>\n",
       "      <th>2</th>\n",
       "      <td>2019</td>\n",
       "      <td>PR</td>\n",
       "      <td>16.9</td>\n",
       "      <td>2</td>\n",
       "    </tr>\n",
       "    <tr>\n",
       "      <th>3</th>\n",
       "      <td>2020</td>\n",
       "      <td>SP</td>\n",
       "      <td>46.6</td>\n",
       "      <td>3</td>\n",
       "    </tr>\n",
       "    <tr>\n",
       "      <th>4</th>\n",
       "      <td>2020</td>\n",
       "      <td>MG</td>\n",
       "      <td>21.4</td>\n",
       "      <td>4</td>\n",
       "    </tr>\n",
       "    <tr>\n",
       "      <th>5</th>\n",
       "      <td>2020</td>\n",
       "      <td>PR</td>\n",
       "      <td>17.3</td>\n",
       "      <td>5</td>\n",
       "    </tr>\n",
       "  </tbody>\n",
       "</table>\n",
       "</div>"
      ],
      "text/plain": [
       "    ano estado   pop  estimativa\n",
       "0  2019     SP  45.9           0\n",
       "1  2019     MG  21.2           1\n",
       "2  2019     PR  16.9           2\n",
       "3  2020     SP  46.6           3\n",
       "4  2020     MG  21.4           4\n",
       "5  2020     PR  17.3           5"
      ]
     },
     "execution_count": 74,
     "metadata": {},
     "output_type": "execute_result"
    }
   ],
   "source": [
    "df2['estimativa'] = np.arange(6)\n",
    "df2"
   ]
  },
  {
   "cell_type": "code",
   "execution_count": 76,
   "id": "570a7f3d-5c6e-44dd-bcab-5c92974271f8",
   "metadata": {
    "tags": []
   },
   "outputs": [
    {
     "data": {
      "text/html": [
       "<div>\n",
       "<style scoped>\n",
       "    .dataframe tbody tr th:only-of-type {\n",
       "        vertical-align: middle;\n",
       "    }\n",
       "\n",
       "    .dataframe tbody tr th {\n",
       "        vertical-align: top;\n",
       "    }\n",
       "\n",
       "    .dataframe thead th {\n",
       "        text-align: right;\n",
       "    }\n",
       "</style>\n",
       "<table border=\"1\" class=\"dataframe\">\n",
       "  <thead>\n",
       "    <tr style=\"text-align: right;\">\n",
       "      <th></th>\n",
       "      <th>ano</th>\n",
       "      <th>estado</th>\n",
       "      <th>pop</th>\n",
       "      <th>estimativa</th>\n",
       "    </tr>\n",
       "  </thead>\n",
       "  <tbody>\n",
       "    <tr>\n",
       "      <th>0</th>\n",
       "      <td>2019</td>\n",
       "      <td>SP</td>\n",
       "      <td>45.9</td>\n",
       "      <td>0</td>\n",
       "    </tr>\n",
       "    <tr>\n",
       "      <th>1</th>\n",
       "      <td>2019</td>\n",
       "      <td>MG</td>\n",
       "      <td>21.2</td>\n",
       "      <td>1</td>\n",
       "    </tr>\n",
       "    <tr>\n",
       "      <th>2</th>\n",
       "      <td>2019</td>\n",
       "      <td>PR</td>\n",
       "      <td>16.9</td>\n",
       "      <td>2</td>\n",
       "    </tr>\n",
       "    <tr>\n",
       "      <th>3</th>\n",
       "      <td>2020</td>\n",
       "      <td>SP</td>\n",
       "      <td>46.6</td>\n",
       "      <td>3</td>\n",
       "    </tr>\n",
       "    <tr>\n",
       "      <th>4</th>\n",
       "      <td>2020</td>\n",
       "      <td>MG</td>\n",
       "      <td>21.4</td>\n",
       "      <td>4</td>\n",
       "    </tr>\n",
       "    <tr>\n",
       "      <th>5</th>\n",
       "      <td>2020</td>\n",
       "      <td>PR</td>\n",
       "      <td>17.3</td>\n",
       "      <td>5</td>\n",
       "    </tr>\n",
       "  </tbody>\n",
       "</table>\n",
       "</div>"
      ],
      "text/plain": [
       "    ano estado   pop  estimativa\n",
       "0  2019     SP  45.9           0\n",
       "1  2019     MG  21.2           1\n",
       "2  2019     PR  16.9           2\n",
       "3  2020     SP  46.6           3\n",
       "4  2020     MG  21.4           4\n",
       "5  2020     PR  17.3           5"
      ]
     },
     "execution_count": 76,
     "metadata": {},
     "output_type": "execute_result"
    }
   ],
   "source": [
    "df3 = df2\n",
    "df3"
   ]
  },
  {
   "cell_type": "code",
   "execution_count": 78,
   "id": "a7b34774-7ccc-4f69-8d6b-124e2f284027",
   "metadata": {
    "tags": []
   },
   "outputs": [
    {
     "data": {
      "text/plain": [
       "0    2019\n",
       "1    2019\n",
       "2    2019\n",
       "3    2020\n",
       "4    2020\n",
       "5    2020\n",
       "Name: ano, dtype: int64"
      ]
     },
     "execution_count": 78,
     "metadata": {},
     "output_type": "execute_result"
    }
   ],
   "source": [
    "df3 = df2['ano']\n",
    "df3"
   ]
  },
  {
   "cell_type": "code",
   "execution_count": null,
   "id": "9b8f9f30-1fa3-4070-b43a-3f9aac157535",
   "metadata": {},
   "outputs": [],
   "source": []
  }
 ],
 "metadata": {
  "kernelspec": {
   "display_name": "Python 3 (ipykernel)",
   "language": "python",
   "name": "python3"
  },
  "language_info": {
   "codemirror_mode": {
    "name": "ipython",
    "version": 3
   },
   "file_extension": ".py",
   "mimetype": "text/x-python",
   "name": "python",
   "nbconvert_exporter": "python",
   "pygments_lexer": "ipython3",
   "version": "3.9.18"
  }
 },
 "nbformat": 4,
 "nbformat_minor": 5
}
